{
 "cells": [
  {
   "cell_type": "code",
   "execution_count": 1,
   "metadata": {
    "id": "buR5tEIosPOg"
   },
   "outputs": [],
   "source": [
    "import pandas as pd\n",
    "import numpy as np\n",
    "import math"
   ]
  },
  {
   "cell_type": "code",
   "execution_count": 2,
   "metadata": {
    "id": "fxqGzXecrh1Z"
   },
   "outputs": [],
   "source": [
    "data = pd.read_csv(\"IR-assignment-2-data.txt\", sep=' ', header=None)\n",
    "data.to_csv('IR_A2_Q3.csv', index = None)"
   ]
  },
  {
   "cell_type": "code",
   "execution_count": 3,
   "metadata": {
    "colab": {
     "base_uri": "https://localhost:8080/",
     "height": 439
    },
    "id": "Mv0ct6ryroQS",
    "outputId": "09cbb2ab-86bd-43ac-bacf-6bfb2a9f8be4"
   },
   "outputs": [
    {
     "data": {
      "text/plain": [
       "0           75:90.53171\n",
       "1         75:538.388954\n",
       "2          75:88.171761\n",
       "3         75:144.564444\n",
       "4         75:142.589323\n",
       "              ...      \n",
       "239088    75:123.200543\n",
       "239089     75:24.981669\n",
       "239090     75:94.323435\n",
       "239091     75:67.916264\n",
       "239092    75:127.427666\n",
       "Name: 76, Length: 239093, dtype: object"
      ]
     },
     "execution_count": 3,
     "metadata": {},
     "output_type": "execute_result"
    }
   ],
   "source": [
    "data[76]"
   ]
  },
  {
   "cell_type": "code",
   "execution_count": 4,
   "metadata": {
    "id": "7Aq-eXcbueKO"
   },
   "outputs": [],
   "source": [
    "data = data[data[1] == 'qid:4']"
   ]
  },
  {
   "cell_type": "code",
   "execution_count": 11,
   "metadata": {},
   "outputs": [
    {
     "name": "stdout",
     "output_type": "stream",
     "text": [
      "Total 19893497375938370599826047614905329896936840170566570588205180312704857992695193482412686565431050240000000000000000000000 files can be made.\n"
     ]
    }
   ],
   "source": [
    "ans = 1\n",
    "temp = []\n",
    "range = data[0].unique()\n",
    "\n",
    "for i in range:\n",
    "    temp.append(len(data[data[0]==i]))\n",
    "    ans = ans * math.factorial(len(data[data[0]==i]))\n",
    "\n",
    "new_data = data.sort_values(by = 0, ascending = False )\n",
    "new_data = new_data.reset_index(drop=True)\n",
    "new_data.to_csv('InOrderMaxDCG.csv')\n",
    "print(f\"Total {ans} files can be made.\")"
   ]
  },
  {
   "cell_type": "code",
   "execution_count": 6,
   "metadata": {
    "colab": {
     "base_uri": "https://localhost:8080/",
     "height": 439
    },
    "id": "jWjlFp-zuueD",
    "outputId": "2685f6cb-3ca4-440e-e903-92515346a721"
   },
   "outputs": [
    {
     "data": {
      "text/plain": [
       "0        75:90.53171\n",
       "1      75:538.388954\n",
       "2       75:88.171761\n",
       "3      75:144.564444\n",
       "4      75:142.589323\n",
       "           ...      \n",
       "98      75:70.460443\n",
       "99      75:270.13233\n",
       "100    75:296.023694\n",
       "101    75:528.520116\n",
       "102     75:84.625987\n",
       "Name: 76, Length: 103, dtype: object"
      ]
     },
     "execution_count": 6,
     "metadata": {},
     "output_type": "execute_result"
    }
   ],
   "source": [
    "data[76]"
   ]
  },
  {
   "cell_type": "code",
   "execution_count": 7,
   "metadata": {
    "id": "l0oE0sdcbPxZ"
   },
   "outputs": [],
   "source": [
    "data1 = data.sort_values(by=0, ascending=False)"
   ]
  },
  {
   "cell_type": "code",
   "execution_count": 8,
   "metadata": {
    "id": "rrHXOJC9oglT"
   },
   "outputs": [],
   "source": [
    "def findDCG(data_p, k):\n",
    "    data_p = np.asfarray(data_p)[:k]\n",
    "    dcg = data_p[0] + np.sum(data_p[1:] / np.log2(np.arange(2, data_p.size + 1)))\n",
    "    return dcg"
   ]
  },
  {
   "cell_type": "code",
   "execution_count": 9,
   "metadata": {
    "scrolled": true
   },
   "outputs": [
    {
     "name": "stdout",
     "output_type": "stream",
     "text": [
      "7.39058096925802\n"
     ]
    }
   ],
   "source": [
    "x  = findDCG(data[0], 50)\n",
    "print(x)\n"
   ]
  },
  {
   "cell_type": "code",
   "execution_count": 10,
   "metadata": {},
   "outputs": [
    {
     "ename": "TypeError",
     "evalue": "'numpy.ndarray' object is not callable",
     "output_type": "error",
     "traceback": [
      "\u001b[1;31m---------------------------------------------------------------------------\u001b[0m",
      "\u001b[1;31mTypeError\u001b[0m                                 Traceback (most recent call last)",
      "\u001b[1;32m<ipython-input-10-04ef4562eb40>\u001b[0m in \u001b[0;36m<module>\u001b[1;34m\u001b[0m\n\u001b[0;32m      1\u001b[0m \u001b[0mlists\u001b[0m \u001b[1;33m=\u001b[0m \u001b[1;33m[\u001b[0m\u001b[1;33m]\u001b[0m\u001b[1;33m\u001b[0m\u001b[1;33m\u001b[0m\u001b[0m\n\u001b[1;32m----> 2\u001b[1;33m \u001b[1;32mfor\u001b[0m \u001b[0mi\u001b[0m \u001b[1;32min\u001b[0m \u001b[0mrange\u001b[0m \u001b[1;33m(\u001b[0m\u001b[1;36m1\u001b[0m\u001b[1;33m,\u001b[0m\u001b[1;36m104\u001b[0m\u001b[1;33m)\u001b[0m\u001b[1;33m:\u001b[0m\u001b[1;33m\u001b[0m\u001b[1;33m\u001b[0m\u001b[0m\n\u001b[0m\u001b[0;32m      3\u001b[0m     \u001b[0mlists\u001b[0m\u001b[1;33m.\u001b[0m\u001b[0mappend\u001b[0m\u001b[1;33m(\u001b[0m\u001b[0mfindDCG\u001b[0m\u001b[1;33m(\u001b[0m\u001b[0mdata1\u001b[0m\u001b[1;33m[\u001b[0m\u001b[1;36m0\u001b[0m\u001b[1;33m]\u001b[0m\u001b[1;33m,\u001b[0m\u001b[0mi\u001b[0m\u001b[1;33m)\u001b[0m\u001b[1;33m)\u001b[0m\u001b[1;33m\u001b[0m\u001b[1;33m\u001b[0m\u001b[0m\n\u001b[0;32m      4\u001b[0m \u001b[0mprint\u001b[0m\u001b[1;33m(\u001b[0m\u001b[1;34m\"Max DCG is: \"\u001b[0m\u001b[1;33m,\u001b[0m\u001b[0mmax\u001b[0m\u001b[1;33m(\u001b[0m\u001b[0mlists\u001b[0m\u001b[1;33m)\u001b[0m\u001b[1;33m)\u001b[0m\u001b[1;33m\u001b[0m\u001b[1;33m\u001b[0m\u001b[0m\n",
      "\u001b[1;31mTypeError\u001b[0m: 'numpy.ndarray' object is not callable"
     ]
    }
   ],
   "source": [
    "lists = []\n",
    "for i in range (1,104):\n",
    "    lists.append(findDCG(data1[0],i))\n",
    "print(\"Max DCG is: \",max(lists))"
   ]
  },
  {
   "cell_type": "code",
   "execution_count": null,
   "metadata": {
    "id": "aaZSLTA-oIGX"
   },
   "outputs": [],
   "source": [
    "def findNDCG(r, k):\n",
    "    denominator = findDCG(data1[0], k)\n",
    "    numerator = findDCG(r, k)\n",
    "    value = numerator/denominator\n",
    "    return  value"
   ]
  },
  {
   "cell_type": "code",
   "execution_count": null,
   "metadata": {
    "colab": {
     "base_uri": "https://localhost:8080/"
    },
    "id": "WXL8oSpkoM5h",
    "outputId": "e9f069ae-e506-4551-cd27-5b31483637c1"
   },
   "outputs": [],
   "source": [
    "print(f\"nDCG at 50 : {findNDCG(data[0],50)}\")"
   ]
  },
  {
   "cell_type": "code",
   "execution_count": null,
   "metadata": {},
   "outputs": [],
   "source": [
    "print(f\"nDCG for document : {findNDCG(data[0],len(data))}\")"
   ]
  },
  {
   "cell_type": "code",
   "execution_count": null,
   "metadata": {},
   "outputs": [],
   "source": [
    "xm = data[76]\n",
    "xo = data[0]\n",
    "xml = xm.tolist()\n",
    "xol = xo.tolist()\n",
    "j=0\n",
    "for innerlist in xml:\n",
    "    if innerlist[0] == \"7\" and innerlist[1] == \"5\" and innerlist[2] == \":\":\n",
    "      innerlist = innerlist[3:]\n",
    "      xml[j] = innerlist\n",
    "    j = j+1\n",
    "xmlf = [float(i) for i in xml]"
   ]
  },
  {
   "cell_type": "code",
   "execution_count": null,
   "metadata": {},
   "outputs": [],
   "source": [
    "import matplotlib.pyplot as plt\n",
    "total_relevant=0\n",
    "precision_list=[]\n",
    "recall_list=[]\n",
    "total=0\n",
    "current_relevant=0\n",
    "sorted_rel = [x for y,x in sorted(zip(xmlf,xol),reverse=True)]\n",
    "sorted_rel2 = [(y,x) for y,x in sorted(zip(xmlf,xol),reverse=True)]\n",
    "\n",
    "for x in sorted_rel:\n",
    "    if x == 0:\n",
    "        total_relevant = total_relevant\n",
    "    else:\n",
    "        total_relevant+=1\n",
    "\n",
    "\n",
    "for x in sorted_rel:\n",
    "    total= total + 1\n",
    "    if x==0:\n",
    "        current_relevant = current_relevant\n",
    "    else:\n",
    "        current_relevant+=1\n",
    "    precision_list.append(current_relevant/total)\n",
    "    recall_list.append(current_relevant/total_relevant)\n",
    "plt.plot(recall_list,precision_list)\n",
    "plt.xlabel(\"Recall\")\n",
    "plt.ylabel(\"Precision\")\n",
    "plt.show()\n"
   ]
  },
  {
   "cell_type": "code",
   "execution_count": null,
   "metadata": {},
   "outputs": [],
   "source": [
    "print(sorted_rel2)"
   ]
  },
  {
   "cell_type": "code",
   "execution_count": null,
   "metadata": {},
   "outputs": [],
   "source": []
  }
 ],
 "metadata": {
  "colab": {
   "collapsed_sections": [],
   "name": "IR_A2_Q3.ipynb",
   "provenance": []
  },
  "kernelspec": {
   "display_name": "Python 3",
   "language": "python",
   "name": "python3"
  },
  "language_info": {
   "codemirror_mode": {
    "name": "ipython",
    "version": 3
   },
   "file_extension": ".py",
   "mimetype": "text/x-python",
   "name": "python",
   "nbconvert_exporter": "python",
   "pygments_lexer": "ipython3",
   "version": "3.8.3"
  }
 },
 "nbformat": 4,
 "nbformat_minor": 1
}
