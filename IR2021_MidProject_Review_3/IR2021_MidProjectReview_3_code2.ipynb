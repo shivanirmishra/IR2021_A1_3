{
  "nbformat": 4,
  "nbformat_minor": 0,
  "metadata": {
    "colab": {
      "name": "SongData (1).ipynb",
      "provenance": []
    },
    "kernelspec": {
      "name": "python3",
      "display_name": "Python 3"
    },
    "language_info": {
      "name": "python"
    }
  },
  "cells": [
    {
      "cell_type": "code",
      "metadata": {
        "id": "M69ghg8PCmIN",
        "colab": {
          "base_uri": "https://localhost:8080/"
        },
        "outputId": "2754adbb-90ce-4a41-d452-3c5d65c9a0d5"
      },
      "source": [
        "import pandas as pd\n",
        "import numpy as np\n",
        "from typing import List, Dict\n",
        "from sklearn.feature_extraction.text import TfidfVectorizer\n",
        "from sklearn.metrics.pairwise import cosine_similarity\n",
        "import regex as re\n",
        "import nltk\n",
        "nltk.download('punkt')\n",
        "nltk.download('wordnet')\n",
        "nltk.download ('stopwords')\n",
        "from nltk.corpus import stopwords "
      ],
      "execution_count": null,
      "outputs": [
        {
          "output_type": "stream",
          "text": [
            "[nltk_data] Downloading package punkt to /root/nltk_data...\n",
            "[nltk_data]   Unzipping tokenizers/punkt.zip.\n",
            "[nltk_data] Downloading package wordnet to /root/nltk_data...\n",
            "[nltk_data]   Unzipping corpora/wordnet.zip.\n",
            "[nltk_data] Downloading package stopwords to /root/nltk_data...\n",
            "[nltk_data]   Unzipping corpora/stopwords.zip.\n"
          ],
          "name": "stdout"
        }
      ]
    },
    {
      "cell_type": "code",
      "metadata": {
        "colab": {
          "base_uri": "https://localhost:8080/"
        },
        "id": "Cua3B8-MDBpq",
        "outputId": "90f6d49f-2b21-422e-e1c9-e199ef0a8698"
      },
      "source": [
        "from google.colab import drive\n",
        "drive.mount('/content/drive')\n",
        "%cd /content/drive/My Drive/dataset/IRproject"
      ],
      "execution_count": null,
      "outputs": [
        {
          "output_type": "stream",
          "text": [
            "Mounted at /content/drive\n",
            "/content/drive/My Drive/dataset/IRproject\n"
          ],
          "name": "stdout"
        }
      ]
    },
    {
      "cell_type": "code",
      "metadata": {
        "colab": {
          "base_uri": "https://localhost:8080/",
          "height": 419
        },
        "id": "gkD1uzT6DLsX",
        "outputId": "e2293394-50f7-4de6-a5cc-a01b3929584e"
      },
      "source": [
        "songs = pd.read_csv('songdata.csv')\n",
        "songs"
      ],
      "execution_count": null,
      "outputs": [
        {
          "output_type": "execute_result",
          "data": {
            "text/html": [
              "<div>\n",
              "<style scoped>\n",
              "    .dataframe tbody tr th:only-of-type {\n",
              "        vertical-align: middle;\n",
              "    }\n",
              "\n",
              "    .dataframe tbody tr th {\n",
              "        vertical-align: top;\n",
              "    }\n",
              "\n",
              "    .dataframe thead th {\n",
              "        text-align: right;\n",
              "    }\n",
              "</style>\n",
              "<table border=\"1\" class=\"dataframe\">\n",
              "  <thead>\n",
              "    <tr style=\"text-align: right;\">\n",
              "      <th></th>\n",
              "      <th>artist</th>\n",
              "      <th>song</th>\n",
              "      <th>link</th>\n",
              "      <th>text</th>\n",
              "    </tr>\n",
              "  </thead>\n",
              "  <tbody>\n",
              "    <tr>\n",
              "      <th>0</th>\n",
              "      <td>ABBA</td>\n",
              "      <td>Ahe's My Kind Of Girl</td>\n",
              "      <td>/a/abba/ahes+my+kind+of+girl_20598417.html</td>\n",
              "      <td>Look at her face, it's a wonderful face  \\nAnd...</td>\n",
              "    </tr>\n",
              "    <tr>\n",
              "      <th>1</th>\n",
              "      <td>ABBA</td>\n",
              "      <td>Andante, Andante</td>\n",
              "      <td>/a/abba/andante+andante_20002708.html</td>\n",
              "      <td>Take it easy with me, please  \\nTouch me gentl...</td>\n",
              "    </tr>\n",
              "    <tr>\n",
              "      <th>2</th>\n",
              "      <td>ABBA</td>\n",
              "      <td>As Good As New</td>\n",
              "      <td>/a/abba/as+good+as+new_20003033.html</td>\n",
              "      <td>I'll never know why I had to go  \\nWhy I had t...</td>\n",
              "    </tr>\n",
              "    <tr>\n",
              "      <th>3</th>\n",
              "      <td>ABBA</td>\n",
              "      <td>Bang</td>\n",
              "      <td>/a/abba/bang_20598415.html</td>\n",
              "      <td>Making somebody happy is a question of give an...</td>\n",
              "    </tr>\n",
              "    <tr>\n",
              "      <th>4</th>\n",
              "      <td>ABBA</td>\n",
              "      <td>Bang-A-Boomerang</td>\n",
              "      <td>/a/abba/bang+a+boomerang_20002668.html</td>\n",
              "      <td>Making somebody happy is a question of give an...</td>\n",
              "    </tr>\n",
              "    <tr>\n",
              "      <th>...</th>\n",
              "      <td>...</td>\n",
              "      <td>...</td>\n",
              "      <td>...</td>\n",
              "      <td>...</td>\n",
              "    </tr>\n",
              "    <tr>\n",
              "      <th>57645</th>\n",
              "      <td>Ziggy Marley</td>\n",
              "      <td>Good Old Days</td>\n",
              "      <td>/z/ziggy+marley/good+old+days_10198588.html</td>\n",
              "      <td>Irie days come on play  \\nLet the angels fly l...</td>\n",
              "    </tr>\n",
              "    <tr>\n",
              "      <th>57646</th>\n",
              "      <td>Ziggy Marley</td>\n",
              "      <td>Hand To Mouth</td>\n",
              "      <td>/z/ziggy+marley/hand+to+mouth_20531167.html</td>\n",
              "      <td>Power to the workers  \\nMore power  \\nPower to...</td>\n",
              "    </tr>\n",
              "    <tr>\n",
              "      <th>57647</th>\n",
              "      <td>Zwan</td>\n",
              "      <td>Come With Me</td>\n",
              "      <td>/z/zwan/come+with+me_20148981.html</td>\n",
              "      <td>all you need  \\nis something i'll believe  \\nf...</td>\n",
              "    </tr>\n",
              "    <tr>\n",
              "      <th>57648</th>\n",
              "      <td>Zwan</td>\n",
              "      <td>Desire</td>\n",
              "      <td>/z/zwan/desire_20148986.html</td>\n",
              "      <td>northern star  \\nam i frightened  \\nwhere can ...</td>\n",
              "    </tr>\n",
              "    <tr>\n",
              "      <th>57649</th>\n",
              "      <td>Zwan</td>\n",
              "      <td>Heartsong</td>\n",
              "      <td>/z/zwan/heartsong_20148991.html</td>\n",
              "      <td>come in  \\nmake yourself at home  \\ni'm a bit ...</td>\n",
              "    </tr>\n",
              "  </tbody>\n",
              "</table>\n",
              "<p>57650 rows × 4 columns</p>\n",
              "</div>"
            ],
            "text/plain": [
              "             artist  ...                                               text\n",
              "0              ABBA  ...  Look at her face, it's a wonderful face  \\nAnd...\n",
              "1              ABBA  ...  Take it easy with me, please  \\nTouch me gentl...\n",
              "2              ABBA  ...  I'll never know why I had to go  \\nWhy I had t...\n",
              "3              ABBA  ...  Making somebody happy is a question of give an...\n",
              "4              ABBA  ...  Making somebody happy is a question of give an...\n",
              "...             ...  ...                                                ...\n",
              "57645  Ziggy Marley  ...  Irie days come on play  \\nLet the angels fly l...\n",
              "57646  Ziggy Marley  ...  Power to the workers  \\nMore power  \\nPower to...\n",
              "57647          Zwan  ...  all you need  \\nis something i'll believe  \\nf...\n",
              "57648          Zwan  ...  northern star  \\nam i frightened  \\nwhere can ...\n",
              "57649          Zwan  ...  come in  \\nmake yourself at home  \\ni'm a bit ...\n",
              "\n",
              "[57650 rows x 4 columns]"
            ]
          },
          "metadata": {
            "tags": []
          },
          "execution_count": 3
        }
      ]
    },
    {
      "cell_type": "code",
      "metadata": {
        "id": "Z2CPuxTRQEoV"
      },
      "source": [
        "songs2 = songs\n",
        "songs = songs2[0:10000]"
      ],
      "execution_count": null,
      "outputs": []
    },
    {
      "cell_type": "code",
      "metadata": {
        "colab": {
          "base_uri": "https://localhost:8080/",
          "height": 419
        },
        "id": "ln2i-Cs4QVxq",
        "outputId": "b642cdca-4a52-4be9-d583-715120840578"
      },
      "source": [
        "songs"
      ],
      "execution_count": null,
      "outputs": [
        {
          "output_type": "execute_result",
          "data": {
            "text/html": [
              "<div>\n",
              "<style scoped>\n",
              "    .dataframe tbody tr th:only-of-type {\n",
              "        vertical-align: middle;\n",
              "    }\n",
              "\n",
              "    .dataframe tbody tr th {\n",
              "        vertical-align: top;\n",
              "    }\n",
              "\n",
              "    .dataframe thead th {\n",
              "        text-align: right;\n",
              "    }\n",
              "</style>\n",
              "<table border=\"1\" class=\"dataframe\">\n",
              "  <thead>\n",
              "    <tr style=\"text-align: right;\">\n",
              "      <th></th>\n",
              "      <th>artist</th>\n",
              "      <th>song</th>\n",
              "      <th>link</th>\n",
              "      <th>text</th>\n",
              "    </tr>\n",
              "  </thead>\n",
              "  <tbody>\n",
              "    <tr>\n",
              "      <th>0</th>\n",
              "      <td>ABBA</td>\n",
              "      <td>Ahe's My Kind Of Girl</td>\n",
              "      <td>/a/abba/ahes+my+kind+of+girl_20598417.html</td>\n",
              "      <td>Look at her face, it's a wonderful face  \\nAnd...</td>\n",
              "    </tr>\n",
              "    <tr>\n",
              "      <th>1</th>\n",
              "      <td>ABBA</td>\n",
              "      <td>Andante, Andante</td>\n",
              "      <td>/a/abba/andante+andante_20002708.html</td>\n",
              "      <td>Take it easy with me, please  \\nTouch me gentl...</td>\n",
              "    </tr>\n",
              "    <tr>\n",
              "      <th>2</th>\n",
              "      <td>ABBA</td>\n",
              "      <td>As Good As New</td>\n",
              "      <td>/a/abba/as+good+as+new_20003033.html</td>\n",
              "      <td>I'll never know why I had to go  \\nWhy I had t...</td>\n",
              "    </tr>\n",
              "    <tr>\n",
              "      <th>3</th>\n",
              "      <td>ABBA</td>\n",
              "      <td>Bang</td>\n",
              "      <td>/a/abba/bang_20598415.html</td>\n",
              "      <td>Making somebody happy is a question of give an...</td>\n",
              "    </tr>\n",
              "    <tr>\n",
              "      <th>4</th>\n",
              "      <td>ABBA</td>\n",
              "      <td>Bang-A-Boomerang</td>\n",
              "      <td>/a/abba/bang+a+boomerang_20002668.html</td>\n",
              "      <td>Making somebody happy is a question of give an...</td>\n",
              "    </tr>\n",
              "    <tr>\n",
              "      <th>...</th>\n",
              "      <td>...</td>\n",
              "      <td>...</td>\n",
              "      <td>...</td>\n",
              "      <td>...</td>\n",
              "    </tr>\n",
              "    <tr>\n",
              "      <th>9995</th>\n",
              "      <td>Justin Bieber</td>\n",
              "      <td>All Bad</td>\n",
              "      <td>/j/justin+bieber/all+bad_21071754.html</td>\n",
              "      <td>[Verse:]  \\nIt's another, if it ain't one thin...</td>\n",
              "    </tr>\n",
              "    <tr>\n",
              "      <th>9996</th>\n",
              "      <td>Justin Bieber</td>\n",
              "      <td>All I Want Is You</td>\n",
              "      <td>/j/justin+bieber/all+i+want+is+you_20985618.html</td>\n",
              "      <td>Sitting here all alone watching the snow fall ...</td>\n",
              "    </tr>\n",
              "    <tr>\n",
              "      <th>9997</th>\n",
              "      <td>Justin Bieber</td>\n",
              "      <td>As Long As You Love Me</td>\n",
              "      <td>/j/justin+bieber/as+long+as+you+love+me_210218...</td>\n",
              "      <td>As long as you love me (love me, love me)  \\nA...</td>\n",
              "    </tr>\n",
              "    <tr>\n",
              "      <th>9998</th>\n",
              "      <td>Justin Bieber</td>\n",
              "      <td>Baby Lady</td>\n",
              "      <td>/j/justin+bieber/baby+lady_20467491.html</td>\n",
              "      <td>Put me in a outfit from the gap like that. One...</td>\n",
              "    </tr>\n",
              "    <tr>\n",
              "      <th>9999</th>\n",
              "      <td>Justin Bieber</td>\n",
              "      <td>Beauty And A Beat</td>\n",
              "      <td>/j/justin+bieber/beauty+and+a+beat_21019768.html</td>\n",
              "      <td>Young Money, Nicki Minaj, Justin  \\n  \\nShow y...</td>\n",
              "    </tr>\n",
              "  </tbody>\n",
              "</table>\n",
              "<p>10000 rows × 4 columns</p>\n",
              "</div>"
            ],
            "text/plain": [
              "             artist  ...                                               text\n",
              "0              ABBA  ...  Look at her face, it's a wonderful face  \\nAnd...\n",
              "1              ABBA  ...  Take it easy with me, please  \\nTouch me gentl...\n",
              "2              ABBA  ...  I'll never know why I had to go  \\nWhy I had t...\n",
              "3              ABBA  ...  Making somebody happy is a question of give an...\n",
              "4              ABBA  ...  Making somebody happy is a question of give an...\n",
              "...             ...  ...                                                ...\n",
              "9995  Justin Bieber  ...  [Verse:]  \\nIt's another, if it ain't one thin...\n",
              "9996  Justin Bieber  ...  Sitting here all alone watching the snow fall ...\n",
              "9997  Justin Bieber  ...  As long as you love me (love me, love me)  \\nA...\n",
              "9998  Justin Bieber  ...  Put me in a outfit from the gap like that. One...\n",
              "9999  Justin Bieber  ...  Young Money, Nicki Minaj, Justin  \\n  \\nShow y...\n",
              "\n",
              "[10000 rows x 4 columns]"
            ]
          },
          "metadata": {
            "tags": []
          },
          "execution_count": 5
        }
      ]
    },
    {
      "cell_type": "code",
      "metadata": {
        "id": "nVxzGopVQm4n"
      },
      "source": [
        "def preprocess(texts):\n",
        "  stopword = stopwords.words('english')\n",
        "  clean_text = ' '.join([word for word in texts.split()if word not in stopword]) \n",
        "  clean_text = re.sub('\\n','',clean_text)\n",
        "  clean_text = clean_text.lower()\n",
        "  clean_text = re.sub(r'\\[[^)]*\\]','',clean_text)\n",
        "  return clean_text\n"
      ],
      "execution_count": null,
      "outputs": []
    },
    {
      "cell_type": "code",
      "metadata": {
        "colab": {
          "base_uri": "https://localhost:8080/",
          "height": 674
        },
        "id": "zyC9JiMhSYeJ",
        "outputId": "0d1ae705-9d65-4d72-9633-4ebfe3201c67"
      },
      "source": [
        "songs['Cleaned_text'] = songs['text'].apply(lambda text: preprocess(text))\n",
        "songs"
      ],
      "execution_count": null,
      "outputs": [
        {
          "output_type": "stream",
          "text": [
            "/usr/local/lib/python3.7/dist-packages/ipykernel_launcher.py:1: SettingWithCopyWarning: \n",
            "A value is trying to be set on a copy of a slice from a DataFrame.\n",
            "Try using .loc[row_indexer,col_indexer] = value instead\n",
            "\n",
            "See the caveats in the documentation: https://pandas.pydata.org/pandas-docs/stable/user_guide/indexing.html#returning-a-view-versus-a-copy\n",
            "  \"\"\"Entry point for launching an IPython kernel.\n"
          ],
          "name": "stderr"
        },
        {
          "output_type": "execute_result",
          "data": {
            "text/html": [
              "<div>\n",
              "<style scoped>\n",
              "    .dataframe tbody tr th:only-of-type {\n",
              "        vertical-align: middle;\n",
              "    }\n",
              "\n",
              "    .dataframe tbody tr th {\n",
              "        vertical-align: top;\n",
              "    }\n",
              "\n",
              "    .dataframe thead th {\n",
              "        text-align: right;\n",
              "    }\n",
              "</style>\n",
              "<table border=\"1\" class=\"dataframe\">\n",
              "  <thead>\n",
              "    <tr style=\"text-align: right;\">\n",
              "      <th></th>\n",
              "      <th>artist</th>\n",
              "      <th>song</th>\n",
              "      <th>link</th>\n",
              "      <th>text</th>\n",
              "      <th>Cleaned_text</th>\n",
              "    </tr>\n",
              "  </thead>\n",
              "  <tbody>\n",
              "    <tr>\n",
              "      <th>0</th>\n",
              "      <td>ABBA</td>\n",
              "      <td>Ahe's My Kind Of Girl</td>\n",
              "      <td>/a/abba/ahes+my+kind+of+girl_20598417.html</td>\n",
              "      <td>Look at her face, it's a wonderful face  \\nAnd...</td>\n",
              "      <td>look face, wonderful face and means something ...</td>\n",
              "    </tr>\n",
              "    <tr>\n",
              "      <th>1</th>\n",
              "      <td>ABBA</td>\n",
              "      <td>Andante, Andante</td>\n",
              "      <td>/a/abba/andante+andante_20002708.html</td>\n",
              "      <td>Take it easy with me, please  \\nTouch me gentl...</td>\n",
              "      <td>take easy me, please touch gently like summer ...</td>\n",
              "    </tr>\n",
              "    <tr>\n",
              "      <th>2</th>\n",
              "      <td>ABBA</td>\n",
              "      <td>As Good As New</td>\n",
              "      <td>/a/abba/as+good+as+new_20003033.html</td>\n",
              "      <td>I'll never know why I had to go  \\nWhy I had t...</td>\n",
              "      <td>i'll never know i go why i put lousy rotten sh...</td>\n",
              "    </tr>\n",
              "    <tr>\n",
              "      <th>3</th>\n",
              "      <td>ABBA</td>\n",
              "      <td>Bang</td>\n",
              "      <td>/a/abba/bang_20598415.html</td>\n",
              "      <td>Making somebody happy is a question of give an...</td>\n",
              "      <td>making somebody happy question give take you l...</td>\n",
              "    </tr>\n",
              "    <tr>\n",
              "      <th>4</th>\n",
              "      <td>ABBA</td>\n",
              "      <td>Bang-A-Boomerang</td>\n",
              "      <td>/a/abba/bang+a+boomerang_20002668.html</td>\n",
              "      <td>Making somebody happy is a question of give an...</td>\n",
              "      <td>making somebody happy question give take you l...</td>\n",
              "    </tr>\n",
              "    <tr>\n",
              "      <th>...</th>\n",
              "      <td>...</td>\n",
              "      <td>...</td>\n",
              "      <td>...</td>\n",
              "      <td>...</td>\n",
              "      <td>...</td>\n",
              "    </tr>\n",
              "    <tr>\n",
              "      <th>9995</th>\n",
              "      <td>Justin Bieber</td>\n",
              "      <td>All Bad</td>\n",
              "      <td>/j/justin+bieber/all+bad_21071754.html</td>\n",
              "      <td>[Verse:]  \\nIt's another, if it ain't one thin...</td>\n",
              "      <td>it's another, ain't one thing instigators, li...</td>\n",
              "    </tr>\n",
              "    <tr>\n",
              "      <th>9996</th>\n",
              "      <td>Justin Bieber</td>\n",
              "      <td>All I Want Is You</td>\n",
              "      <td>/j/justin+bieber/all+i+want+is+you_20985618.html</td>\n",
              "      <td>Sitting here all alone watching the snow fall ...</td>\n",
              "      <td>sitting alone watching snow fall looking back ...</td>\n",
              "    </tr>\n",
              "    <tr>\n",
              "      <th>9997</th>\n",
              "      <td>Justin Bieber</td>\n",
              "      <td>As Long As You Love Me</td>\n",
              "      <td>/j/justin+bieber/as+long+as+you+love+me_210218...</td>\n",
              "      <td>As long as you love me (love me, love me)  \\nA...</td>\n",
              "      <td>as long love (love me, love me) as long love (...</td>\n",
              "    </tr>\n",
              "    <tr>\n",
              "      <th>9998</th>\n",
              "      <td>Justin Bieber</td>\n",
              "      <td>Baby Lady</td>\n",
              "      <td>/j/justin+bieber/baby+lady_20467491.html</td>\n",
              "      <td>Put me in a outfit from the gap like that. One...</td>\n",
              "      <td>put outfit gap like that. one matches with jac...</td>\n",
              "    </tr>\n",
              "    <tr>\n",
              "      <th>9999</th>\n",
              "      <td>Justin Bieber</td>\n",
              "      <td>Beauty And A Beat</td>\n",
              "      <td>/j/justin+bieber/beauty+and+a+beat_21019768.html</td>\n",
              "      <td>Young Money, Nicki Minaj, Justin  \\n  \\nShow y...</td>\n",
              "      <td>young money, nicki minaj, justin show off, ton...</td>\n",
              "    </tr>\n",
              "  </tbody>\n",
              "</table>\n",
              "<p>10000 rows × 5 columns</p>\n",
              "</div>"
            ],
            "text/plain": [
              "             artist  ...                                       Cleaned_text\n",
              "0              ABBA  ...  look face, wonderful face and means something ...\n",
              "1              ABBA  ...  take easy me, please touch gently like summer ...\n",
              "2              ABBA  ...  i'll never know i go why i put lousy rotten sh...\n",
              "3              ABBA  ...  making somebody happy question give take you l...\n",
              "4              ABBA  ...  making somebody happy question give take you l...\n",
              "...             ...  ...                                                ...\n",
              "9995  Justin Bieber  ...   it's another, ain't one thing instigators, li...\n",
              "9996  Justin Bieber  ...  sitting alone watching snow fall looking back ...\n",
              "9997  Justin Bieber  ...  as long love (love me, love me) as long love (...\n",
              "9998  Justin Bieber  ...  put outfit gap like that. one matches with jac...\n",
              "9999  Justin Bieber  ...  young money, nicki minaj, justin show off, ton...\n",
              "\n",
              "[10000 rows x 5 columns]"
            ]
          },
          "metadata": {
            "tags": []
          },
          "execution_count": 7
        }
      ]
    },
    {
      "cell_type": "code",
      "metadata": {
        "id": "L9mFKTSufJ8s"
      },
      "source": [
        "tfidf = TfidfVectorizer()"
      ],
      "execution_count": null,
      "outputs": []
    },
    {
      "cell_type": "code",
      "metadata": {
        "id": "0iMzrHZlTa-1"
      },
      "source": [
        "lyrics_matrix = tfidf.fit_transform(songs['Cleaned_text'])"
      ],
      "execution_count": null,
      "outputs": []
    },
    {
      "cell_type": "code",
      "metadata": {
        "id": "nz8EU1QyTggK"
      },
      "source": [
        "cosine_similarities = cosine_similarity(lyrics_matrix)"
      ],
      "execution_count": null,
      "outputs": []
    },
    {
      "cell_type": "code",
      "metadata": {
        "id": "I51q2gNbTncm"
      },
      "source": [
        "\n",
        "similarities = {}\n",
        "for i in range(len(cosine_similarities)):\n",
        "    similar_indices = cosine_similarities[i].argsort()[:-50:-1] \n",
        "    similarities[songs['song'].iloc[i]] = [(cosine_similarities[i][x], songs['song'][x], songs['artist'][x]) for x in similar_indices]"
      ],
      "execution_count": null,
      "outputs": []
    },
    {
      "cell_type": "code",
      "metadata": {
        "id": "2CWB98eixGWy"
      },
      "source": [
        "def _print(song, recom_song):\n",
        "    item = len(recom_song)\n",
        "        \n",
        "    print('Recommended songs for {song} are:')\n",
        "    for i in range(item):\n",
        "      print(i+1)\n",
        "      print(f\"{recom_song[i][1]} by {recom_song[i][2]}\")\n",
        "      print(f\"Similarity score : {round(recom_song[i][0], 3)}\")\n",
        "        \n",
        "def recommend(song,number_songs,matrix_similar):\n",
        "    recom_song_temp = matrix_similar[song][:(number_songs+1)]\n",
        "    recom_song = recom_song_temp[1:number_songs+1]\n",
        "    _print(song=song, recom_song=recom_song)\n"
      ],
      "execution_count": null,
      "outputs": []
    },
    {
      "cell_type": "code",
      "metadata": {
        "colab": {
          "base_uri": "https://localhost:8080/"
        },
        "id": "KE33_zVBxlpH",
        "outputId": "91ebf9aa-f86e-4213-af86-4b9a2a382162"
      },
      "source": [
        "selected_song = songs['song'].iloc[119]\n",
        "number_song = input(\"Enter number of recommendations you want to receive : \")\n",
        "number_song_int = int(number_song)"
      ],
      "execution_count": null,
      "outputs": [
        {
          "output_type": "stream",
          "text": [
            "Enter number of recommendations you want to receive : 5\n"
          ],
          "name": "stdout"
        }
      ]
    },
    {
      "cell_type": "code",
      "metadata": {
        "colab": {
          "base_uri": "https://localhost:8080/"
        },
        "id": "IIbLPajFxmX_",
        "outputId": "1b6375a4-88ab-4b59-e18e-dfd5a4f5091a"
      },
      "source": [
        "recommend(selected_song,number_song_int, similarities)"
      ],
      "execution_count": null,
      "outputs": [
        {
          "output_type": "stream",
          "text": [
            "Recommended songs for {song} are:\n",
            "1\n",
            "Hey Hey by Eric Clapton\n",
            "Similarity score : 0.427\n",
            "2\n",
            "The Best Damn Thing by Avril Lavigne\n",
            "Similarity score : 0.4\n",
            "3\n",
            "Lay It All Down by John Martyn\n",
            "Similarity score : 0.4\n",
            "4\n",
            "Weird World by Backstreet Boys\n",
            "Similarity score : 0.378\n",
            "5\n",
            "Top Down by Fifth Harmony\n",
            "Similarity score : 0.364\n"
          ],
          "name": "stdout"
        }
      ]
    }
  ]
}