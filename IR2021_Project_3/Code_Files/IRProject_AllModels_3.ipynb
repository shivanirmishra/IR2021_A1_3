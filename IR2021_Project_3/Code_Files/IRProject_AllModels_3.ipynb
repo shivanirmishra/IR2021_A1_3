{
  "nbformat": 4,
  "nbformat_minor": 0,
  "metadata": {
    "colab": {
      "name": "IRProject_AllModels_3.ipynb",
      "provenance": [],
      "collapsed_sections": []
    },
    "kernelspec": {
      "display_name": "Python 3",
      "name": "python3"
    },
    "language_info": {
      "name": "python"
    }
  },
  "cells": [
    {
      "cell_type": "markdown",
      "metadata": {
        "id": "NbAEamqVnjaI"
      },
      "source": [
        "**Mount Drive**"
      ]
    },
    {
      "cell_type": "code",
      "metadata": {
        "id": "DqwStZfNnL-U"
      },
      "source": [
        "from google.colab import drive"
      ],
      "execution_count": 1,
      "outputs": []
    },
    {
      "cell_type": "code",
      "metadata": {
        "colab": {
          "base_uri": "https://localhost:8080/"
        },
        "id": "v7Vc35gitZiv",
        "outputId": "a09d2871-1928-4f4d-9632-127b6ab2066b"
      },
      "source": [
        "drive.mount('/content/drive')"
      ],
      "execution_count": 2,
      "outputs": [
        {
          "output_type": "stream",
          "text": [
            "Drive already mounted at /content/drive; to attempt to forcibly remount, call drive.mount(\"/content/drive\", force_remount=True).\n"
          ],
          "name": "stdout"
        }
      ]
    },
    {
      "cell_type": "markdown",
      "metadata": {
        "id": "7074M-loto1I"
      },
      "source": [
        "**Import Files**"
      ]
    },
    {
      "cell_type": "code",
      "metadata": {
        "id": "pKP74X1RtaV9"
      },
      "source": [
        "import os\n",
        "import pandas as pd\n",
        "import statistics\n",
        "from statistics import *\n",
        "import numpy as np\n",
        "import pandas as pd\n",
        "from sklearn.model_selection import train_test_split\n",
        "from sklearn.preprocessing import MinMaxScaler\n",
        "from sklearn.neighbors import NearestNeighbors\n",
        "from sklearn.neighbors import KNeighborsClassifier\n",
        "from sklearn.linear_model import LogisticRegression\n",
        "from sklearn.metrics import accuracy_score\n",
        "from sklearn.svm import SVC\n",
        "from sklearn import tree\n",
        "import librosa\n",
        "import librosa.display\n",
        "import statistics\n",
        "from statistics import *\n",
        "import math\n",
        "from scipy import spatial\n",
        "import keras.backend as K\n",
        "import pandas as pd\n",
        "from sklearn.model_selection import train_test_split\n",
        "from sklearn.preprocessing import MinMaxScaler\n",
        "import keras\n",
        "from keras.optimizers import SGD\n",
        "from keras.models import Sequential\n",
        "from keras.layers import Dense "
      ],
      "execution_count": 3,
      "outputs": []
    },
    {
      "cell_type": "markdown",
      "metadata": {
        "id": "2yzomeYVtuqR"
      },
      "source": [
        "**Read File**"
      ]
    },
    {
      "cell_type": "code",
      "metadata": {
        "id": "0f8YK2HQtkxZ"
      },
      "source": [
        "import pandas as pd\n",
        "data = pd.read_csv('drive/My Drive/IRProject/finaldataset.csv')\n",
        "data_g = pd.read_csv('drive/My Drive/IRProject/data_20s_all_genres.csv')"
      ],
      "execution_count": 4,
      "outputs": []
    },
    {
      "cell_type": "code",
      "metadata": {
        "id": "hQXJTVQYuf2F"
      },
      "source": [
        "data.drop('Unnamed: 0',\n",
        "  axis='columns', inplace=True)\n",
        "data_g.drop('Unnamed: 0',\n",
        "  axis='columns', inplace=True)"
      ],
      "execution_count": 5,
      "outputs": []
    },
    {
      "cell_type": "code",
      "metadata": {
        "id": "2wfyIRpkuluO"
      },
      "source": [
        "find = data"
      ],
      "execution_count": 6,
      "outputs": []
    },
    {
      "cell_type": "code",
      "metadata": {
        "id": "tYtc-p186M_m",
        "colab": {
          "base_uri": "https://localhost:8080/"
        },
        "outputId": "9665df99-e0dd-4e20-d24b-80456c70b96a"
      },
      "source": [
        "print(len(find))"
      ],
      "execution_count": 7,
      "outputs": [
        {
          "output_type": "stream",
          "text": [
            "3889\n"
          ],
          "name": "stdout"
        }
      ]
    },
    {
      "cell_type": "markdown",
      "metadata": {
        "id": "KoBPi2Nxup74"
      },
      "source": [
        "**Train Test Split**"
      ]
    },
    {
      "cell_type": "code",
      "metadata": {
        "id": "_xqSNQKgupDm"
      },
      "source": [
        "scaler = MinMaxScaler()\n",
        "data_g = data_g.dropna()\n",
        "X = data_g.iloc[:, 0:-1]\n",
        "X_norm = scaler.fit_transform(X)\n",
        "#X_norm = scaler.transform(X)\n",
        "y = data_g.iloc[:, -1]\n",
        "\n",
        "x_train, x_test, y_train, y_test = train_test_split(X_norm, y, test_size = 0.2, random_state = 42)\n",
        "testy = y_test"
      ],
      "execution_count": 8,
      "outputs": []
    },
    {
      "cell_type": "code",
      "metadata": {
        "id": "ypFX2Fchu7Ze"
      },
      "source": [
        "scaler = MinMaxScaler()\n",
        "data = data.dropna()\n",
        "X = data.iloc[:, 0:-2]\n",
        "X_norm = scaler.fit_transform(X)\n",
        "#X_norm = scaler.transform(X)\n",
        "y = data.iloc[:, -2]\n",
        "\n",
        "x_train1, x_test1, y_train1, y_test1 = train_test_split(X_norm, y, test_size = 0.2, random_state = 42)"
      ],
      "execution_count": 9,
      "outputs": []
    },
    {
      "cell_type": "markdown",
      "metadata": {
        "id": "7Mgcs04MwXPD"
      },
      "source": [
        "**Read Test File**"
      ]
    },
    {
      "cell_type": "code",
      "metadata": {
        "colab": {
          "base_uri": "https://localhost:8080/"
        },
        "id": "unCKnrh0we_1",
        "outputId": "2a207f21-9688-4c41-f750-30e81dca9291"
      },
      "source": [
        "data1 = []\n",
        "list1 = []\n",
        "songData = []\n",
        "y, sr = librosa.load('drive/My Drive/IRProject/rosa.mp3', mono=True, duration=20)\n",
        "tempo, beats = librosa.beat.beat_track(y=y, sr=sr)\n",
        "songData.append(tempo)\n",
        "songData.append(mean(beats))\n",
        "chroma_stft = librosa.feature.chroma_stft(y=y, sr=sr)\n",
        "songData.append(mean(chroma_stft.flatten()))\n",
        "# rmse = librosa.feature.rmse(y=y)\n",
        "rmse=librosa.feature.rms(y=y)[0]\n",
        "songData.append(mean(rmse))\n",
        "spec_cent = librosa.feature.spectral_centroid(y=y, sr=sr)\n",
        "songData.append(mean(spec_cent.flatten()))\n",
        "spec_bw = librosa.feature.spectral_bandwidth(y=y, sr=sr)\n",
        "songData.append(mean(spec_bw.flatten()))\n",
        "rolloff = librosa.feature.spectral_rolloff(y=y, sr=sr)\n",
        "songData.append(mean(rolloff.flatten()))\n",
        "zcr = librosa.feature.zero_crossing_rate(y)\n",
        "songData.append(mean(zcr.flatten()))\n",
        "# zcr1 = librosa.feature.zero_crossing_rate(y)\n",
        "# songData.append(mean(zcr1.flatten()))\n",
        "mfcc = librosa.feature.mfcc(y=y, sr=sr)\n",
        "for i in mfcc:\n",
        "  songData.append(np.mean(i))\n",
        "  list1.append(np.mean(i))\n",
        "\n",
        "data1.append(songData)"
      ],
      "execution_count": 10,
      "outputs": [
        {
          "output_type": "stream",
          "text": [
            "/usr/local/lib/python3.7/dist-packages/librosa/core/audio.py:162: UserWarning: PySoundFile failed. Trying audioread instead.\n",
            "  warnings.warn(\"PySoundFile failed. Trying audioread instead.\")\n"
          ],
          "name": "stderr"
        }
      ]
    },
    {
      "cell_type": "markdown",
      "metadata": {
        "id": "J_YyhB-ivEIx"
      },
      "source": [
        "**Genre Predictions**"
      ]
    },
    {
      "cell_type": "markdown",
      "metadata": {
        "id": "RBUU-LcLvITE"
      },
      "source": [
        "Linear Regression"
      ]
    },
    {
      "cell_type": "code",
      "metadata": {
        "id": "7u-c88NnqxEr"
      },
      "source": [
        "res = []\n",
        "name = []"
      ],
      "execution_count": 11,
      "outputs": []
    },
    {
      "cell_type": "code",
      "metadata": {
        "colab": {
          "base_uri": "https://localhost:8080/"
        },
        "id": "WfGni-GCvAoP",
        "outputId": "1aec74ef-3e0b-4f87-81b1-9fa2a3e8165a"
      },
      "source": [
        "model = LogisticRegression(solver='lbfgs', max_iter=4000)\n",
        "model.fit(x_train,y_train)\n",
        "y_pred_test = model.predict(x_test)\n",
        "y_pred_train = model.predict(x_train)\n",
        "acc = model.score(x_test,y_test)\n",
        "acc1 = model.score(x_train,y_train)\n",
        "y_score = model.predict(x_test)\n",
        "print('testing accuracy',acc)\n",
        "name.append('Linear Regression')\n",
        "res.append(acc)"
      ],
      "execution_count": 12,
      "outputs": [
        {
          "output_type": "stream",
          "text": [
            "testing accuracy 0.6584821428571429\n"
          ],
          "name": "stdout"
        }
      ]
    },
    {
      "cell_type": "code",
      "metadata": {
        "id": "zLmfK_mxxAno"
      },
      "source": [
        "import matplotlib.pyplot as plt\n",
        "total_relevant=0\n",
        "precision_list=[]\n",
        "recall_list=[]\n",
        "total=0\n",
        "current_relevant=0\n",
        "\n",
        "for x,y in zip(y_test,y_score) :\n",
        "    if x != y:\n",
        "        total_relevant = total_relevant\n",
        "    else:\n",
        "        total_relevant+=1\n",
        "\n",
        "\n",
        "for x,y in zip(y_test,y_score):\n",
        "    total= total + 1\n",
        "    if x!=y:\n",
        "        current_relevant = current_relevant\n",
        "    else:\n",
        "        current_relevant+=1\n",
        "    precision_list.append(current_relevant/total)\n",
        "    recall_list.append(current_relevant/total_relevant)\n"
      ],
      "execution_count": 13,
      "outputs": []
    },
    {
      "cell_type": "code",
      "metadata": {
        "id": "v07k7pL8SwRQ",
        "colab": {
          "base_uri": "https://localhost:8080/"
        },
        "outputId": "5b7ed8ef-7580-4a26-f759-39b49b4577e2"
      },
      "source": [
        "print(len(y_test), len(y_score))"
      ],
      "execution_count": 14,
      "outputs": [
        {
          "output_type": "stream",
          "text": [
            "896 896\n"
          ],
          "name": "stdout"
        }
      ]
    },
    {
      "cell_type": "code",
      "metadata": {
        "colab": {
          "base_uri": "https://localhost:8080/"
        },
        "id": "p4iSVaX8wCuO",
        "outputId": "3410bdd4-60a9-4ced-f004-f47eea7dca45"
      },
      "source": [
        "model = LogisticRegression(solver='lbfgs', max_iter=4000)\n",
        "model.fit(x_train,y_train)\n",
        "y_pred = model.predict(data1)\n",
        "\n",
        "print(y_pred)"
      ],
      "execution_count": 15,
      "outputs": [
        {
          "output_type": "stream",
          "text": [
            "[4]\n"
          ],
          "name": "stdout"
        }
      ]
    },
    {
      "cell_type": "markdown",
      "metadata": {
        "id": "xi4jdWcfxZ9J"
      },
      "source": [
        "SVM with rbf kernel"
      ]
    },
    {
      "cell_type": "code",
      "metadata": {
        "colab": {
          "base_uri": "https://localhost:8080/"
        },
        "id": "LapzGDWkxZFI",
        "outputId": "d7c49010-9c2d-4b31-ab4a-6de558cc337c"
      },
      "source": [
        "model = SVC(kernel = 'rbf', random_state = 42, gamma = 'scale')\n",
        "model.fit(x_train,y_train)\n",
        "y_pred = model.predict(x_test)\n",
        "y_pred_train = model.predict(x_train)\n",
        "acc = model.score(x_test,y_test)\n",
        "acc1 = model.score(x_train,y_train)\n",
        "y_score = model.predict(x_test)\n",
        "print('testing accuracy',acc)\n",
        "name.append('SVM with RBF Kernel')\n",
        "res.append(acc)"
      ],
      "execution_count": 16,
      "outputs": [
        {
          "output_type": "stream",
          "text": [
            "testing accuracy 0.7823660714285714\n"
          ],
          "name": "stdout"
        }
      ]
    },
    {
      "cell_type": "code",
      "metadata": {
        "id": "RNr-PHBv0y30"
      },
      "source": [
        "import matplotlib.pyplot as plt\n",
        "total_relevant=0\n",
        "precision_list1=[]\n",
        "recall_list1=[]\n",
        "total=0\n",
        "current_relevant=0\n",
        "\n",
        "for x,y in zip(y_test,y_score) :\n",
        "    if x != y:\n",
        "        total_relevant = total_relevant\n",
        "    else:\n",
        "        total_relevant+=1\n",
        "\n",
        "\n",
        "for x,y in zip(y_test,y_score):\n",
        "    total= total + 1\n",
        "    if x!=y:\n",
        "        current_relevant = current_relevant\n",
        "    else:\n",
        "        current_relevant+=1\n",
        "    precision_list1.append(current_relevant/total)\n",
        "    recall_list1.append(current_relevant/total_relevant)\n"
      ],
      "execution_count": 17,
      "outputs": []
    },
    {
      "cell_type": "code",
      "metadata": {
        "colab": {
          "base_uri": "https://localhost:8080/"
        },
        "id": "vkGbk9vUxjn2",
        "outputId": "0832be4f-049b-4230-b8a2-950177b11e33"
      },
      "source": [
        "y_pred = model.predict(data1)\n",
        "print(y_pred)"
      ],
      "execution_count": 18,
      "outputs": [
        {
          "output_type": "stream",
          "text": [
            "[4]\n"
          ],
          "name": "stdout"
        }
      ]
    },
    {
      "cell_type": "markdown",
      "metadata": {
        "id": "MR6aUZWgxwpF"
      },
      "source": [
        "SVM with linear kernel"
      ]
    },
    {
      "cell_type": "code",
      "metadata": {
        "colab": {
          "base_uri": "https://localhost:8080/"
        },
        "id": "k6gSuqH6x1St",
        "outputId": "e4fe8fe2-5de9-4a43-b4ca-7c8a9f43a9b5"
      },
      "source": [
        "model = SVC(kernel = 'linear', random_state = 42, gamma = 'scale')\n",
        "model.fit(x_train,y_train)\n",
        "y_pred = model.predict(x_test)\n",
        "y_pred_train = model.predict(x_train)\n",
        "acc = model.score(x_test,y_test)\n",
        "acc1 = model.score(x_train,y_train)\n",
        "print('testing accuracy',acc)"
      ],
      "execution_count": 19,
      "outputs": [
        {
          "output_type": "stream",
          "text": [
            "testing accuracy 0.6830357142857143\n"
          ],
          "name": "stdout"
        }
      ]
    },
    {
      "cell_type": "code",
      "metadata": {
        "colab": {
          "base_uri": "https://localhost:8080/"
        },
        "id": "wAL537KqyTUw",
        "outputId": "fd498a00-ca89-4ea9-9372-47cc0cf7d4ce"
      },
      "source": [
        "y_pred = model.predict(data1)\n",
        "print(y_pred)"
      ],
      "execution_count": 20,
      "outputs": [
        {
          "output_type": "stream",
          "text": [
            "[3]\n"
          ],
          "name": "stdout"
        }
      ]
    },
    {
      "cell_type": "markdown",
      "metadata": {
        "id": "Wh6KhOOnyWdH"
      },
      "source": [
        "SVM with poly kernel"
      ]
    },
    {
      "cell_type": "code",
      "metadata": {
        "colab": {
          "base_uri": "https://localhost:8080/"
        },
        "id": "3uLbTmn_yV52",
        "outputId": "53130df8-f91d-4ce2-b6f8-45769d44387e"
      },
      "source": [
        "model = SVC(kernel = 'poly', degree = 2,random_state = 42, gamma = 'scale')\n",
        "model.fit(x_train,y_train)\n",
        "y_pred = model.predict(x_test)\n",
        "y_pred_train = model.predict(x_train)\n",
        "acc = model.score(x_test,y_test)\n",
        "acc1 = model.score(x_train,y_train)\n",
        "print('testing accuracy',acc)\n",
        "name.append('SVM with Poly Kernel')\n",
        "res.append(acc)"
      ],
      "execution_count": 21,
      "outputs": [
        {
          "output_type": "stream",
          "text": [
            "testing accuracy 0.7444196428571429\n"
          ],
          "name": "stdout"
        }
      ]
    },
    {
      "cell_type": "code",
      "metadata": {
        "colab": {
          "base_uri": "https://localhost:8080/"
        },
        "id": "UC_7NjM_yeta",
        "outputId": "2c9e9bf2-3934-4b35-a48e-754240c395dd"
      },
      "source": [
        "y_pred = model.predict(data1)\n",
        "print(y_pred)"
      ],
      "execution_count": 22,
      "outputs": [
        {
          "output_type": "stream",
          "text": [
            "[4]\n"
          ],
          "name": "stdout"
        }
      ]
    },
    {
      "cell_type": "markdown",
      "metadata": {
        "id": "VxsnkfGGykN_"
      },
      "source": [
        "SVM with sigmoid kernel"
      ]
    },
    {
      "cell_type": "code",
      "metadata": {
        "colab": {
          "base_uri": "https://localhost:8080/"
        },
        "id": "gGGisMKKyjo5",
        "outputId": "900976f9-e3cf-4367-c7c0-2c7ac23f6e61"
      },
      "source": [
        "from sklearn.svm import SVC\n",
        "\n",
        "model = SVC(kernel = 'sigmoid', random_state = 42, gamma = 'scale')\n",
        "model.fit(x_train,y_train)\n",
        "y_pred = model.predict(x_test)\n",
        "y_pred_train = model.predict(x_train)\n",
        "acc = model.score(x_test,y_test)\n",
        "acc1 = model.score(x_train,y_train)\n",
        "print('testing accuracy',acc)\n",
        "name.append('SVM with Sigmoid Kernel')\n",
        "res.append(acc)"
      ],
      "execution_count": 23,
      "outputs": [
        {
          "output_type": "stream",
          "text": [
            "testing accuracy 0.18080357142857142\n"
          ],
          "name": "stdout"
        }
      ]
    },
    {
      "cell_type": "code",
      "metadata": {
        "colab": {
          "base_uri": "https://localhost:8080/"
        },
        "id": "lUbpXA9nyrFj",
        "outputId": "00bcf6b2-d1d7-4234-c2a6-6e5c7596c5e3"
      },
      "source": [
        "y_pred = model.predict(data1)\n",
        "print(y_pred)"
      ],
      "execution_count": 24,
      "outputs": [
        {
          "output_type": "stream",
          "text": [
            "[3]\n"
          ],
          "name": "stdout"
        }
      ]
    },
    {
      "cell_type": "markdown",
      "metadata": {
        "id": "_n4cggEHyyRl"
      },
      "source": [
        "Decision Tree with Entropy"
      ]
    },
    {
      "cell_type": "code",
      "metadata": {
        "colab": {
          "base_uri": "https://localhost:8080/"
        },
        "id": "C-JeAC2CyhXw",
        "outputId": "2f75f1c0-8681-435f-d8a1-4de9098f0270"
      },
      "source": [
        "model = tree.DecisionTreeClassifier(criterion='entropy',max_depth = 5)\n",
        "model.fit(x_train,y_train)\n",
        "y_pred = model.predict(x_test)\n",
        "y_pred_train = model.predict(x_train)\n",
        "acc = model.score(x_test,y_test)\n",
        "acc1 = model.score(x_train,y_train)\n",
        "print('testing accuracy',acc)\n",
        "name.append('Decision Tree with Entropy')\n",
        "res.append(acc)"
      ],
      "execution_count": 25,
      "outputs": [
        {
          "output_type": "stream",
          "text": [
            "testing accuracy 0.5357142857142857\n"
          ],
          "name": "stdout"
        }
      ]
    },
    {
      "cell_type": "code",
      "metadata": {
        "colab": {
          "base_uri": "https://localhost:8080/"
        },
        "id": "R7r6Qykny8To",
        "outputId": "9036be51-748e-4354-c8f9-4033e5a3b11b"
      },
      "source": [
        "y_pred = model.predict(data1)\n",
        "print(y_pred)"
      ],
      "execution_count": 26,
      "outputs": [
        {
          "output_type": "stream",
          "text": [
            "[0]\n"
          ],
          "name": "stdout"
        }
      ]
    },
    {
      "cell_type": "markdown",
      "metadata": {
        "id": "tRKd4y4Iy_Qo"
      },
      "source": [
        "Decision Tree with Gini"
      ]
    },
    {
      "cell_type": "code",
      "metadata": {
        "colab": {
          "base_uri": "https://localhost:8080/"
        },
        "id": "C-vMsedZzCtX",
        "outputId": "c15e22ba-d53d-4dac-da43-3f99568975db"
      },
      "source": [
        "model = tree.DecisionTreeClassifier(criterion='gini')\n",
        "model.fit(x_train,y_train)\n",
        "y_pred = model.predict(x_test)\n",
        "y_pred_train = model.predict(x_train)\n",
        "acc = model.score(x_test,y_test)\n",
        "acc1 = model.score(x_train,y_train)\n",
        "print('testing accuracy',acc)\n",
        "y_score = model.predict(x_test)\n",
        "name.append('Decision Tree with Gini')\n",
        "res.append(acc)"
      ],
      "execution_count": 27,
      "outputs": [
        {
          "output_type": "stream",
          "text": [
            "testing accuracy 0.6919642857142857\n"
          ],
          "name": "stdout"
        }
      ]
    },
    {
      "cell_type": "code",
      "metadata": {
        "id": "ssRr27DZ1T1V"
      },
      "source": [
        "import matplotlib.pyplot as plt\n",
        "total_relevant=0\n",
        "precision_list2=[]\n",
        "recall_list2=[]\n",
        "total=0\n",
        "current_relevant=0\n",
        "\n",
        "for x,y in zip(y_test,y_score) :\n",
        "    if x != y:\n",
        "        total_relevant = total_relevant\n",
        "    else:\n",
        "        total_relevant+=1\n",
        "\n",
        "\n",
        "for x,y in zip(y_test,y_score):\n",
        "    total= total + 1\n",
        "    if x!=y:\n",
        "        current_relevant = current_relevant\n",
        "    else:\n",
        "        current_relevant+=1\n",
        "    precision_list2.append(current_relevant/total)\n",
        "    recall_list2.append(current_relevant/total_relevant)\n"
      ],
      "execution_count": 28,
      "outputs": []
    },
    {
      "cell_type": "code",
      "metadata": {
        "colab": {
          "base_uri": "https://localhost:8080/"
        },
        "id": "wfpEVKGbzILQ",
        "outputId": "efba936d-c83a-498d-f528-506484ed335c"
      },
      "source": [
        "y_pred = model.predict(data1)\n",
        "print(y_pred)"
      ],
      "execution_count": 29,
      "outputs": [
        {
          "output_type": "stream",
          "text": [
            "[2]\n"
          ],
          "name": "stdout"
        }
      ]
    },
    {
      "cell_type": "markdown",
      "metadata": {
        "id": "Rjm6m_MhzMap"
      },
      "source": [
        "KNN"
      ]
    },
    {
      "cell_type": "code",
      "metadata": {
        "colab": {
          "base_uri": "https://localhost:8080/"
        },
        "id": "Z_cdIcIIzO6_",
        "outputId": "5b4c3700-d5d6-41bc-cd35-68122333db0f"
      },
      "source": [
        "model = KNeighborsClassifier(n_neighbors=5)\n",
        "model.fit(x_train,y_train)\n",
        "y_pred = model.predict(x_test)\n",
        "y_pred_train = model.predict(x_train)\n",
        "acc = model.score(x_test,y_test)\n",
        "acc1 = model.score(x_train,y_train)\n",
        "y_score1 = model.predict(x_test)\n",
        "print('testing accuracy',acc)\n",
        "name.append('KNN')\n",
        "res.append(acc)"
      ],
      "execution_count": 30,
      "outputs": [
        {
          "output_type": "stream",
          "text": [
            "testing accuracy 0.8448660714285714\n"
          ],
          "name": "stdout"
        }
      ]
    },
    {
      "cell_type": "code",
      "metadata": {
        "colab": {
          "base_uri": "https://localhost:8080/",
          "height": 279
        },
        "id": "wErabQsozso9",
        "outputId": "93490759-5d99-48bf-ad1a-57dc78c15aec"
      },
      "source": [
        "import matplotlib.pyplot as plt\n",
        "total_relevant=0\n",
        "precision_list3=[]\n",
        "recall_list3=[]\n",
        "total=0\n",
        "current_relevant=0\n",
        "\n",
        "for x,y in zip(y_test,y_score1) :\n",
        "    if x != y:\n",
        "        total_relevant = total_relevant\n",
        "    else:\n",
        "        total_relevant+=1\n",
        "\n",
        "\n",
        "for x,y in zip(y_test,y_score1):\n",
        "    total= total + 1\n",
        "    if x!=y:\n",
        "        current_relevant = current_relevant\n",
        "    else:\n",
        "        current_relevant+=1\n",
        "    precision_list3.append(current_relevant/total)\n",
        "    recall_list3.append(current_relevant/total_relevant)\n",
        "    \n",
        "plt.plot(recall_list,precision_list,label='Linear Regression')\n",
        "plt.plot(recall_list1,precision_list1,label='SVM')\n",
        "plt.plot(recall_list2,precision_list2,label='Decision Tree')\n",
        "plt.plot(recall_list3,precision_list3,label='knn')\n",
        "plt.legend()\n",
        "plt.xlabel(\"Recall\")\n",
        "plt.ylabel(\"Precision\")\n",
        "plt.show()\n"
      ],
      "execution_count": 31,
      "outputs": [
        {
          "output_type": "display_data",
          "data": {
            "image/png": "[encoded data removed]",
            "text/plain": [
              "<Figure size 432x288 with 1 Axes>"
            ]
          },
          "metadata": {
            "tags": [],
            "needs_background": "light"
          }
        }
      ]
    },
    {
      "cell_type": "code",
      "metadata": {
        "colab": {
          "base_uri": "https://localhost:8080/"
        },
        "id": "f8Ehr16hzXdx",
        "outputId": "0dd09dbb-5e71-462a-e793-bce432a84aad"
      },
      "source": [
        "y_pred = model.predict(data1)\n",
        "print(y_pred)"
      ],
      "execution_count": 32,
      "outputs": [
        {
          "output_type": "stream",
          "text": [
            "[1]\n"
          ],
          "name": "stdout"
        }
      ]
    },
    {
      "cell_type": "markdown",
      "metadata": {
        "id": "UJktX7ONChHv"
      },
      "source": [
        "Neural Network"
      ]
    },
    {
      "cell_type": "code",
      "metadata": {
        "id": "JMsfmg84CjFX"
      },
      "source": [
        "scaler = MinMaxScaler()\n",
        "data = find.dropna()\n",
        "data_test = x_test\n",
        "X = data.iloc[:, 0:-2]\n",
        "X_norm = scaler.fit_transform(X)\n",
        "#X_norm = scaler.transform(X)\n",
        "y = data.iloc[:, -2]\n",
        "x_test = data_test\n",
        "x_test = scaler.fit_transform(x_test)\n",
        "y_test = y_test\n",
        "#x_train, x_test, y_train, y_test = train_test_split(X_norm, y, test_size = 0.2, random_state = 0)\n",
        "from keras.utils import to_categorical\n",
        "y = to_categorical(y)\n",
        "y_test = to_categorical(y_test)"
      ],
      "execution_count": 33,
      "outputs": []
    },
    {
      "cell_type": "code",
      "metadata": {
        "colab": {
          "base_uri": "https://localhost:8080/"
        },
        "id": "c0U-m2iVCljG",
        "outputId": "384219b6-8a3d-4cdc-edce-f53fc1e60e79"
      },
      "source": [
        "model = Sequential()\n",
        "model.add(Dense(units=32, activation='relu', input_dim=28))\n",
        "model.add(Dense(units=64, activation='relu'))\n",
        "model.add(Dense(units=16, activation='relu'))\n",
        "model.add(Dense(units=8, activation='relu'))\n",
        "model.add(Dense(units=5, activation='softmax'))\n",
        "sgd = SGD(lr=0.001)\n",
        "model.compile(loss='categorical_crossentropy', optimizer=sgd, metrics=['accuracy'])\n",
        "history = model.fit(X_norm,y,batch_size=10,epochs=150)\n",
        "scores = model.evaluate(x_test, y_test)\n",
        "print(\"Accuracy: %.2f%%\" % (scores[1]*100))\n",
        "name.append('Neural Network')\n",
        "res.append(scores[1])"
      ],
      "execution_count": 34,
      "outputs": [
        {
          "output_type": "stream",
          "text": [
            "Epoch 1/150\n",
            "389/389 [==============================] - 1s 975us/step - loss: 1.6119 - accuracy: 0.1858\n",
            "Epoch 2/150\n",
            "389/389 [==============================] - 0s 1ms/step - loss: 1.6035 - accuracy: 0.2380\n",
            "Epoch 3/150\n",
            "389/389 [==============================] - 0s 1ms/step - loss: 1.5961 - accuracy: 0.2617\n",
            "Epoch 4/150\n",
            "389/389 [==============================] - 0s 1ms/step - loss: 1.5951 - accuracy: 0.2417\n",
            "Epoch 5/150\n",
            "389/389 [==============================] - 0s 1ms/step - loss: 1.5871 - accuracy: 0.2584\n",
            "Epoch 6/150\n",
            "389/389 [==============================] - 0s 998us/step - loss: 1.5767 - accuracy: 0.2704\n",
            "Epoch 7/150\n",
            "389/389 [==============================] - 0s 1ms/step - loss: 1.5688 - accuracy: 0.2557\n",
            "Epoch 8/150\n",
            "389/389 [==============================] - 0s 1ms/step - loss: 1.5622 - accuracy: 0.2637\n",
            "Epoch 9/150\n",
            "389/389 [==============================] - 0s 1ms/step - loss: 1.5600 - accuracy: 0.2633\n",
            "Epoch 10/150\n",
            "389/389 [==============================] - 0s 1ms/step - loss: 1.5535 - accuracy: 0.2585\n",
            "Epoch 11/150\n",
            "389/389 [==============================] - 0s 1ms/step - loss: 1.5487 - accuracy: 0.2541\n",
            "Epoch 12/150\n",
            "389/389 [==============================] - 0s 1ms/step - loss: 1.5429 - accuracy: 0.2656\n",
            "Epoch 13/150\n",
            "389/389 [==============================] - 0s 1ms/step - loss: 1.5423 - accuracy: 0.2585\n",
            "Epoch 14/150\n",
            "389/389 [==============================] - 0s 972us/step - loss: 1.5413 - accuracy: 0.2468\n",
            "Epoch 15/150\n",
            "389/389 [==============================] - 0s 1ms/step - loss: 1.5293 - accuracy: 0.2603\n",
            "Epoch 16/150\n",
            "389/389 [==============================] - 0s 1ms/step - loss: 1.5175 - accuracy: 0.2699\n",
            "Epoch 17/150\n",
            "389/389 [==============================] - 0s 1ms/step - loss: 1.5192 - accuracy: 0.2706\n",
            "Epoch 18/150\n",
            "389/389 [==============================] - 0s 1ms/step - loss: 1.4987 - accuracy: 0.2966\n",
            "Epoch 19/150\n",
            "389/389 [==============================] - 0s 967us/step - loss: 1.5026 - accuracy: 0.3067\n",
            "Epoch 20/150\n",
            "389/389 [==============================] - 0s 1ms/step - loss: 1.4935 - accuracy: 0.3140\n",
            "Epoch 21/150\n",
            "389/389 [==============================] - 0s 1ms/step - loss: 1.4809 - accuracy: 0.3290\n",
            "Epoch 22/150\n",
            "389/389 [==============================] - 0s 1ms/step - loss: 1.4705 - accuracy: 0.3320\n",
            "Epoch 23/150\n",
            "389/389 [==============================] - 0s 1ms/step - loss: 1.4651 - accuracy: 0.3482\n",
            "Epoch 24/150\n",
            "389/389 [==============================] - 0s 996us/step - loss: 1.4345 - accuracy: 0.3781\n",
            "Epoch 25/150\n",
            "389/389 [==============================] - 0s 1ms/step - loss: 1.4471 - accuracy: 0.3930\n",
            "Epoch 26/150\n",
            "389/389 [==============================] - 0s 1ms/step - loss: 1.4221 - accuracy: 0.4053\n",
            "Epoch 27/150\n",
            "389/389 [==============================] - 0s 982us/step - loss: 1.4053 - accuracy: 0.4190\n",
            "Epoch 28/150\n",
            "389/389 [==============================] - 0s 993us/step - loss: 1.4061 - accuracy: 0.4197\n",
            "Epoch 29/150\n",
            "389/389 [==============================] - 0s 1ms/step - loss: 1.3993 - accuracy: 0.4298\n",
            "Epoch 30/150\n",
            "389/389 [==============================] - 0s 981us/step - loss: 1.3783 - accuracy: 0.4485\n",
            "Epoch 31/150\n",
            "389/389 [==============================] - 0s 1ms/step - loss: 1.3705 - accuracy: 0.4202\n",
            "Epoch 32/150\n",
            "389/389 [==============================] - 0s 985us/step - loss: 1.3471 - accuracy: 0.4354\n",
            "Epoch 33/150\n",
            "389/389 [==============================] - 0s 973us/step - loss: 1.3318 - accuracy: 0.4478\n",
            "Epoch 34/150\n",
            "389/389 [==============================] - 0s 971us/step - loss: 1.3182 - accuracy: 0.4596\n",
            "Epoch 35/150\n",
            "389/389 [==============================] - 0s 997us/step - loss: 1.3140 - accuracy: 0.4495\n",
            "Epoch 36/150\n",
            "389/389 [==============================] - 0s 1ms/step - loss: 1.3036 - accuracy: 0.4472\n",
            "Epoch 37/150\n",
            "389/389 [==============================] - 0s 991us/step - loss: 1.2892 - accuracy: 0.4675\n",
            "Epoch 38/150\n",
            "389/389 [==============================] - 0s 983us/step - loss: 1.2981 - accuracy: 0.4366\n",
            "Epoch 39/150\n",
            "389/389 [==============================] - 0s 1ms/step - loss: 1.2737 - accuracy: 0.4651\n",
            "Epoch 40/150\n",
            "389/389 [==============================] - 0s 971us/step - loss: 1.2743 - accuracy: 0.4532\n",
            "Epoch 41/150\n",
            "389/389 [==============================] - 0s 1ms/step - loss: 1.2496 - accuracy: 0.4733\n",
            "Epoch 42/150\n",
            "389/389 [==============================] - 0s 952us/step - loss: 1.2591 - accuracy: 0.4693\n",
            "Epoch 43/150\n",
            "389/389 [==============================] - 0s 967us/step - loss: 1.2545 - accuracy: 0.4825\n",
            "Epoch 44/150\n",
            "389/389 [==============================] - 0s 1ms/step - loss: 1.2595 - accuracy: 0.4640\n",
            "Epoch 45/150\n",
            "389/389 [==============================] - 0s 962us/step - loss: 1.2393 - accuracy: 0.4735\n",
            "Epoch 46/150\n",
            "389/389 [==============================] - 0s 1ms/step - loss: 1.2386 - accuracy: 0.4815\n",
            "Epoch 47/150\n",
            "389/389 [==============================] - 0s 952us/step - loss: 1.2519 - accuracy: 0.4710\n",
            "Epoch 48/150\n",
            "389/389 [==============================] - 0s 987us/step - loss: 1.2260 - accuracy: 0.4892\n",
            "Epoch 49/150\n",
            "389/389 [==============================] - 0s 1ms/step - loss: 1.2190 - accuracy: 0.4849\n",
            "Epoch 50/150\n",
            "389/389 [==============================] - 0s 955us/step - loss: 1.2092 - accuracy: 0.5071\n",
            "Epoch 51/150\n",
            "389/389 [==============================] - 0s 1ms/step - loss: 1.2063 - accuracy: 0.5182\n",
            "Epoch 52/150\n",
            "389/389 [==============================] - 0s 1ms/step - loss: 1.2229 - accuracy: 0.4923\n",
            "Epoch 53/150\n",
            "389/389 [==============================] - 0s 1ms/step - loss: 1.1971 - accuracy: 0.5099\n",
            "Epoch 54/150\n",
            "389/389 [==============================] - 0s 1ms/step - loss: 1.1938 - accuracy: 0.5129\n",
            "Epoch 55/150\n",
            "389/389 [==============================] - 0s 1ms/step - loss: 1.1953 - accuracy: 0.5114\n",
            "Epoch 56/150\n",
            "389/389 [==============================] - 0s 1ms/step - loss: 1.1870 - accuracy: 0.5037\n",
            "Epoch 57/150\n",
            "389/389 [==============================] - 0s 990us/step - loss: 1.1846 - accuracy: 0.5122\n",
            "Epoch 58/150\n",
            "389/389 [==============================] - 0s 1ms/step - loss: 1.1824 - accuracy: 0.5047\n",
            "Epoch 59/150\n",
            "389/389 [==============================] - 0s 1ms/step - loss: 1.1551 - accuracy: 0.5303\n",
            "Epoch 60/150\n",
            "389/389 [==============================] - 0s 973us/step - loss: 1.1871 - accuracy: 0.5069\n",
            "Epoch 61/150\n",
            "389/389 [==============================] - 0s 950us/step - loss: 1.1751 - accuracy: 0.5214\n",
            "Epoch 62/150\n",
            "389/389 [==============================] - 0s 979us/step - loss: 1.1823 - accuracy: 0.5087\n",
            "Epoch 63/150\n",
            "389/389 [==============================] - 0s 973us/step - loss: 1.1545 - accuracy: 0.5247\n",
            "Epoch 64/150\n",
            "389/389 [==============================] - 0s 958us/step - loss: 1.1608 - accuracy: 0.5226\n",
            "Epoch 65/150\n",
            "389/389 [==============================] - 0s 963us/step - loss: 1.1668 - accuracy: 0.5355\n",
            "Epoch 66/150\n",
            "389/389 [==============================] - 0s 988us/step - loss: 1.1661 - accuracy: 0.5217\n",
            "Epoch 67/150\n",
            "389/389 [==============================] - 0s 979us/step - loss: 1.1685 - accuracy: 0.5188\n",
            "Epoch 68/150\n",
            "389/389 [==============================] - 0s 961us/step - loss: 1.1497 - accuracy: 0.5209\n",
            "Epoch 69/150\n",
            "389/389 [==============================] - 0s 976us/step - loss: 1.1594 - accuracy: 0.5190\n",
            "Epoch 70/150\n",
            "389/389 [==============================] - 0s 1ms/step - loss: 1.1467 - accuracy: 0.5208\n",
            "Epoch 71/150\n",
            "389/389 [==============================] - 0s 962us/step - loss: 1.1502 - accuracy: 0.5155\n",
            "Epoch 72/150\n",
            "389/389 [==============================] - 0s 978us/step - loss: 1.1544 - accuracy: 0.5160\n",
            "Epoch 73/150\n",
            "389/389 [==============================] - 0s 960us/step - loss: 1.1460 - accuracy: 0.5300\n",
            "Epoch 74/150\n",
            "389/389 [==============================] - 0s 962us/step - loss: 1.1583 - accuracy: 0.5144\n",
            "Epoch 75/150\n",
            "389/389 [==============================] - 0s 1ms/step - loss: 1.1377 - accuracy: 0.5375\n",
            "Epoch 76/150\n",
            "389/389 [==============================] - 0s 1ms/step - loss: 1.1714 - accuracy: 0.5182\n",
            "Epoch 77/150\n",
            "389/389 [==============================] - 0s 984us/step - loss: 1.1308 - accuracy: 0.5329\n",
            "Epoch 78/150\n",
            "389/389 [==============================] - 0s 1ms/step - loss: 1.1554 - accuracy: 0.5232\n",
            "Epoch 79/150\n",
            "389/389 [==============================] - 0s 945us/step - loss: 1.1447 - accuracy: 0.5168\n",
            "Epoch 80/150\n",
            "389/389 [==============================] - 0s 963us/step - loss: 1.1173 - accuracy: 0.5555\n",
            "Epoch 81/150\n",
            "389/389 [==============================] - 0s 1ms/step - loss: 1.1382 - accuracy: 0.5220\n",
            "Epoch 82/150\n",
            "389/389 [==============================] - 0s 976us/step - loss: 1.1397 - accuracy: 0.5263\n",
            "Epoch 83/150\n",
            "389/389 [==============================] - 0s 1ms/step - loss: 1.1389 - accuracy: 0.5316\n",
            "Epoch 84/150\n",
            "389/389 [==============================] - 0s 1ms/step - loss: 1.1378 - accuracy: 0.5363\n",
            "Epoch 85/150\n",
            "389/389 [==============================] - 0s 985us/step - loss: 1.1287 - accuracy: 0.5398\n",
            "Epoch 86/150\n",
            "389/389 [==============================] - 0s 977us/step - loss: 1.1334 - accuracy: 0.5373\n",
            "Epoch 87/150\n",
            "389/389 [==============================] - 0s 1ms/step - loss: 1.1309 - accuracy: 0.5371\n",
            "Epoch 88/150\n",
            "389/389 [==============================] - 0s 1ms/step - loss: 1.1370 - accuracy: 0.5402\n",
            "Epoch 89/150\n",
            "389/389 [==============================] - 0s 969us/step - loss: 1.1232 - accuracy: 0.5323\n",
            "Epoch 90/150\n",
            "389/389 [==============================] - 0s 1ms/step - loss: 1.1421 - accuracy: 0.5259\n",
            "Epoch 91/150\n",
            "389/389 [==============================] - 0s 973us/step - loss: 1.0972 - accuracy: 0.5424\n",
            "Epoch 92/150\n",
            "389/389 [==============================] - 0s 1ms/step - loss: 1.1075 - accuracy: 0.5483\n",
            "Epoch 93/150\n",
            "389/389 [==============================] - 0s 1ms/step - loss: 1.1094 - accuracy: 0.5414\n",
            "Epoch 94/150\n",
            "389/389 [==============================] - 0s 994us/step - loss: 1.0805 - accuracy: 0.5625\n",
            "Epoch 95/150\n",
            "389/389 [==============================] - 0s 1ms/step - loss: 1.0932 - accuracy: 0.5523\n",
            "Epoch 96/150\n",
            "389/389 [==============================] - 0s 1ms/step - loss: 1.1019 - accuracy: 0.5511\n",
            "Epoch 97/150\n",
            "389/389 [==============================] - 0s 1ms/step - loss: 1.0936 - accuracy: 0.5547\n",
            "Epoch 98/150\n",
            "389/389 [==============================] - 0s 970us/step - loss: 1.1016 - accuracy: 0.5469\n",
            "Epoch 99/150\n",
            "389/389 [==============================] - 0s 1ms/step - loss: 1.1080 - accuracy: 0.5501\n",
            "Epoch 100/150\n",
            "389/389 [==============================] - 0s 993us/step - loss: 1.1072 - accuracy: 0.5510\n",
            "Epoch 101/150\n",
            "389/389 [==============================] - 0s 1ms/step - loss: 1.1071 - accuracy: 0.5369\n",
            "Epoch 102/150\n",
            "389/389 [==============================] - 0s 958us/step - loss: 1.1146 - accuracy: 0.5423\n",
            "Epoch 103/150\n",
            "389/389 [==============================] - 0s 987us/step - loss: 1.0947 - accuracy: 0.5631\n",
            "Epoch 104/150\n",
            "389/389 [==============================] - 0s 1ms/step - loss: 1.0905 - accuracy: 0.5628\n",
            "Epoch 105/150\n",
            "389/389 [==============================] - 0s 1ms/step - loss: 1.1025 - accuracy: 0.5504\n",
            "Epoch 106/150\n",
            "389/389 [==============================] - 0s 980us/step - loss: 1.0860 - accuracy: 0.5639\n",
            "Epoch 107/150\n",
            "389/389 [==============================] - 0s 982us/step - loss: 1.1002 - accuracy: 0.5495\n",
            "Epoch 108/150\n",
            "389/389 [==============================] - 0s 1ms/step - loss: 1.0827 - accuracy: 0.5623\n",
            "Epoch 109/150\n",
            "389/389 [==============================] - 0s 983us/step - loss: 1.0835 - accuracy: 0.5617\n",
            "Epoch 110/150\n",
            "389/389 [==============================] - 0s 989us/step - loss: 1.0945 - accuracy: 0.5574\n",
            "Epoch 111/150\n",
            "389/389 [==============================] - 0s 944us/step - loss: 1.0770 - accuracy: 0.5813\n",
            "Epoch 112/150\n",
            "389/389 [==============================] - 0s 998us/step - loss: 1.0756 - accuracy: 0.5683\n",
            "Epoch 113/150\n",
            "389/389 [==============================] - 0s 977us/step - loss: 1.0880 - accuracy: 0.5657\n",
            "Epoch 114/150\n",
            "389/389 [==============================] - 0s 991us/step - loss: 1.0801 - accuracy: 0.5589\n",
            "Epoch 115/150\n",
            "389/389 [==============================] - 0s 994us/step - loss: 1.0479 - accuracy: 0.5912\n",
            "Epoch 116/150\n",
            "389/389 [==============================] - 0s 1ms/step - loss: 1.0852 - accuracy: 0.5538\n",
            "Epoch 117/150\n",
            "389/389 [==============================] - 0s 958us/step - loss: 1.0638 - accuracy: 0.5696\n",
            "Epoch 118/150\n",
            "389/389 [==============================] - 0s 1ms/step - loss: 1.0791 - accuracy: 0.5661\n",
            "Epoch 119/150\n",
            "389/389 [==============================] - 0s 995us/step - loss: 1.0840 - accuracy: 0.5639\n",
            "Epoch 120/150\n",
            "389/389 [==============================] - 0s 964us/step - loss: 1.0640 - accuracy: 0.5719\n",
            "Epoch 121/150\n",
            "389/389 [==============================] - 0s 984us/step - loss: 1.0584 - accuracy: 0.5638\n",
            "Epoch 122/150\n",
            "389/389 [==============================] - 0s 1ms/step - loss: 1.0617 - accuracy: 0.5785\n",
            "Epoch 123/150\n",
            "389/389 [==============================] - 0s 1ms/step - loss: 1.0636 - accuracy: 0.5657\n",
            "Epoch 124/150\n",
            "389/389 [==============================] - 0s 985us/step - loss: 1.0456 - accuracy: 0.5788\n",
            "Epoch 125/150\n",
            "389/389 [==============================] - 0s 978us/step - loss: 1.0756 - accuracy: 0.5635\n",
            "Epoch 126/150\n",
            "389/389 [==============================] - 0s 1ms/step - loss: 1.0682 - accuracy: 0.5706\n",
            "Epoch 127/150\n",
            "389/389 [==============================] - 0s 1ms/step - loss: 1.0589 - accuracy: 0.5729\n",
            "Epoch 128/150\n",
            "389/389 [==============================] - 0s 954us/step - loss: 1.0336 - accuracy: 0.5921\n",
            "Epoch 129/150\n",
            "389/389 [==============================] - 0s 1ms/step - loss: 1.0734 - accuracy: 0.5710\n",
            "Epoch 130/150\n",
            "389/389 [==============================] - 0s 989us/step - loss: 1.0270 - accuracy: 0.5888\n",
            "Epoch 131/150\n",
            "389/389 [==============================] - 0s 1ms/step - loss: 1.0576 - accuracy: 0.5728\n",
            "Epoch 132/150\n",
            "389/389 [==============================] - 0s 992us/step - loss: 1.0331 - accuracy: 0.5899\n",
            "Epoch 133/150\n",
            "389/389 [==============================] - 0s 1ms/step - loss: 1.0614 - accuracy: 0.5866\n",
            "Epoch 134/150\n",
            "389/389 [==============================] - 0s 1ms/step - loss: 1.0518 - accuracy: 0.5773\n",
            "Epoch 135/150\n",
            "389/389 [==============================] - 0s 1ms/step - loss: 1.0617 - accuracy: 0.5761\n",
            "Epoch 136/150\n",
            "389/389 [==============================] - 0s 1ms/step - loss: 1.0555 - accuracy: 0.5764\n",
            "Epoch 137/150\n",
            "389/389 [==============================] - 0s 978us/step - loss: 1.0458 - accuracy: 0.5759\n",
            "Epoch 138/150\n",
            "389/389 [==============================] - 0s 960us/step - loss: 1.0469 - accuracy: 0.5828\n",
            "Epoch 139/150\n",
            "389/389 [==============================] - 0s 1ms/step - loss: 1.0302 - accuracy: 0.5838\n",
            "Epoch 140/150\n",
            "389/389 [==============================] - 0s 981us/step - loss: 1.0292 - accuracy: 0.5836\n",
            "Epoch 141/150\n",
            "389/389 [==============================] - 0s 1ms/step - loss: 1.0373 - accuracy: 0.5846\n",
            "Epoch 142/150\n",
            "389/389 [==============================] - 0s 1ms/step - loss: 1.0298 - accuracy: 0.5822\n",
            "Epoch 143/150\n",
            "389/389 [==============================] - 0s 963us/step - loss: 1.0467 - accuracy: 0.5848\n",
            "Epoch 144/150\n",
            "389/389 [==============================] - 0s 984us/step - loss: 1.0097 - accuracy: 0.5864\n",
            "Epoch 145/150\n",
            "389/389 [==============================] - 0s 973us/step - loss: 1.0321 - accuracy: 0.5786\n",
            "Epoch 146/150\n",
            "389/389 [==============================] - 0s 1ms/step - loss: 1.0436 - accuracy: 0.5858\n",
            "Epoch 147/150\n",
            "389/389 [==============================] - 0s 982us/step - loss: 1.0428 - accuracy: 0.5837\n",
            "Epoch 148/150\n",
            "389/389 [==============================] - 0s 1ms/step - loss: 1.0367 - accuracy: 0.5937\n",
            "Epoch 149/150\n",
            "389/389 [==============================] - 0s 988us/step - loss: 1.0205 - accuracy: 0.5875\n",
            "Epoch 150/150\n",
            "389/389 [==============================] - 0s 964us/step - loss: 1.0506 - accuracy: 0.5751\n",
            "28/28 [==============================] - 0s 1ms/step - loss: 1.4355 - accuracy: 0.4554\n",
            "Accuracy: 45.54%\n"
          ],
          "name": "stdout"
        }
      ]
    },
    {
      "cell_type": "code",
      "metadata": {
        "id": "UobKCIhvCy1X"
      },
      "source": [
        "df = pd.DataFrame(list(zip(name, res)), columns =['Models', 'Accuracy'])"
      ],
      "execution_count": 35,
      "outputs": []
    },
    {
      "cell_type": "code",
      "metadata": {
        "id": "BqeQplKXCrJx",
        "colab": {
          "base_uri": "https://localhost:8080/",
          "height": 284
        },
        "outputId": "8af7b00e-cef5-45d1-a06b-602d0e20488e"
      },
      "source": [
        "df"
      ],
      "execution_count": 36,
      "outputs": [
        {
          "output_type": "execute_result",
          "data": {
            "text/html": [
              "<div>\n",
              "<style scoped>\n",
              "    .dataframe tbody tr th:only-of-type {\n",
              "        vertical-align: middle;\n",
              "    }\n",
              "\n",
              "    .dataframe tbody tr th {\n",
              "        vertical-align: top;\n",
              "    }\n",
              "\n",
              "    .dataframe thead th {\n",
              "        text-align: right;\n",
              "    }\n",
              "</style>\n",
              "<table border=\"1\" class=\"dataframe\">\n",
              "  <thead>\n",
              "    <tr style=\"text-align: right;\">\n",
              "      <th></th>\n",
              "      <th>Models</th>\n",
              "      <th>Accuracy</th>\n",
              "    </tr>\n",
              "  </thead>\n",
              "  <tbody>\n",
              "    <tr>\n",
              "      <th>0</th>\n",
              "      <td>Linear Regression</td>\n",
              "      <td>0.658482</td>\n",
              "    </tr>\n",
              "    <tr>\n",
              "      <th>1</th>\n",
              "      <td>SVM with RBF Kernel</td>\n",
              "      <td>0.782366</td>\n",
              "    </tr>\n",
              "    <tr>\n",
              "      <th>2</th>\n",
              "      <td>SVM with Poly Kernel</td>\n",
              "      <td>0.744420</td>\n",
              "    </tr>\n",
              "    <tr>\n",
              "      <th>3</th>\n",
              "      <td>SVM with Sigmoid Kernel</td>\n",
              "      <td>0.180804</td>\n",
              "    </tr>\n",
              "    <tr>\n",
              "      <th>4</th>\n",
              "      <td>Decision Tree with Entropy</td>\n",
              "      <td>0.535714</td>\n",
              "    </tr>\n",
              "    <tr>\n",
              "      <th>5</th>\n",
              "      <td>Decision Tree with Gini</td>\n",
              "      <td>0.691964</td>\n",
              "    </tr>\n",
              "    <tr>\n",
              "      <th>6</th>\n",
              "      <td>KNN</td>\n",
              "      <td>0.844866</td>\n",
              "    </tr>\n",
              "    <tr>\n",
              "      <th>7</th>\n",
              "      <td>Neural Network</td>\n",
              "      <td>0.455357</td>\n",
              "    </tr>\n",
              "  </tbody>\n",
              "</table>\n",
              "</div>"
            ],
            "text/plain": [
              "                       Models  Accuracy\n",
              "0           Linear Regression  0.658482\n",
              "1         SVM with RBF Kernel  0.782366\n",
              "2        SVM with Poly Kernel  0.744420\n",
              "3     SVM with Sigmoid Kernel  0.180804\n",
              "4  Decision Tree with Entropy  0.535714\n",
              "5     Decision Tree with Gini  0.691964\n",
              "6                         KNN  0.844866\n",
              "7              Neural Network  0.455357"
            ]
          },
          "metadata": {
            "tags": []
          },
          "execution_count": 36
        }
      ]
    },
    {
      "cell_type": "markdown",
      "metadata": {
        "id": "zui6YXaPziKj"
      },
      "source": [
        "**Recommendation**"
      ]
    },
    {
      "cell_type": "markdown",
      "metadata": {
        "id": "z_BFeu9f0y0K"
      },
      "source": [
        "Euclidean Distance"
      ]
    },
    {
      "cell_type": "code",
      "metadata": {
        "colab": {
          "base_uri": "https://localhost:8080/"
        },
        "id": "toiYypX2zl_l",
        "outputId": "e575598c-d899-42a5-93d0-d5de89b87a15"
      },
      "source": [
        "pip install dtw"
      ],
      "execution_count": 37,
      "outputs": [
        {
          "output_type": "stream",
          "text": [
            "Requirement already satisfied: dtw in /usr/local/lib/python3.7/dist-packages (1.4.0)\n",
            "Requirement already satisfied: numpy in /usr/local/lib/python3.7/dist-packages (from dtw) (1.19.5)\n",
            "Requirement already satisfied: scipy in /usr/local/lib/python3.7/dist-packages (from dtw) (1.4.1)\n"
          ],
          "name": "stdout"
        }
      ]
    },
    {
      "cell_type": "code",
      "metadata": {
        "id": "ybKc4q83zsrE"
      },
      "source": [
        "from dtw import dtw"
      ],
      "execution_count": 38,
      "outputs": []
    },
    {
      "cell_type": "code",
      "metadata": {
        "colab": {
          "base_uri": "https://localhost:8080/"
        },
        "id": "MIe4xKXEzvpG",
        "outputId": "b64e84fb-a31e-4a32-81e7-48f9170d1efe"
      },
      "source": [
        "euc_dist = []\n",
        "for i in range(len(x_train1)):\n",
        "  x = np.array(data1[0]).reshape(-1,1)\n",
        "  y = np.array(x_train1[i]).reshape(-1,1)\n",
        "  d = np.linalg.norm(x-y)\n",
        "  euc_dist.append(d)\n",
        "print(\"The normalized distance between the two : \",euc_dist)"
      ],
      "execution_count": 39,
      "outputs": [
        {
          "output_type": "stream",
          "text": [
            "The normalized distance between the two :  [5470.2354739502725, 5470.503889447645, 5471.009225370907, 5470.867085835384, 5470.637840431804, 5470.801775227456, 5470.572662935477, 5470.810439885881, 5470.671828297006, 5470.908467474122, 5471.020415270192, 5470.994080886685, 5470.754498574656, 5470.8933008468175, 5470.887493960557, 5470.8720544307425, 5471.15835903849, 5470.783099512444, 5471.045262309837, 5470.656187475087, 5470.772532156292, 5470.940512006319, 5470.330073687593, 5470.884903206368, 5470.678316443901, 5470.877122482613, 5470.428355987402, 5470.882407344777, 5470.814814802659, 5470.637961884323, 5470.845433074308, 5471.011302341932, 5471.156992156002, 5470.504706324809, 5471.122592910101, 5470.6359841220665, 5470.846602652352, 5470.593516006684, 5470.568013849792, 5470.942044012224, 5470.8460474745225, 5470.564595914123, 5470.8154017761335, 5470.515016659021, 5471.051598980997, 5470.910369555181, 5470.911287680453, 5470.568154486797, 5470.823072056003, 5471.165352238773, 5470.801045356194, 5470.830678725379, 5470.363153878172, 5470.893476591449, 5470.664318852393, 5471.08028195675, 5470.983561814491, 5470.82250258125, 5471.0289955272365, 5470.583921963559, 5470.869436463146, 5470.832339409981, 5471.046331959686, 5470.811032851577, 5470.216521922814, 5470.224951745215, 5470.9343010479215, 5470.311588518241, 5470.750383557392, 5470.506899172051, 5470.644110701072, 5470.63611945386, 5470.511033438689, 5470.186293265695, 5470.873923555819, 5471.22679291657, 5470.920851653666, 5470.953983831676, 5470.853555475026, 5470.897978328633, 5471.032369909001, 5471.0365126473735, 5470.812163605758, 5470.464888572193, 5470.45305319518, 5470.9544026834765, 5470.47113325271, 5471.004908065013, 5471.072771384845, 5471.172922765484, 5470.515240813546, 5470.220939045587, 5471.0553931255, 5470.7103970617045, 5471.1357242122895, 5471.06615754875, 5470.908205141078, 5470.92126555586, 5471.173644444027, 5471.103584144364, 5470.877190319377, 5470.734700706666, 5470.585645697447, 5470.974135269195, 5470.780745949183, 5470.651057955989, 5470.686026258561, 5471.169489815095, 5471.003375197779, 5470.853456102857, 5470.500623194686, 5470.209305180162, 5471.2486540571945, 5470.899009692182, 5470.256299338192, 5470.45699171823, 5470.642611092429, 5470.368641640862, 5470.066130761167, 5470.926471797793, 5470.906341127211, 5470.556595587368, 5470.722425930681, 5470.7510059171145, 5471.3749297093855, 5470.823693684781, 5470.873118778853, 5470.731386948986, 5470.63402159812, 5470.699526287263, 5470.267352948609, 5470.476440350408, 5470.57680756472, 5470.641360771542, 5470.899752520633, 5470.868243001335, 5470.683797569084, 5471.2933578492575, 5471.21895057488, 5470.870521773611, 5470.900415864468, 5471.116045774244, 5471.106804634187, 5470.841427741514, 5471.115640630675, 5470.712896571072, 5470.356543952158, 5470.762077174268, 5470.746314102239, 5470.543822971308, 5471.0258609777275, 5470.845420983941, 5470.483612718961, 5470.489188129515, 5470.802756970317, 5471.128328450602, 5470.44884822543, 5470.807338361092, 5471.202842074437, 5471.033420579571, 5471.148946212563, 5470.531856391722, 5470.890959671285, 5470.873037776267, 5470.780625774377, 5470.870515546128, 5471.041595561487, 5470.892885849661, 5470.967756159525, 5470.822151162177, 5470.81129383215, 5470.853895388712, 5470.34422371696, 5470.711463300677, 5470.773410614705, 5470.565290389377, 5470.704346956019, 5470.860566601352, 5471.031692044204, 5470.120229180289, 5470.555226528932, 5470.274951506416, 5470.860054945578, 5471.0018079342, 5470.90384756288, 5470.688566748618, 5471.159676405314, 5470.955449844145, 5470.974073209389, 5470.813267071343, 5470.6847354229885, 5470.838224041681, 5470.673242782955, 5470.917998567452, 5470.531452570071, 5470.850897548004, 5470.571088218483, 5470.731120759526, 5470.350046441921, 5470.495866350031, 5470.768729285139, 5470.486132283689, 5470.792260428709, 5470.841936654525, 5471.020783451676, 5470.952089343972, 5470.660699953829, 5470.935859104507, 5470.750573295404, 5470.962835412429, 5471.179053363178, 5470.493174761527, 5470.974234795211, 5470.634723540316, 5471.140588060779, 5470.623199483832, 5470.600271541233, 5470.384706337789, 5470.257242621387, 5470.7945156355845, 5470.898395001324, 5471.142259735391, 5470.691865454994, 5470.59670077097, 5470.540684509069, 5470.551360773301, 5470.947879285067, 5470.831485205745, 5470.522049314724, 5470.902377770003, 5470.595323985432, 5470.890281202057, 5471.042761664637, 5471.140259789863, 5470.995720192078, 5470.8311201448805, 5470.544328459588, 5470.7670798880545, 5471.251114634505, 5470.914094069657, 5470.917822678626, 5470.962801229967, 5470.837724193687, 5470.720431000244, 5471.254429838077, 5471.069657753243, 5470.892962983863, 5470.931746427219, 5470.6015147357, 5470.509533699997, 5470.77517145614, 5470.431170595339, 5471.029263888644, 5470.942220550719, 5470.544390831673, 5470.924973734445, 5471.020294741035, 5470.570574346759, 5470.811608925671, 5470.393868608382, 5470.67551574515, 5470.804686960847, 5471.0752587058905, 5470.780128188487, 5470.51257399536, 5470.69789162873, 5470.722105279913, 5470.4787031966425, 5470.561122527651, 5470.73783755175, 5470.99855300351, 5470.729120741691, 5470.592254867443, 5470.654397374077, 5470.667124585677, 5470.985944827873, 5470.599466423661, 5471.262282374908, 5471.019014701478, 5471.035513381513, 5470.445822488256, 5471.061278736944, 5470.858341000615, 5470.547506695147, 5471.229719620041, 5470.911812045302, 5470.926177248487, 5470.679996425064, 5470.7874820785655, 5471.12771494483, 5471.157630421421, 5470.20643519279, 5470.860095618396, 5470.882991259661, 5470.562910103468, 5470.75628394577, 5470.8939378202185, 5470.916527590197, 5471.111780952985, 5470.34766429457, 5471.148496340457, 5470.863105272283, 5470.705114962703, 5470.810053284786, 5470.279198303181, 5471.33491945483, 5470.531144061895, 5471.281689503927, 5470.273002529933, 5470.64566962539, 5470.181099970013, 5470.496160663637, 5470.991356347168, 5470.791143656528, 5470.537148683955, 5470.824864642469, 5471.155683580691, 5470.605099352631, 5470.774935662976, 5470.461716708482, 5471.304987651504, 5470.755414470787, 5470.714886871502, 5470.840859128985, 5470.941412684119, 5470.90001010111, 5470.777446809258, 5471.002333325257, 5470.79240063228, 5470.585952950861, 5470.743120942849, 5471.011984170347, 5470.956171912857, 5469.907752949166, 5470.780657609834, 5470.667696042824, 5470.353373750341, 5470.787300767223, 5471.00876594697, 5470.9917763816775, 5470.8165474525795, 5470.855216967263, 5470.91697154032, 5471.055085098457, 5470.302654586801, 5470.884368332702, 5471.1764550525695, 5470.7257419397665, 5470.646290426764, 5470.920816815884, 5470.95521214868, 5471.001792400054, 5470.942487813582, 5470.479902824886, 5471.126256903568, 5471.061170754348, 5470.716225033488, 5471.0240277994, 5470.784804082411, 5471.215671181736, 5470.815770731179, 5470.7196777504705, 5470.965251765825, 5470.352433442121, 5470.755236467479, 5470.625438862183, 5471.127742193297, 5470.608645741467, 5470.574162601761, 5470.832892353297, 5470.585265229292, 5470.582772194812, 5470.823072056003, 5470.549931740477, 5470.9811243326985, 5471.32454774906, 5470.538650784018, 5470.542600445105, 5470.892771619271, 5470.852509840745, 5470.592790484895, 5470.735774179343, 5470.906869648571, 5470.919407183297, 5471.413596012318, 5470.486056967583, 5470.84030186932, 5470.577348813218, 5471.014060076508, 5471.0803308292225, 5471.0811477547495, 5470.611859456092, 5470.979351108192, 5470.5968503975355, 5471.144071789327, 5470.6427458410435, 5470.956220639639, 5470.8431604364105, 5470.686038689707, 5470.538121158393, 5471.166086781029, 5470.5475319696325, 5470.731752164602, 5471.052792461482, 5470.602962027264, 5470.432066621176, 5471.010279137873, 5471.028496525043, 5470.606061373497, 5470.873403664738, 5470.821420322177, 5470.941271448966, 5470.8498687574665, 5470.881842286464, 5470.218322909831, 5471.188964160273, 5471.013324277332, 5470.490374594714, 5470.56320014854, 5470.917909956507, 5470.714989166234, 5470.415608580769, 5470.693444264514, 5470.836333485313, 5470.36385832336, 5471.244915096398, 5470.3608303726705, 5471.387992538452, 5470.4125672958835, 5470.976231632115, 5470.667468483848, 5470.824359212212, 5470.4478814314125, 5470.703669673885, 5471.201855256989, 5470.583542810136, 5470.928823969842, 5470.91651137196, 5471.101734879, 5470.781644271194, 5470.5815730488375, 5470.652420009129, 5470.978241276393, 5470.908653759558, 5470.769503193601, 5470.87197793143, 5470.939886600176, 5471.0215064609665, 5471.210288952786, 5470.267694028868, 5471.02403410258, 5471.103870378816, 5470.221019199398, 5470.158847454864, 5470.767538289094, 5470.391552805339, 5471.168700755169, 5471.238672632997, 5471.008512308923, 5471.090982019451, 5470.466330911805, 5470.623830483933, 5470.330411344091, 5471.107894477497, 5470.899924670323, 5470.651405886189, 5470.906671215812, 5470.893259156375, 5470.491483902081, 5470.779324251883, 5471.101256125851, 5471.064877859391, 5470.883654781243, 5470.3938681321415, 5471.1535270573495, 5470.51297196806, 5470.233458836185, 5470.9947963913855, 5471.213165273981, 5470.561254628215, 5470.614751734959, 5470.900603385436, 5470.868210909278, 5470.678417728079, 5470.504237499819, 5470.328388846076, 5471.113328069833, 5470.925259524015, 5470.742617894915, 5470.735709010748, 5470.444079172611, 5470.800958211022, 5470.9048121793185, 5470.739742091196, 5470.70405823155, 5471.060286061106, 5470.972638130575, 5471.257173429003, 5470.900360863572, 5470.993384512346, 5470.582250179557, 5470.64132016941, 5471.079568161746, 5470.849762290175, 5470.565925425498, 5470.736583750598, 5470.891916130595, 5470.508861496108, 5470.640328064048, 5470.249313974684, 5470.597699809012, 5470.693787704414, 5470.703820546825, 5470.679419709271, 5470.925171692246, 5471.246639607258, 5470.307874857647, 5470.523352061132, 5470.97361055288, 5471.134006465939, 5470.976137496595, 5470.469818340425, 5470.517364069254, 5470.5172550466605, 5470.70483878238, 5470.732888350132, 5471.274563127285, 5470.899481022912, 5470.903052994985, 5470.428394263743, 5470.397425322162, 5470.672473670657, 5470.747455418658, 5470.394520495414, 5471.090810377908, 5470.236935372881, 5470.104858479072, 5470.447970082725, 5470.794775598854, 5470.685208695165, 5470.9898880555675, 5470.665977509035, 5470.894629661534, 5470.704852249256, 5470.294282882527, 5470.788478373371, 5470.859581029393, 5470.861137331409, 5470.222471318359, 5470.77648293376, 5471.203174556728, 5470.321357778963, 5470.776629037484, 5470.980575977064, 5470.68617160225, 5470.407287693611, 5470.72808795515, 5470.8346378582655, 5470.83056338279, 5470.918054375783, 5470.493924217139, 5470.2414020646265, 5470.205236581843, 5470.961669616985, 5470.566281969922, 5470.947718736996, 5471.015250285989, 5470.326277529191, 5470.784810111972, 5470.573818434685, 5471.001163653104, 5470.723522952967, 5470.7503870832115, 5470.261280532176, 5471.245550282395, 5470.665713481149, 5470.821420322177, 5470.774686812766, 5471.293284753352, 5471.047772406708, 5470.387755490416, 5470.703696352239, 5470.5205257120415, 5470.922466477746, 5470.164926181982, 5470.477935398429, 5470.511974270364, 5470.930929601991, 5470.305387070705, 5471.117797617675, 5471.071580960875, 5470.798875570329, 5470.897825245545, 5470.388451290049, 5470.526026089759, 5470.470839740392, 5470.354230394558, 5470.69677592523, 5470.41010356264, 5470.883713157316, 5470.257284026311, 5470.643498804306, 5470.316915329167, 5470.631843072871, 5471.072754311759, 5470.52682808176, 5470.980598042997, 5470.281926768403, 5470.821057069523, 5470.537982608818, 5470.685112904979, 5471.076785049984, 5470.59185198648, 5470.881736667912, 5471.189981854782, 5471.283546955932, 5470.900355988959, 5471.090972631492, 5470.794538597491, 5470.977985294766, 5471.033475965673, 5471.250471081544, 5470.983092254634, 5470.9212346614895, 5471.153203941931, 5471.219355109172, 5470.821492954218, 5470.048084044545, 5470.978764668548, 5470.8053526748945, 5470.612356616379, 5471.2097071664, 5470.806420599163, 5470.9697842434325, 5471.226617218697, 5470.6432198700995, 5470.752029598375, 5470.802895765453, 5470.552184895046, 5471.031979836498, 5471.096651721229, 5470.834110649345, 5470.948802946667, 5470.671171828792, 5470.491658189024, 5470.559818755751, 5470.6107210239925, 5470.9280669260925, 5470.698442422579, 5470.965815014657, 5470.990190203068, 5470.93510462116, 5471.007967900017, 5470.8150260514885, 5471.1454573650035, 5471.081291903757, 5470.657222593525, 5471.007825729925, 5470.30516155631, 5470.748518769628, 5471.150896650027, 5471.010938933584, 5470.908291338613, 5471.090200821211, 5470.834218205757, 5470.7631325613365, 5470.569716840658, 5470.9049668368725, 5470.7534520460595, 5470.529757763903, 5471.047932077887, 5470.09993629751, 5470.422966187862, 5470.592446116436, 5470.721931016653, 5470.491018907784, 5470.918346691886, 5470.989305598224, 5471.2925750873665, 5470.422245271103, 5471.173509095391, 5470.3177194923755, 5471.07225256248, 5470.419132360662, 5470.685469005389, 5470.818909937865, 5470.732554708304, 5470.926288778834, 5470.986097724315, 5470.809730231387, 5470.613919695749, 5470.961946944325, 5470.812588295461, 5470.673482906702, 5471.286167722148, 5470.671149954207, 5470.239897799466, 5470.749275506266, 5470.877167869206, 5470.417039672574, 5470.634845037121, 5470.650494902167, 5470.387858219595, 5470.392636830026, 5471.015205466402, 5470.848770446308, 5470.999998710425, 5470.549651265599, 5471.098635566685, 5470.785218995363, 5470.525597412115, 5471.272877449638, 5470.5655828523795, 5470.749430552419, 5471.156491470942, 5470.918277931649, 5470.916295581197, 5470.78548788425, 5470.505256775405, 5470.950925006421, 5470.722790571563, 5470.554221116755, 5471.027964988614, 5470.950022822878, 5470.023008202964, 5470.731123689192, 5470.633166394727, 5470.876810157594, 5470.512408194156, 5470.383758725031, 5470.8150260514885, 5471.15966758852, 5471.1375150376425, 5470.856306348005, 5470.684727545448, 5470.89537334132, 5471.1087630621505, 5470.975299155993, 5470.493906582267, 5470.673794147872, 5470.482463749259, 5470.232547257099, 5470.546281626684, 5470.352705836765, 5470.680072515109, 5470.922984059263, 5471.002877775014, 5470.178901354, 5471.052738192857, 5470.667596653891, 5471.229650613947, 5470.803927677719, 5470.6041656099815, 5471.034918266201, 5470.711947714052, 5470.506242694351, 5470.64261282895, 5470.5999981563355, 5470.656903892685, 5470.759106462243, 5470.952285708312, 5470.894855515262, 5471.129499196794, 5470.6621093141375, 5471.027959842726, 5470.917106654248, 5470.697037222373, 5470.535748125575, 5470.991454921485, 5470.865778382742, 5470.576254965158, 5470.608839704069, 5470.554630992277, 5470.924733233109, 5470.622408029249, 5470.94100286689, 5470.945962067189, 5470.421534748155, 5470.795083963377, 5470.607169806254, 5471.066271980035, 5470.777446809258, 5469.997330696758, 5470.834211758987, 5470.733596914032, 5470.8271224673335, 5469.913485675139, 5471.2486540571945, 5470.73054237369, 5470.885162230752, 5470.884410829029, 5470.948867053847, 5471.111195885597, 5471.208615601222, 5470.719916953208, 5471.151726625132, 5470.859944059313, 5470.441007173723, 5470.561100091338, 5470.954555272709, 5470.53384794242, 5470.66543288962, 5470.998198442927, 5470.6705791309, 5471.021341526194, 5470.586278817007, 5471.118322397366, 5470.828314346087, 5470.680064666753, 5470.685970953925, 5470.89671590739, 5470.854352324512, 5470.194833669858, 5471.002138674586, 5470.818854186181, 5470.6618656991905, 5470.805820904381, 5470.874368194516, 5471.155627847883, 5470.984200824619, 5471.08887971578, 5471.146507133891, 5470.660783315186, 5470.709713207028, 5471.226778303408, 5470.763600928405, 5470.785131985021, 5470.840813986468, 5470.713868967577, 5471.021103112342, 5470.740772271147, 5470.784209701601, 5470.821566827536, 5470.68603396768, 5471.26353345292, 5470.73168976965, 5470.899428190509, 5470.497995577287, 5470.961668958073, 5470.928263637327, 5470.739367640967, 5470.6843958178915, 5471.008335892549, 5470.843978186202, 5470.771693144982, 5470.982728251775, 5470.542332126847, 5471.282338607857, 5470.995874304283, 5470.5552573536, 5470.940855684679, 5471.045676294905, 5470.564952238823, 5470.790238089892, 5470.709673632131, 5470.463257394577, 5470.94720970525, 5470.59230995761, 5470.65947857856, 5470.898746951627, 5470.8826707425615, 5470.842734083251, 5470.941529283416, 5470.8755925060905, 5470.352885177521, 5470.883214451462, 5470.909249747549, 5470.625004251421, 5470.544123256429, 5470.449440931744, 5470.256523537621, 5471.17699344224, 5471.229156670003, 5470.284664867771, 5470.756274267967, 5470.350105570029, 5470.895324511643, 5470.992592953646, 5471.1816864239545, 5471.053698051093, 5470.764263442677, 5470.785718409062, 5470.5982051047085, 5470.07956885988, 5470.826503860364, 5470.709085635955, 5470.454201816386, 5470.829334546337, 5470.731965796067, 5470.6164138426175, 5470.454720197823, 5470.8098678242495, 5470.910738725305, 5470.708869115, 5470.865411315242, 5471.221309427527, 5470.770113531237, 5471.054985916539, 5471.056796926735, 5470.791968691985, 5470.682265610669, 5470.34146658625, 5470.132488121296, 5470.960314104019, 5470.8336964328555, 5470.974650652952, 5470.707163259537, 5470.965986559284, 5470.279466267777, 5470.348129428907, 5470.679138301033, 5470.835957453557, 5471.08765611761, 5471.09083599587, 5470.974909231791, 5470.810541464127, 5470.884796241575, 5471.117373508713, 5471.004725562246, 5470.939341985773, 5470.579305139215, 5471.125817205024, 5471.080718272965, 5471.184600958572, 5471.025001448774, 5470.555752135748, 5471.261618577774, 5470.482204820245, 5470.544738543334, 5470.865246220208, 5470.849154685755, 5470.993805120279, 5470.29958417813, 5470.441047573488, 5470.997731116654, 5471.184648190672, 5470.881470203781, 5470.875803579414, 5470.977293549772, 5470.866938353774, 5470.28689940744, 5470.798305364066, 5471.023985817233, 5471.156631109503, 5470.595302651947, 5470.563866981167, 5470.49239302224, 5470.969121021172, 5471.00959446368, 5470.820039907325, 5471.124618244799, 5470.855927459154, 5470.695788578251, 5470.559814548047, 5471.025754565102, 5470.743196920921, 5470.508390892773, 5470.625553276466, 5470.84030186932, 5470.849108719999, 5470.386021766126, 5470.863117704358, 5470.551115640109, 5470.943847886659, 5471.255459659491, 5471.116036622293, 5470.616937720225, 5470.632007660454, 5471.167213161191, 5470.560897607985, 5470.707437402857, 5470.706270927582, 5471.206064941704, 5470.620242785825, 5470.554180808189, 5470.530672787253, 5470.747582991384, 5470.844700909624, 5470.266632822982, 5471.006619100443, 5471.076540570814, 5471.013024687092, 5470.798736173712, 5470.946052849387, 5470.076415138728, 5470.66981735298, 5470.522213515704, 5470.990555711162, 5470.8992279409695, 5470.50385523799, 5470.997198911573, 5470.644010177461, 5471.13441342251, 5470.62674277087, 5471.018210896124, 5471.28226489765, 5470.939503374286, 5470.690239191973, 5470.491185927217, 5470.854470557633, 5470.374904481468, 5470.9085682793375, 5470.936151951465, 5470.758391858839, 5470.677381732881, 5470.668059419165, 5471.206051237078, 5470.771693144982, 5470.633166394727, 5470.310082852277, 5471.237363860074, 5470.575308167413, 5470.249158589237, 5470.960609722787, 5470.924907120701, 5470.408652346424, 5470.854561833452, 5470.766797640322, 5470.884873823159, 5471.258256698165, 5471.184914481406, 5470.389513191606, 5470.52547908257, 5470.995083834367, 5470.911681171857, 5470.253355759834, 5470.849456912222, 5470.697402971543, 5470.3648123445955, 5470.869711877644, 5470.673620206693, 5470.309539459542, 5470.839335389354, 5470.816951706998, 5470.959664237524, 5470.728933060852, 5470.778383360848, 5471.0735480108915, 5470.809203634386, 5471.12779317358, 5471.093689496752, 5470.478310255592, 5470.632996479394, 5470.823210648848, 5471.060209345294, 5471.2750805797605, 5470.7737744807555, 5470.249604423793, 5471.2114486792125, 5471.221252248207, 5470.595059549381, 5470.3655306975, 5470.49230212576, 5471.0425314148115, 5470.5990401148065, 5470.802956003416, 5470.98940503273, 5470.489921158738, 5470.900143511116, 5471.088504174317, 5470.530946380435, 5470.726836334349, 5470.307503550263, 5471.290790539901, 5471.185541529494, 5470.636986372708, 5470.508926720126, 5471.092363074331, 5470.705535574687, 5470.539607680782, 5470.709285557735, 5470.514580161098, 5470.8441838017725, 5470.8215483132735, 5471.176049502818, 5471.156371173361, 5471.130453413557, 5471.146693853733, 5470.687059219864, 5470.774046178885, 5470.804072696176, 5470.97430226164, 5470.7278318092685, 5470.6210844940115, 5470.655325868689, 5470.426936123961, 5470.98924467589, 5470.296827757407, 5470.672566626598, 5471.1841668116085, 5470.42324411588, 5471.115006023542, 5470.91550850096, 5470.920527153119, 5470.999680264029, 5470.757450052185, 5470.4215459108955, 5471.053545362248, 5470.699526287263, 5470.886366618772, 5470.902008234669, 5470.693795722916, 5471.23764510002, 5471.058733421334, 5470.957527166846, 5471.023591568155, 5470.636307755669, 5470.817828397642, 5470.924931423473, 5471.038300352884, 5470.879175367903, 5471.065441959221, 5470.836926058648, 5470.847983489474, 5470.90770461534, 5471.26291398594, 5470.955650889006, 5470.327881210672, 5470.961682912647, 5470.654028002085, 5470.605112256497, 5470.636468073806, 5470.803491545905, 5470.939115637446, 5470.939249790062, 5470.919115258006, 5470.7705591376925, 5470.55832214905, 5470.608938368573, 5470.92661653443, 5470.76285812702, 5471.108391828649, 5470.506103987331, 5470.653934888446, 5470.752762636361, 5470.6593861947795, 5470.866936274788, 5470.561983100978, 5470.569562723502, 5470.963407935708, 5470.93469104726, 5470.926363140769, 5470.50160838523, 5471.0701421517, 5470.515600637983, 5470.878807905231, 5470.318283632409, 5470.200426647112, 5471.085364997687, 5470.733645662455, 5470.867913723978, 5470.697275109928, 5471.258903687338, 5470.911771803529, 5470.753690913801, 5471.039083130748, 5471.163816182032, 5470.584637848157, 5470.52052455436, 5470.986554513197, 5470.985801583519, 5471.146346100251, 5470.933649095597, 5470.869758578537, 5470.486791548565, 5471.006374896942, 5470.651749765963, 5470.362705751034, 5471.115249151986, 5471.092707341654, 5470.505145922172, 5470.806237762766, 5471.046207692272, 5470.812157555576, 5470.832702771297, 5470.5605054665175, 5470.884640940474, 5470.637101799236, 5470.984553102751, 5470.645728343808, 5470.380594784584, 5470.859706265975, 5471.25739508685, 5470.841955381094, 5471.012266876501, 5470.832339409981, 5470.351725284973, 5470.862655540454, 5470.873923555819, 5470.712799543879, 5471.006054184173, 5470.830731175517, 5470.992255652635, 5470.9250212833695, 5470.769868443363, 5470.952559590045, 5471.304542624922, 5470.870565476682, 5470.459072254208, 5470.670092742459, 5470.918182316974, 5470.50629489742, 5470.583456348166, 5470.859224549538, 5471.191285602939, 5470.823277463848, 5470.796538671802, 5470.823828728965, 5470.918344137904, 5470.585061778965, 5470.894275086904, 5470.881842286464, 5470.494553883612, 5471.03999672654, 5470.581706213308, 5470.936047082602, 5470.699325729678, 5471.0073236697035, 5470.895531780198, 5470.790536484969, 5470.884003124779, 5470.653208513291, 5470.954883333732, 5470.520445711062, 5470.855499342593, 5470.689717045472, 5470.739060224231, 5470.893100706699, 5470.797608425263, 5470.852060887052, 5470.817142182884, 5470.441513231327, 5470.207614455569, 5470.513088904205, 5470.1790823878955, 5470.8516034070835, 5470.594773666227, 5470.996102051218, 5470.745811011176, 5471.160326573709, 5470.866938353774, 5471.035967094201, 5470.6995582508835, 5470.781354126326, 5470.524428996479, 5470.380505211087, 5470.769278005928, 5470.388208594306, 5471.0276173187885, 5470.426190795638, 5470.738511449756, 5470.890281202057, 5470.6580929942465, 5470.334376707797, 5470.663099319045, 5471.335194138344, 5470.701515991295, 5470.538210168337, 5470.837508664109, 5471.053561116441, 5471.0737656342535, 5471.155241538554, 5470.467648572422, 5470.928125014477, 5471.0150883285805, 5470.689282181174, 5470.82273900239, 5470.771823480753, 5470.27786453284, 5471.235652347886, 5470.633325471255, 5470.372930930432, 5470.797313659921, 5470.326483785873, 5470.420213742899, 5471.050628603703, 5470.608633234133, 5471.02246458369, 5470.182138786304, 5470.909034237478, 5470.832855867973, 5470.547648248147, 5470.407443097135, 5470.618491328856, 5470.738863894638, 5470.709223132423, 5470.843496760964, 5470.801976218469, 5470.757693647399, 5471.0022612430785, 5470.28217405661, 5470.935399852331, 5470.832773694332, 5470.173779368232, 5470.20539220929, 5470.411093167603, 5470.5373241786365, 5470.897900347555, 5471.184739395833, 5470.261227671206, 5470.878001554941, 5470.395020676551, 5470.973379500422, 5470.447912745513, 5471.148480359748, 5471.009754941921, 5471.082053002267, 5470.549961259345, 5470.960116752929, 5470.684735428298, 5470.524879612796, 5470.569454720821, 5471.012485455053, 5470.257508489203, 5470.634244500822, 5471.285505760406, 5470.353700369375, 5470.514896017853, 5470.608495715713, 5471.058928707749, 5470.798199112708, 5470.898014512444, 5470.596918660573, 5470.9614092020865, 5470.806263980972, 5470.923855848446, 5470.433432734918, 5470.894489926424, 5470.835916264336, 5470.888752020105, 5470.471132125782, 5470.414249932228, 5470.789476417391, 5470.893741336268, 5471.110094156202, 5470.903643016241, 5470.613426457675, 5470.654856208138, 5470.899572956766, 5470.6768215417405, 5469.998979168185, 5470.839821657324, 5470.985015848196, 5470.350814578292, 5470.649985041577, 5470.851756087699, 5470.9704932318455, 5470.639763988469, 5470.87549430799, 5470.927795526152, 5470.551055222425, 5470.89986101582, 5470.71662565484, 5470.24799099673, 5470.250071271035, 5471.036284918169, 5470.403567161441, 5471.302267832737, 5470.807468425454, 5470.922027745834, 5470.829334546337, 5471.317223251977, 5470.929330357919, 5470.479459585552, 5470.141592297288, 5470.514580161098, 5470.930327769266, 5470.6245218273625, 5470.766973196798, 5470.358983369468, 5471.052224282277, 5470.944902691338, 5470.378121181787, 5471.0769194350005, 5470.937930941453, 5470.859187422801, 5470.93114942968, 5470.9969653156895, 5470.970643588362, 5470.314426855332, 5470.893263892973, 5470.55412831695, 5470.73137592679, 5471.135433511599, 5470.434300470241, 5470.542939280858, 5471.059019949857, 5470.82954589559, 5471.000835819757, 5470.970467839978, 5471.047328175999, 5471.206521289537, 5470.665648582637, 5470.407808449232, 5470.666843046689, 5470.279015225323, 5471.133532979339, 5470.868474008042, 5471.084812510835, 5470.879387401701, 5470.602835775197, 5470.627544925952, 5470.575216748513, 5470.774677013155, 5471.0657528935935, 5470.8103306194125, 5470.689717045472, 5470.381008025839, 5470.6906060562715, 5470.950344049804, 5470.801183698569, 5470.8949602175335, 5470.352850205881, 5470.811644347252, 5470.889087050663, 5470.6070379880375, 5470.610917243392, 5470.568681142298, 5470.546710597138, 5470.641776602417, 5470.6017803616405, 5470.707726367568, 5471.039884208866, 5470.624936676873, 5470.685310673195, 5470.589732262489, 5470.829723335353, 5470.908381282825, 5471.003783592428, 5470.333819841183, 5470.842853572337, 5471.133225862392, 5470.710933283542, 5470.620827868982, 5471.314095331419, 5471.03444936536, 5470.575802024048, 5470.759751308463, 5471.188691823274, 5470.74147149388, 5470.378109532085, 5471.194627499869, 5470.508519095832, 5470.364131911724, 5470.86322808552, 5470.828661527674, 5471.008559188645, 5470.978605795704, 5471.207483494142, 5470.745477700514, 5470.56569393719, 5470.727178946886, 5470.935023259626, 5470.6352169526845, 5470.629850159742, 5470.732888350132, 5470.438034759256, 5470.979774390111, 5470.774055421362, 5471.06821667939, 5470.3406254059755, 5470.579760228649, 5470.684825719823, 5470.623495760246, 5470.355425484503, 5471.001251343158, 5470.824952334124, 5470.830398494759, 5470.864342521374, 5470.378652057263, 5471.122481146485, 5470.990996696562, 5470.656756858658, 5471.243609008007, 5470.861148828587, 5471.024833647551, 5470.897222712886, 5470.958459696372, 5470.544738650324, 5470.091438891195, 5470.238351208395, 5471.143528605821, 5470.350927400349, 5470.832369625436, 5470.873411479421, 5470.640821906941, 5470.874025158492, 5470.510030915815, 5470.5065115955695, 5470.7643790496995, 5470.93122604906, 5470.470839740392, 5470.517759234538, 5470.576888635262, 5470.566036248993, 5470.365206572763, 5470.9418500848615, 5470.698983454518, 5470.846229666288, 5470.678798534916, 5470.986323260899, 5470.526040889634, 5470.844076003875, 5470.657465511892, 5471.045258464482, 5470.897458885927, 5471.113502899134, 5470.6264268252935, 5470.516182667254, 5470.84030186932, 5470.902008234669, 5470.640795465284, 5470.919775214879, 5470.9286311890955, 5470.619033706486, 5470.522284602675, 5470.589549740263, 5471.0093564330655, 5471.150308685733, 5470.83453504356, 5470.768949898881, 5470.760345638641, 5470.7374696387205, 5470.782027146596, 5471.005045272461, 5469.885659639919, 5470.303723530045, 5471.141179862864, 5470.81495803183, 5470.939249790062, 5470.798122295563, 5470.954224909004, 5470.965650024736, 5470.872130042563, 5470.546815069091, 5470.830731175517, 5470.666004306476, 5470.83090215684, 5470.852748062762, 5470.720049174448, 5471.003988364228, 5470.924250413379, 5471.037681701954, 5471.0021198769, 5470.843015118761, 5470.809483719482, 5470.541618781095, 5471.141177235457, 5470.343361506516, 5470.758338123702, 5470.304501853781, 5470.74706428192, 5470.505326828935, 5470.371087741, 5470.526552988095, 5470.639406728254, 5470.890608296238, 5470.579420925034, 5470.395782474956, 5470.8159694686165, 5471.240234965183, 5470.968355939859, 5470.519920619256, 5470.972911176374, 5470.545932943757, 5470.541226601474, 5470.635970895904, 5470.366107273678, 5470.964488958112, 5470.634002218716, 5471.115209146946, 5470.095811110446, 5470.474617454136, 5470.97355425233, 5471.3526692800815, 5470.75654846497, 5470.4947476602965, 5470.496574086416, 5471.047036688061, 5470.609897375072, 5470.9416248415555, 5470.704852249256, 5470.759107201778, 5470.847318950833, 5470.609397856305, 5470.220568281299, 5470.930502083987, 5470.6524235536435, 5471.041812385773, 5470.8348413866015, 5470.899342790139, 5470.9077098677235, 5470.726962597592, 5470.331152663958, 5470.8209562403035, 5470.782551426403, 5470.749887876268, 5470.802529285767, 5470.1393551563415, 5470.599230112766, 5470.653071405671, 5470.629600241104, 5470.402964643954, 5470.736686617714, 5470.833949106924, 5471.170401838414, 5471.041610994087, 5470.73911895747, 5470.783633126287, 5470.9237421907565, 5470.937126480596, 5471.062534497946, 5470.668033764045, 5470.818728019987, 5471.009858605437, 5470.347561223119, 5470.2717683726205, 5470.668358131611, 5470.72990953739, 5470.990653419248, 5470.858194214832, 5470.884640940474, 5471.131842637411, 5470.328889197165, 5470.768949898881, 5471.065983107779, 5471.009499656042, 5470.7697354530565, 5470.91362043762, 5470.830931491738, 5470.397151594901, 5470.850897548004, 5470.993201832666, 5471.189185853877, 5471.040514722243, 5470.939539447939, 5470.53546777279, 5471.052644559642, 5471.063823079659, 5469.887702360104, 5470.892027185047, 5470.636977126527, 5471.073182313739, 5470.32488518828, 5470.944797711907, 5470.769428103281, 5470.894462364694, 5470.89587457008, 5470.989412284705, 5470.308467400206, 5470.680579221578, 5470.235247885137, 5470.801951616723, 5470.436486012182, 5470.67497518996, 5470.801200117523, 5470.876960386715, 5471.056972044197, 5470.9745048881005, 5470.36450241831, 5471.016469074271, 5471.025248087389, 5470.882399810764, 5470.767082438363, 5470.922459430027, 5470.98871219324, 5470.481848420023, 5470.694345611499, 5470.821207909857, 5471.195894383498, 5470.593805041493, 5471.00569271459, 5471.030447431956, 5470.865568074179, 5470.546460274506, 5470.574050739395, 5471.197915837645, 5471.073458989902, 5470.832737175237, 5470.846602652352, 5470.821912938726, 5471.2453912654455, 5470.0949669271495, 5470.875993326068, 5470.620149007624, 5470.92374303289, 5470.495008912355, 5471.237049843486, 5470.800323616332, 5471.066271980035, 5470.68806232265, 5470.962761124844, 5471.081550306937, 5470.947450466642, 5470.7204550242595, 5470.994589149938, 5470.9378020952545, 5470.323224334148, 5470.6466429671855, 5471.060992509129, 5470.92560329807, 5470.967945760005, 5471.0036631007015, 5471.308604356285, 5470.143715110106, 5470.7271728769265, 5470.8110010398395, 5470.815651644308, 5470.8968029534635, 5470.424796268644, 5470.619872618426, 5470.575719413637, 5470.928823969842, 5471.215649411651, 5470.498608372344, 5470.584716352567, 5470.8749511348, 5470.667316418152, 5470.699637856591, 5470.600289865703, 5470.617175269859, 5471.040851706114, 5470.5985996751615, 5470.786491678114, 5470.679870684044, 5470.121006646953, 5470.334816988675, 5470.998706348764, 5470.6701000674775, 5470.549520982669, 5470.693357346605, 5470.683472236976, 5470.642601114094, 5471.085843132674, 5470.842282005645, 5470.916796823871, 5470.817614212791, 5471.056337530536, 5470.786198032314, 5471.156418875581, 5470.695384302671, 5470.9671412614725, 5470.911768386211, 5471.016424858869, 5470.507109565417, 5471.070678490685, 5470.873722093939, 5470.738368474849, 5470.41660635945, 5471.3217789571945, 5470.596918660573, 5470.20092026359, 5470.76612783641, 5470.841060382153, 5470.912018069031, 5471.244077365975, 5470.298291462053, 5470.991156057264, 5471.028858372563, 5470.666208186999, 5470.714676734546, 5470.607737219004, 5471.028695981122, 5470.527501358803, 5470.81974928293, 5470.6105392751815, 5470.234902273009, 5470.733525900241, 5470.785345954699, 5470.259890160072, 5470.817922009942, 5470.336298088683, 5470.792230049883, 5470.54983871235, 5470.685921279072, 5470.751491454049, 5470.922851926835, 5471.178870362727, 5470.863555219934, 5470.621021931046, 5470.305417360417, 5471.226915356029, 5470.912637029763, 5470.895297929055, 5470.334886574401, 5471.036788957711, 5471.396495339363, 5470.832436821974, 5471.0954218088345, 5470.885638508187, 5470.811821875677, 5470.547241892367, 5470.73923079052, 5470.526170476966, 5470.7974676855365, 5470.651025977879, 5470.631472675537, 5470.98744383046, 5470.484611406073, 5470.218104555901, 5470.779229342867, 5470.748776529268, 5470.344345064992, 5471.148896312838, 5470.776858609597, 5470.706270927582, 5470.254206939859, 5471.183696907669, 5470.829638156071, 5470.633720171838, 5470.549855223143, 5470.750217765182, 5470.758055283351, 5470.601442482273, 5470.693444264514, 5471.039264875363, 5470.858940409767, 5470.931615586575, 5470.518515813711, 5470.159566640485, 5470.677209676368, 5470.4961586743575, 5470.65587770884, 5471.096512926742, 5470.609959310704, 5470.6602271955735, 5470.688425314173, 5470.680682085076, 5470.636268927932, 5471.019482588095, 5470.752938995046, 5471.022339496722, 5470.944798534783, 5470.77419011484, 5470.570246465676, 5470.444913170063, 5470.9666308169835, 5470.685469005389, 5470.746314102239, 5470.585770455632, 5470.187539592981, 5470.948864001029, 5470.980176739693, 5471.1648881875235, 5470.898615901207, 5470.940670225682, 5470.6821646087, 5470.611975028166, 5470.309737334702, 5470.89500872152, 5470.86770601432, 5470.879385756004, 5470.478153821453, 5470.838253334964, 5470.813566623683, 5470.7121021772655, 5470.773914012042, 5470.767428009213, 5471.313605161293, 5470.963819445846, 5470.381107013889, 5470.203193570347, 5470.846395515227, 5470.929140140176, 5470.515155546266, 5470.665670353902, 5470.753748992676, 5470.928823969842, 5470.872431715764, 5470.331548015505, 5470.436970199736, 5470.7707385869435, 5470.767955003233, 5470.547416036469, 5470.26358372354, 5471.331641404616, 5470.979707318583, 5470.770006652756, 5470.680938769044, 5470.904877815068, 5470.799889321379, 5470.525425879469, 5470.894708928254, 5470.837682207371, 5470.535942064357, 5470.597684536532, 5470.51468717095, 5470.553064290898, 5470.832538099667, 5470.741095599394, 5470.577676368285, 5470.161792016522, 5470.638017776093, 5470.498943651998, 5471.263492038462, 5470.709750647751, 5471.150696507612, 5470.653555721954, 5471.244019072058, 5471.130985775308, 5471.050963756861, 5471.201334862241, 5470.628618594869, 5470.855538511169, 5470.910798621612, 5470.745707398206, 5470.345905150246, 5470.524170103186, 5470.446079806396, 5470.919201027325, 5471.111112938917, 5470.682341750518, 5470.96256048749, 5470.680425799027, 5470.97085778522, 5470.71079487405, 5470.792734974447, 5470.96332298733, 5470.865715105334, 5470.419905904449, 5471.062471889621, 5470.7480605060055, 5470.93868557755, 5470.733525900241, 5470.78870603397, 5471.022270806884, 5470.699526287263, 5470.698557430739, 5470.628130866438, 5470.910265198894, 5470.57726776857, 5470.956942099302, 5470.856788866058, 5470.620678327193, 5470.827654055368, 5470.550730687456, 5470.873146419351, 5470.965231950335, 5470.842228106817, 5471.238831875527, 5470.67751796017, 5470.809230399974, 5470.886416647968, 5470.995806703074, 5471.023907721239, 5470.602058289727, 5470.49641252688, 5470.977403552883, 5470.549819853418, 5470.9427588555955, 5470.511353277151, 5470.499353745886, 5470.73710180898, 5470.455397763381, 5470.68130456093, 5470.192851829552, 5471.057163093399, 5470.727995095558, 5470.940423025247, 5470.816951706998, 5470.597567769013, 5471.068517247137, 5470.509548144741, 5470.675786310757, 5470.495013273773, 5470.9551898883465, 5470.526418712732, 5470.906930565797, 5470.813013257674, 5470.688555778595, 5470.575098676332, 5470.868243001335, 5470.77599790744, 5470.97641170556, 5471.126241288197, 5470.624809727847, 5471.011526738051, 5470.855501543954, 5470.759107201778, 5470.636087585248, 5470.689288970857, 5470.846602652352, 5470.997966044775, 5470.946613914699, 5470.796068439327, 5470.7510059171145, 5470.375945259272, 5470.592808436349, 5470.583736027218, 5470.964488958112, 5470.320350973803, 5470.752800636269, 5470.5489277029355, 5471.0288621008385, 5470.871755891536, 5470.508135291071, 5470.770113531237, 5471.228924354714, 5470.525012969477, 5470.98996103383, 5470.18210036889, 5470.961175890096, 5470.849177250611, 5471.222925757233, 5470.55194660123, 5470.507834442736, 5471.012737070295, 5470.442909702577, 5470.848367777714, 5470.485105968214, 5470.985042453388, 5470.498483752248, 5470.246773058425, 5470.482643368253, 5471.122325448639, 5471.062030327878, 5470.791940815905, 5470.646927848411, 5470.959273003317, 5470.498643420209, 5470.317359321977, 5470.511798810134, 5471.3243161347245, 5470.968885583779, 5470.936119790626, 5470.118983422374, 5470.910350490601, 5471.134336325189, 5470.485105968214, 5470.743093942802, 5470.604951815569, 5471.017977636155, 5470.669475574314, 5470.95100747431, 5470.479032242099, 5470.790303091286, 5470.785381953049, 5470.953787641469, 5470.765782828251, 5471.035330017888, 5470.459424703907, 5470.734547747327, 5471.076939287021, 5470.3645715138855, 5470.739010904032, 5470.916966501991, 5470.572754962396, 5470.494788876304, 5471.05350427671, 5470.757630763245, 5470.6768510554775, 5471.189981854782, 5470.22839958949, 5470.840988672162, 5470.940917414115, 5470.850151523016, 5470.932029857251, 5470.92139073327, 5470.940674076082, 5470.551067696997, 5470.613803510145, 5470.444258531789, 5470.427689436622, 5470.849435141176, 5471.101368031898, 5470.917088565357, 5471.234827205825, 5470.753748992676, 5470.500252972202, 5471.089047685636, 5470.5798703924565, 5470.707203469381, 5470.871946143129, 5470.752140394449, 5470.515612584975, 5470.422922790248, 5470.519488327758, 5470.562926719861, 5470.704328698559, 5469.8884669340305, 5470.900111404084, 5471.120445576611, 5470.508148491928, 5471.008127989084, 5471.004908065013, 5470.674367068629, 5470.917196155693, 5470.82703037045, 5470.659639372678, 5470.549905209003, 5470.786183275833, 5471.017987773586, 5470.901396243672, 5470.880089273253, 5470.691818039029, 5470.898252962028, 5470.723665794974, 5470.920934929212, 5471.100627868331, 5470.632537513584, 5470.849377513291, 5471.066720794559, 5471.264692829344, 5470.911287680453, 5470.686314858871, 5470.884721458192, 5470.605385559752, 5470.974703474097, 5470.477510741896, 5470.712350183648, 5470.582057416654, 5470.323744337513, 5470.840248208599, 5470.530240289005, 5470.8663915081825, 5470.729872242545, 5471.091142167961, 5471.020248345246, 5470.905895459015, 5470.31710981143, 5470.15266367136, 5470.310343949806, 5470.672591160657, 5471.123163133694, 5470.854561833452, 5471.090426516189, 5470.676908694453, 5471.05983881608, 5470.502010431061, 5471.2486540571945, 5470.11032151684, 5470.708707034001, 5470.183167146416, 5471.1515448309965, 5470.6862195725, 5470.513935186446, 5470.482832028778, 5470.779336325195, 5470.815670492333, 5470.699936376907, 5470.557541193153, 5470.436915859207, 5471.011544147309, 5470.79312848819, 5470.924461552619, 5470.4770539440815, 5471.23568614478, 5470.95765018117, 5470.940703014152, 5471.252425516559, 5470.9122058845305, 5470.432531074055, 5470.759107201778, 5470.502815293715, 5470.20055136218, 5470.50217759637, 5470.965526144195, 5470.967945760005, 5470.666577345705, 5470.689122285073, 5471.088371785646, 5470.968269434048, 5470.71878561371, 5470.9684755821845, 5470.706405469984, 5470.877599062349, 5470.8795323891545, 5470.703697126718, 5470.892096633428, 5470.832544357276, 5471.273112689107, 5470.920057094304, 5470.919887161953, 5470.378100966776, 5470.8441976165, 5470.695226823605, 5470.712923474259, 5470.531916901203, 5470.587440787664, 5470.677316219783, 5470.586937856063, 5470.897143511656, 5470.900249777844, 5470.980942810354, 5470.227165911346, 5470.630144523822, 5471.073302499095, 5470.877091504011, 5470.9441049422785, 5470.705821727623, 5470.728171052636, 5470.666870659998, 5470.822063625859, 5470.625388602024, 5470.901117036967, 5470.668052976293, 5470.856148866808, 5470.576658103238, 5470.789659300389, 5470.755960212415, 5470.876840259646, 5471.142284722762, 5470.850454744122, 5470.737599317014, 5470.7070991072405, 5470.476691833226, 5471.050616450477, 5471.187325903781, 5470.6654457684235, 5470.799781004142, 5470.323864426729, 5470.921882702853, 5471.112197759696, 5470.880571447123, 5470.607931541264, 5471.034177693581, 5470.530187131922, 5470.849762290175, 5470.841924586171, 5470.818844008824, 5471.221601686073, 5470.745891179042, 5470.617071690796, 5471.000434538029, 5470.492879047841, 5470.770124234529, 5470.934097946155, 5470.875310844752, 5471.056972044197, 5469.905276545608, 5470.844076003875, 5470.819295484706, 5470.63014434072, 5470.785037972492, 5470.974036184572, 5470.561254628215, 5471.258774111089, 5471.224880761917, 5470.750573295404, 5470.658726547436, 5470.468131383693, 5470.849177250611, 5471.099884740531, 5471.14253142773, 5470.954833134776, 5470.805080572661, 5470.938189726862, 5470.391797506518, 5470.759869540919, 5470.895552351497, 5470.508556372866, 5471.251685449126, 5470.482643368253, 5470.398179556529, 5470.838903701606, 5470.891037796058, 5470.623689509332, 5470.566616711786, 5471.078539771352, 5470.980557547082, 5470.779576030111, 5471.101885798014, 5470.987794808891, 5470.78132109015, 5470.876226986385, 5470.170890222934, 5471.28442941225, 5470.3471160795525, 5470.900992047669, 5470.812777613384, 5470.536071695594, 5470.382913746331, 5470.979086242415, 5470.943542909262, 5471.109821008469, 5470.939040682696, 5470.804721136537, 5470.9022540228925, 5469.890280670023, 5470.530732561231, 5470.793713088453, 5470.947084455528, 5470.465176979877, 5470.365793609507, 5470.776148171379, 5471.183391154131, 5470.987241511778, 5470.80656757566, 5470.757946676031, 5470.167221738507, 5470.892771498294, 5470.805242101815, 5470.750022418474, 5470.680942494244, 5470.781830136794, 5470.597109625911, 5470.849177250611, 5470.564927811873, 5470.706349359109, 5471.014527532453, 5470.824048723581, 5470.8289201475545, 5470.9892031478685, 5471.000346630124, 5470.716627283559, 5470.998257838428, 5470.562910164662, 5471.154733683159, 5471.081323053496, 5470.8806808596255, 5471.065160248603, 5470.623816649383, 5470.853523187595, 5471.318107519361, 5470.806894718754, 5470.467877813746, 5470.714314446206, 5470.861137331409, 5470.557412876, 5470.735514365739, 5470.694963140037, 5470.612986646913, 5470.973199054771, 5470.826643612778, 5470.646967017123, 5470.109948358441, 5470.682486168788, 5470.915412193293, 5471.019904480628, 5470.304131506981, 5470.9332609355115, 5470.897962879638, 5470.546049922862, 5470.672864946071, 5470.329420335838, 5471.071564848612, 5471.012346410208, 5470.887493960557, 5470.645103736668, 5470.605829723592, 5471.176906640654, 5470.891200224901, 5470.43564185551, 5470.460443691391, 5470.874191936119, 5470.510225865574, 5470.491056668002, 5470.6916599510305, 5470.618839228258, 5470.771693144982, 5470.831775158921, 5471.0563394041155, 5470.840971400931, 5470.810942313029, 5470.976380071917, 5470.548774180835, 5470.707949451508, 5470.610196196123, 5470.576593271845, 5471.178245606598, 5470.8348413866015, 5470.92661653443, 5470.647779739314, 5471.164882100792, 5470.739974643146, 5470.967672014247, 5470.854050236481, 5470.893669221498, 5470.5656364628885, 5471.056972044197, 5470.739633011847, 5471.295037508538, 5470.435548087455, 5470.719276493691, 5470.886303450371, 5470.95583139246, 5470.886862212305, 5470.337299998609, 5470.488735891097, 5470.905820323382, 5470.30357835323, 5471.185570164639, 5470.776220252203, 5471.197977615599, 5470.725203427454, 5470.913118716405, 5470.296962586694, 5471.036784517703, 5470.91374063751, 5471.026843259492, 5470.371138551827, 5470.683239097836, 5471.128899409576, 5470.8176532067955, 5471.165229722709, 5471.233077663245, 5470.799270211943, 5470.704157659166, 5471.29271921587, 5470.507834442736, 5470.346805307697, 5470.856306348005, 5470.8386424302635, 5470.685068974517, 5470.343953637659, 5470.915526710987, 5471.161740592922, 5470.550640159672, 5470.658095968625, 5470.652423848877, 5470.334756646923, 5471.034082853754, 5470.719460934754, 5470.3383712186815, 5470.692049509289, 5470.774446783088, 5470.687331504421, 5471.138332608711, 5470.255190263502, 5470.414302235985, 5470.811275115126, 5470.880195933727, 5470.592808436349, 5471.022084706811, 5470.8249771568835, 5470.694370912859, 5470.867377237613, 5470.89616847488, 5470.450304778142, 5470.8713504588995, 5471.16281636571, 5470.584726079286, 5470.917092589453, 5470.971710647947, 5471.11188172053, 5470.67679917159, 5470.821752735193, 5470.511627650715, 5470.667034317547, 5471.102426797835, 5470.546282145634, 5470.5696768506095, 5470.870530198704, 5471.046109503891, 5471.233036909361, 5470.746981929204, 5470.849550545783, 5471.148097451776, 5470.3629633750925, 5470.888600234703, 5470.638714991304, 5470.986810417428, 5470.901396243672, 5470.591832702015, 5470.625391334723, 5470.99616012594, 5470.877188264208, 5470.883146939782, 5470.318072274294, 5470.832701247271, 5470.777412967963, 5470.470210716887, 5470.4080098631, 5471.023173627882, 5470.909717848149, 5470.820709713251, 5470.635378487392, 5470.873226353495, 5470.216017145913, 5470.7451698556615, 5470.472502063731, 5470.975019928672, 5470.840528202142, 5471.174263909741, 5470.901025795103, 5470.818140133597, 5470.507616117837, 5470.753245529487, 5470.710786919752, 5470.965000067593, 5470.680076562386, 5470.3588285507085, 5470.616830525822, 5471.288778777141, 5470.580758474016, 5470.872414148608, 5470.804585472868, 5470.67704782194, 5470.997430139428, 5470.852579059681, 5470.885395018748, 5470.788220718548, 5470.3625546209805, 5470.274841706491, 5470.983834366151, 5470.946667110256, 5470.490619610854, 5471.187140600403, 5470.395136719141, 5470.802939660503, 5471.1579446568, 5470.395064255832, 5470.429533360013, 5470.527300258173, 5470.626889264618, 5470.507442938822, 5470.912708905734, 5470.689613860307, 5470.858505594541, 5471.040868055636, 5470.972108683819, 5470.4057863718235, 5470.642183708804, 5470.550467111104, 5471.286161605167, 5471.1241950498215, 5470.765560783241, 5470.750472168778, 5470.815802932587, 5470.947608810638, 5470.219212365903, 5470.661496899056, 5470.745223118087, 5471.051335272712, 5471.466410159419, 5470.936011049777, 5471.008879156633, 5470.743490036609, 5469.888657839358, 5470.485924267431, 5470.641814661871, 5470.795122779503, 5470.918014620724, 5470.731828230579, 5470.888774572338, 5470.891596539563, 5470.391162601321, 5470.826375332003, 5470.67679917159, 5470.970713993844, 5470.946247545036, 5470.749314462558, 5470.674139349767, 5471.076075906929, 5470.667324026819, 5470.541356165015, 5470.4963969792, 5470.002595561679, 5470.633280168664, 5470.897027692896, 5470.89890231969, 5470.932701813251, 5470.51627641772, 5470.413244894728, 5471.011702485756, 5470.839421086876, 5471.072713248758, 5470.777446809258, 5470.982089894341, 5470.872743537738, 5470.8936152435435, 5470.947360388853, 5470.742620978956, 5470.364204263113, 5470.929330357919, 5470.819497637455, 5471.21470894216, 5470.600090815883, 5470.617200319167, 5470.9297943067295, 5470.710119879764, 5470.816479615353, 5471.144971645193, 5470.535270615691, 5471.282287985356, 5470.8803587552775, 5471.043750365316, 5470.202338856392, 5470.2818445289795, 5471.125096680376, 5470.302153375867, 5470.793758699769, 5470.5317416298285, 5470.445822488256, 5470.1136664137475, 5470.89130087777, 5470.183167146416, 5470.7284068746285, 5470.34241012451, 5470.7036425236965, 5470.6290524088445, 5470.1448939976035, 5470.38726715512, 5470.92039359707, 5470.545320881102, 5470.388701681904, 5470.753718612514, 5471.2545283415975, 5470.5358567803605, 5471.021830687689, 5470.392651197407, 5470.605112256497, 5470.853321554232, 5471.029985355897, 5470.700219794211, 5470.613063913519, 5470.9703168722945, 5470.901106599475, 5470.456709162641, 5470.488495834312, 5470.870357294263, 5471.007667016288, 5470.973069361727, 5470.681285998068, 5471.151788433079, 5471.189981854782, 5471.159770863954, 5470.584297795977, 5470.536071695594, 5470.489839495081, 5470.956282946827, 5471.242664120857, 5470.504209925039, 5471.309727542276, 5470.99528409875, 5470.783263767675, 5470.568169271149, 5470.869482834718, 5470.3232288451945, 5470.957591477384, 5471.280012663639, 5471.023664653915, 5470.528272943175, 5471.304907163031, 5470.537977405293, 5470.783608783543, 5470.491499484288, 5470.4902833151, 5470.902377770003, 5470.206636283064, 5470.83833688594, 5470.870565476682, 5470.714323099972, 5470.828569349168, 5470.811303390234, 5471.009221101719, 5471.075619312872, 5470.442167263229, 5470.94627206166, 5470.729998970635, 5470.643381821925, 5470.451859010572, 5470.675828137857, 5470.616058874836, 5471.039499208445, 5470.562325471728, 5471.15697923703, 5470.762056864012, 5471.133936881084, 5471.047405575647, 5470.513189867669, 5470.8096373596345, 5470.7065368008225, 5470.468932168939, 5470.26661148131, 5470.974629170372, 5470.9337150612655, 5470.978883662907, 5471.004009789996, 5470.958411006507, 5470.337785001111, 5470.6903568370835, 5470.196222802986, 5471.055974693111, 5470.367271482617, 5470.296727945916, 5470.53495960865, 5470.196107734097, 5471.195418824099, 5471.086010641259, 5470.836425483158, 5470.972273473702, 5470.491966906502, 5471.066486833747, 5470.9369472993485, 5470.390461746771, 5470.665059576314, 5470.780041722665, 5470.5347416872155, 5470.942197467505, 5470.727032133744, 5471.173853282727, 5470.492368245077, 5471.079227421948, 5470.6060435360205, 5470.677713771179, 5470.963884654838, 5470.965324898354, 5470.694853965483, 5470.815370058067, 5471.079666091359, 5471.226282248018, 5470.088660324111, 5470.689127497275, 5470.59807601534, 5470.605870427262, 5470.679820400816, 5471.0341616286005, 5470.8451199747315, 5470.59024799251, 5470.78851850873, 5470.544428133272, 5470.711659977806, 5470.794999997255, 5470.325397339899, 5470.517503258576, 5470.217676075431, 5470.764045152556, 5470.900266466574, 5470.879782289309, 5470.915679149166, 5470.9214997992085, 5470.57132839632, 5470.96999679971, 5470.6511104817055, 5470.061102956129, 5470.89300869504, 5471.061952814054, 5470.857472141408, 5470.539866190328, 5470.654397374077, 5471.302801596496, 5470.972225494329, 5470.737947745498, 5470.644711998592, 5470.863360117203, 5470.604668467458, 5470.791544288198, 5470.623045622824, 5470.506719460129, 5471.1558002917545, 5470.861137331409, 5470.405959464432, 5470.540974900141, 5470.671862951195, 5470.798795650047, 5470.642396780046, 5470.733639143582, 5470.7968430605715, 5471.030844971659, 5470.856708423874, 5470.877188264208, 5470.643755333649, 5470.7948461028745, 5471.004908065013, 5470.856014890932, 5470.900944238823, 5470.885767282723, 5470.747657876864, 5470.824872051683, 5470.786230696225, 5471.045434876852, 5470.243990588357, 5470.364496595782, 5471.2277302363655, 5470.635445420411, 5471.129155922589, 5470.931304210486, 5471.305482831228, 5470.997625856898, 5470.859479681019, 5470.384585786844, 5470.924937399639, 5470.64849120807, 5470.954212370494, 5470.925510054678, 5470.661755203162, 5470.5515893706015, 5470.687145030425, 5470.607931541264, 5470.6344009497625, 5470.892888883192, 5471.0015181965155, 5470.604793333367, 5470.615455266517, 5470.313229418375, 5470.549447490189, 5470.480338638116, 5470.49716896866, 5470.886358642527, 5471.006620508711, 5471.076708313998, 5470.913992346413, 5470.764096795461, 5470.89454636632, 5470.462154091116, 5470.707437402857, 5471.04766695653, 5471.137284855796, 5470.9384581185805, 5470.86915501973, 5470.891469006032, 5471.066486833747, 5471.1878046562615, 5470.75508336722, 5471.069002058107, 5470.533948011748, 5471.007720307455, 5470.519482643865, 5470.924992095124, 5470.469754402256, 5470.662526088029, 5470.9860259122315, 5470.887037622911, 5470.903528621849, 5470.50888729837, 5470.383567664267, 5470.893634562759, 5470.554852040644, 5471.06714463707, 5470.561015619935, 5470.923092563044, 5470.800945060446, 5470.746314102239, 5471.073182313739, 5470.348518459817, 5470.90467242117, 5470.853782707726, 5470.982188873374, 5470.704274810977, 5470.581890924681, 5470.872631620577, 5470.608082100243, 5470.440977250092, 5470.494686455498, 5471.292494995195, 5471.008408677439, 5470.6030091187795, 5470.503394716617, 5470.644601671996, 5470.397825289993, 5470.561643504483, 5470.699381602626, 5470.762229163276, 5470.884542780044, 5470.51811808115, 5470.968238080803, 5470.7646093900385, 5471.050120062694, 5470.559072414859, 5470.899312369174, 5470.528655988692, 5470.841073912313, 5470.8038027613, 5470.8526472305475, 5470.51082221436, 5470.829359531602, 5470.930708539432, 5471.151109057285, 5470.822063625859, 5470.782341199158, 5470.551994310586, 5470.492346778815, 5470.781289406555, 5471.088343173782, 5470.700576847383, 5470.5301608071695, 5470.826613019046, 5470.683655256631, 5470.899226000003, 5470.736801689101, 5470.561012070853, 5471.047045070987, 5470.565051111343, 5471.257960448453, 5470.50918731234, 5470.252629393832, 5470.904600870297, 5470.755217734799, 5470.668626688546, 5470.84971782238, 5470.876187359755, 5470.846302813755, 5470.877188264208, 5470.757693647399, 5470.739100618642, 5470.859517071403, 5471.049997577213, 5470.632924758307, 5470.7929488262425, 5470.537664361341, 5470.9344702875505, 5471.000659462036, 5470.8662943857935, 5470.690440079814, 5470.251617169337, 5470.733180124122, 5470.6152440024, 5470.6639879205495, 5470.775617557049, 5470.17419774873, 5470.141566511928, 5470.954578323581, 5471.176349837903, 5471.063055939385, 5471.121776527701, 5470.3697681426, 5470.636986372708, 5470.468282557176, 5470.5523324454425, 5470.978695609159, 5470.997484519896, 5471.044550334583, 5470.436207973555, 5470.531602504326, 5470.749827386711, 5470.49147071036, 5470.338830034971, 5470.512598777909, 5470.181613565365, 5470.646074526689, 5470.306361193054, 5470.750102048336, 5470.297495758442, 5470.834621426889, 5470.658733125271, 5470.71314592486, 5470.5153311191425, 5470.41310007163, 5471.270308936961, 5471.286222202969, 5470.310770582972, 5470.596109612779, 5470.687757333603, 5470.918233805192, 5470.679070184582, 5470.349474448976, 5470.509054460936, 5470.759613764144, 5471.248171078159, 5470.514257697159, 5470.829198087786, 5470.77578715455, 5470.568155626752, 5471.254074773194, 5470.467944432451, 5470.56637695342, 5471.133354913961, 5470.96750287088, 5470.562615396601, 5471.117448411437, 5470.829031411176, 5470.868868907432, 5470.58972577626, 5470.424701959196, 5470.798210457656, 5470.604048438506, 5470.962065822778, 5471.135535466764, 5470.647082239007, 5470.768812773375, 5470.783644246294, 5470.9338035754345, 5470.793373739046, 5470.914771463081, 5470.703750513057, 5470.398673755724, 5470.515305690424, 5470.309260196025, 5471.044031083534, 5470.652624701322, 5470.699005914642, 5471.000633808794, 5470.967599538282, 5470.7374917021025, 5471.133511294083, 5471.002253156963, 5470.823228056369, 5470.858768480717, 5470.683567872384, 5471.169094622075, 5471.107388495305, 5470.993861496105, 5470.656583566809, 5470.5516611907715, 5470.739060224231, 5470.608935823198, 5470.813394364468, 5471.403677094313, 5471.103343428525, 5470.545576780848, 5470.929908243005, 5470.7756217340875, 5470.914348986502, 5470.387671150146, 5470.748132692635, 5470.812807951213, 5470.953493017794, 5470.962575464692, 5470.263278445842, 5471.041965439614, 5470.52923291415, 5470.793903913315, 5471.3112733502685, 5470.706009564536, 5470.825327289301, 5470.68996079733, 5470.6408075158115, 5470.525778278217, 5470.63102382027, 5470.927860465867, 5470.823331939905, 5471.070813601724, 5470.42096007287, 5471.204627354559, 5470.984548818392, 5470.758638071498, 5470.559870249272, 5471.266970946937, 5470.836061113773, 5470.426386994427, 5470.366312979705, 5470.885291708135, 5470.785967766126, 5469.892816735213, 5470.801976218469, 5470.771734941196, 5470.741516789088, 5470.2853982947545, 5471.245679877149, 5470.560337474605, 5471.26528674957, 5471.041200733087, 5470.841073912313, 5470.9035680754405, 5470.861481860329, 5471.323468385821, 5471.274712025137, 5470.51419763933, 5471.227394402916, 5470.595515188057, 5470.916924014097, 5470.574199674015, 5470.726694002095, 5471.183520853121, 5471.077582504127, 5471.0705534373865, 5471.066426036387, 5470.293269584747, 5470.578513728506, 5471.142118335814, 5469.981731841916, 5470.7007414096115, 5470.9550905500955, 5470.3226900130985, 5470.9860111860535, 5470.601902058858, 5470.635394726169, 5470.844593303005, 5470.084473972812, 5470.725824278638, 5470.565992930762, 5470.221526975522, 5470.767009645325, 5470.763649694312, 5469.882796243664, 5470.807970381323, 5470.772449173484, 5471.2882487590105, 5471.141680587038, 5470.941183346874, 5470.655564450628, 5470.77655244338, 5470.864763945954, 5470.927820224369, 5470.594410379962, 5470.565992930762, 5470.510450569962, 5470.604600460645, 5470.997818269916, 5470.94576897017, 5470.52528897557, 5470.86148098521, 5471.275129642618, 5471.184919925726, 5470.586016801218, 5470.835916264336, 5470.913160579061, 5470.6877050399335, 5470.844039821091, 5469.893903135703, 5470.733525900241, 5470.367353840195, 5470.476662077704, 5471.012737070295, 5470.819057348142, 5470.8239514950255, 5471.190665835929, 5470.884178068788, 5471.185432768321, 5470.958393379862, 5471.052558104969, 5470.573164947716, 5470.314858526833, 5471.103499766518, 5470.961859456832, 5470.535747085137, 5470.860302984719, 5470.553669342314, 5470.472969913162, 5470.517958192524]\n"
          ],
          "name": "stdout"
        }
      ]
    },
    {
      "cell_type": "code",
      "metadata": {
        "id": "leNgRgAf02XV"
      },
      "source": [
        "euc_df = pd.DataFrame()\n",
        "euc_df['Euclidean'] = euc_dist\n",
        "euc_df['file'] = find.iloc[:,-1]\n"
      ],
      "execution_count": 40,
      "outputs": []
    },
    {
      "cell_type": "code",
      "metadata": {
        "id": "Qk_O9JA206Hb"
      },
      "source": [
        "selected_file_euc = euc_df.nlargest(5, ['Euclidean'])"
      ],
      "execution_count": 41,
      "outputs": []
    },
    {
      "cell_type": "code",
      "metadata": {
        "colab": {
          "base_uri": "https://localhost:8080/"
        },
        "id": "ZCERSf3s08RX",
        "outputId": "eb678b56-490e-480c-e301-4b34fc329a05"
      },
      "source": [
        "recommended_list = []\n",
        "for file_name in selected_file_euc['file']:\n",
        "  recommended_list.append(os.path.basename(file_name))\n",
        "recommended_list"
      ],
      "execution_count": 42,
      "outputs": [
        {
          "output_type": "execute_result",
          "data": {
            "text/plain": [
              "['song_folk2.mp3',\n",
              " 'Chad_Crouch_-_Very.mp3',\n",
              " 'Mid-Air_Machine_-_Ampheral__Text_Notification.mp3',\n",
              " 'song_folk4.mp3',\n",
              " 'Chad_Crouch_-_Hot_Pink.mp3']"
            ]
          },
          "metadata": {
            "tags": []
          },
          "execution_count": 42
        }
      ]
    },
    {
      "cell_type": "code",
      "metadata": {
        "colab": {
          "base_uri": "https://localhost:8080/",
          "height": 195
        },
        "id": "7aq9xb0XgAs3",
        "outputId": "8b493aec-0fda-42a3-d56b-37f4486f560e"
      },
      "source": [
        "selected_file_euc['file'] = recommended_list\n",
        "selected_file_euc"
      ],
      "execution_count": 43,
      "outputs": [
        {
          "output_type": "execute_result",
          "data": {
            "text/html": [
              "<div>\n",
              "<style scoped>\n",
              "    .dataframe tbody tr th:only-of-type {\n",
              "        vertical-align: middle;\n",
              "    }\n",
              "\n",
              "    .dataframe tbody tr th {\n",
              "        vertical-align: top;\n",
              "    }\n",
              "\n",
              "    .dataframe thead th {\n",
              "        text-align: right;\n",
              "    }\n",
              "</style>\n",
              "<table border=\"1\" class=\"dataframe\">\n",
              "  <thead>\n",
              "    <tr style=\"text-align: right;\">\n",
              "      <th></th>\n",
              "      <th>Euclidean</th>\n",
              "      <th>file</th>\n",
              "    </tr>\n",
              "  </thead>\n",
              "  <tbody>\n",
              "    <tr>\n",
              "      <th>2524</th>\n",
              "      <td>5471.466410</td>\n",
              "      <td>song_folk2.mp3</td>\n",
              "    </tr>\n",
              "    <tr>\n",
              "      <th>384</th>\n",
              "      <td>5471.413596</td>\n",
              "      <td>Chad_Crouch_-_Very.mp3</td>\n",
              "    </tr>\n",
              "    <tr>\n",
              "      <th>2988</th>\n",
              "      <td>5471.403677</td>\n",
              "      <td>Mid-Air_Machine_-_Ampheral__Text_Notification.mp3</td>\n",
              "    </tr>\n",
              "    <tr>\n",
              "      <th>1786</th>\n",
              "      <td>5471.396495</td>\n",
              "      <td>song_folk4.mp3</td>\n",
              "    </tr>\n",
              "    <tr>\n",
              "      <th>427</th>\n",
              "      <td>5471.387993</td>\n",
              "      <td>Chad_Crouch_-_Hot_Pink.mp3</td>\n",
              "    </tr>\n",
              "  </tbody>\n",
              "</table>\n",
              "</div>"
            ],
            "text/plain": [
              "        Euclidean                                               file\n",
              "2524  5471.466410                                     song_folk2.mp3\n",
              "384   5471.413596                             Chad_Crouch_-_Very.mp3\n",
              "2988  5471.403677  Mid-Air_Machine_-_Ampheral__Text_Notification.mp3\n",
              "1786  5471.396495                                     song_folk4.mp3\n",
              "427   5471.387993                         Chad_Crouch_-_Hot_Pink.mp3"
            ]
          },
          "metadata": {
            "tags": []
          },
          "execution_count": 43
        }
      ]
    },
    {
      "cell_type": "markdown",
      "metadata": {
        "id": "-XMBbgZz1Cv6"
      },
      "source": [
        "Cosine Similarity"
      ]
    },
    {
      "cell_type": "code",
      "metadata": {
        "id": "ZpShHj731EvO"
      },
      "source": [
        "result = []\n",
        "for i in range(len(x_train1)):\n",
        "  dataSetI = x_train1[i]\n",
        "  dataSetII = data1\n",
        "  result.append(1 - spatial.distance.cosine(dataSetI, dataSetII))"
      ],
      "execution_count": 44,
      "outputs": []
    },
    {
      "cell_type": "code",
      "metadata": {
        "colab": {
          "base_uri": "https://localhost:8080/"
        },
        "id": "LfDYZyCB1QW6",
        "outputId": "eeebb2b4-c065-4b2e-ae67-7e48774f08b8"
      },
      "source": [
        "xtr = sorted(result,reverse =True)\n",
        "print(xtr)"
      ],
      "execution_count": 45,
      "outputs": [
        {
          "output_type": "stream",
          "text": [
            "[0.5320593344881477, 0.5294100727877509, 0.5089358729989432, 0.5088847010709693, 0.5086177799263042, 0.5084612364044235, 0.5081188947936821, 0.5076952407695859, 0.5075498584927877, 0.505858045501322, 0.5052256665049456, 0.5038993194893401, 0.49729884375986755, 0.49512930630420693, 0.4939065693315534, 0.4915449748369918, 0.49135426671761817, 0.4909211717879396, 0.48791117817746854, 0.4849789671809762, 0.4751629315492786, 0.47404891732558496, 0.4719073585917247, 0.46981915136101726, 0.4677457012944348, 0.4672199508422744, 0.46531691775545436, 0.46310763741458405, 0.46243368531537654, 0.46213960239004503, 0.461178256612794, 0.4593958675008246, 0.4587831936636597, 0.457773911314427, 0.4574922618869506, 0.45747904573244746, 0.45710332732194514, 0.4567386108837026, 0.4565810951082041, 0.4551719533737226, 0.4546594862857525, 0.4538072450920625, 0.4537705302449174, 0.4535408483309573, 0.45208285322603237, 0.45148355341238444, 0.45082289274130083, 0.4505754449360795, 0.4496807731735243, 0.4495711392843753, 0.44930154120949206, 0.4488003381306873, 0.44814061033178776, 0.4464308893995099, 0.4446222431588519, 0.44342135082787715, 0.4433182105836001, 0.4432774778779176, 0.4427707113532433, 0.44253688806326874, 0.4419572811389343, 0.4417644525394966, 0.4415359033442007, 0.44146487552519265, 0.4414349716672541, 0.4408800357044834, 0.4408078518926334, 0.4406947410606701, 0.4404071576286972, 0.4397268914871829, 0.438347387301286, 0.43761227357870003, 0.43621242625551426, 0.436140678995128, 0.4360532269618891, 0.43578294796123096, 0.43522715487733765, 0.4349754067145952, 0.4349377472763778, 0.4348780241551329, 0.4342424928037848, 0.43381326456440705, 0.4337053839304015, 0.4334896720991894, 0.4331969248214518, 0.43281437325312133, 0.4318752011880551, 0.4311579370284986, 0.4308046501401823, 0.42977078955688186, 0.42977078955688186, 0.4297364104537018, 0.4296520148095351, 0.42902410732818175, 0.4282200806298958, 0.4278970744299204, 0.42741281901076533, 0.42730141733796434, 0.4270099234964033, 0.4263317221003107, 0.4263211145734148, 0.425980911106821, 0.42590692348628845, 0.4258606330004451, 0.42559935836629836, 0.42527720313452566, 0.42479187396164275, 0.42473079230879884, 0.42471324535311994, 0.424404365414904, 0.4242353144585107, 0.4240645928748932, 0.42396907415838947, 0.423516746434352, 0.42337529985192257, 0.42286078376797764, 0.4218680893949672, 0.421610577459277, 0.42124161061895904, 0.4203250948222119, 0.42024091284557463, 0.4199796789366237, 0.41985128611579636, 0.41934125450651205, 0.4192330809890392, 0.41875668281269707, 0.41862535950627755, 0.418056962806048, 0.4178985429950004, 0.417793764725789, 0.4172580912531747, 0.41707769177328846, 0.4170105917637634, 0.4164869200720166, 0.41643211976066596, 0.4158445224916454, 0.41540753947803477, 0.41538844242391404, 0.4150305995920245, 0.41428161075200765, 0.4142028304028582, 0.4137429928101014, 0.4136877218954058, 0.41361423662579777, 0.41361291892229457, 0.4134326081934592, 0.41318439772442705, 0.41303455549351087, 0.41289984486791553, 0.4124754575028906, 0.41240025242404066, 0.4116786994205961, 0.4110256270699367, 0.41093041043454703, 0.41029051741935896, 0.40930250622732667, 0.4087488161600257, 0.40692002259764903, 0.4064317943154079, 0.4063829791892929, 0.4061071910723937, 0.4059572606122659, 0.405796703678559, 0.40495536636198204, 0.40457072644974634, 0.4028941401229642, 0.4025725711263979, 0.4025614977576747, 0.40254658674849286, 0.4024518041301224, 0.40224687479399934, 0.4015596565591112, 0.4015415747007568, 0.4014642319009216, 0.40119744283980596, 0.4010298166060813, 0.4009661810580396, 0.40093247596794157, 0.4009265235228878, 0.40039414301565657, 0.40016736616914117, 0.40005426044390324, 0.39995687658630674, 0.39970232614327705, 0.39944719150215213, 0.39912547786733055, 0.3987856400127703, 0.3981994338551189, 0.3977739427557965, 0.3977152303752798, 0.3976979761818057, 0.39763324960554247, 0.39707431272333626, 0.39692162962126964, 0.39673942673842655, 0.39670367546919716, 0.3964250279254995, 0.39619297806047626, 0.3960690309923405, 0.39594402560294983, 0.39592804723513875, 0.39585207685555734, 0.39496981024971656, 0.39487802615707723, 0.3944808680278271, 0.3942795345964225, 0.39406576073017785, 0.39389459463492194, 0.3933045202842407, 0.3929503784892904, 0.3929384269318097, 0.39194331284364115, 0.3919060675167121, 0.3918360795431928, 0.3914790107539696, 0.39105829745238196, 0.39095796360050106, 0.39088098055171194, 0.3907872053296615, 0.39067199899038096, 0.39062003065340956, 0.390594981197361, 0.3904838113411291, 0.39042227364024207, 0.39022178428649335, 0.3900541802770654, 0.38981555120958644, 0.38911989301820227, 0.389043184485207, 0.3889132136514355, 0.38871773322711867, 0.38865362999405906, 0.38859548357602636, 0.3877574564431385, 0.38771299872852427, 0.3876750163463827, 0.3873368151933574, 0.38731876156892286, 0.38706253109203037, 0.3870125650873648, 0.3869282043718425, 0.386431039554608, 0.38642466021404864, 0.38637357024835883, 0.385435953967285, 0.3852619491680338, 0.38494486691521534, 0.3848157216993833, 0.384748902965631, 0.3845521843961419, 0.38454533082973574, 0.38452019288678296, 0.3841280390918954, 0.3841077427301245, 0.38393351629878847, 0.3839254417826986, 0.3838043936481911, 0.38316986383177853, 0.3831397354471211, 0.38311565918031953, 0.3828637540292814, 0.3828466986030168, 0.38282633761545504, 0.38232912482119374, 0.3809526774253271, 0.3806715965740207, 0.3801692954162168, 0.37988747867372474, 0.37983745961742377, 0.37981351481531056, 0.37964808461489663, 0.37944240189482503, 0.37932281821088487, 0.3792683836612133, 0.3787599511695019, 0.378372553246789, 0.37829686554414677, 0.37813693137365223, 0.37811141899247935, 0.3779539657504708, 0.37781247952449526, 0.3777814007132405, 0.37770014688284226, 0.3776038961767143, 0.37757722593482856, 0.3775132856714738, 0.37719188223620903, 0.37704218338851025, 0.3767964840436968, 0.37658017513289077, 0.37646617941366, 0.37618286022568914, 0.37601750541501366, 0.37560789586617593, 0.3755489237453369, 0.3752766971261394, 0.37504387965354624, 0.37504240413116063, 0.3738669309863628, 0.37384868288985684, 0.37378000988616655, 0.3734054212183886, 0.3733675394791849, 0.3732539963167725, 0.37315756945063705, 0.37291739833355186, 0.37288459704484556, 0.3720759120709243, 0.3718280528357699, 0.37117028380923023, 0.37114976886414897, 0.37098414505862787, 0.3709290548345999, 0.3708491471718822, 0.3706990243200081, 0.3703866378366706, 0.3703666760979436, 0.37032532930569406, 0.3698735035263503, 0.3698282594547009, 0.3697352051266958, 0.36956205491274075, 0.3695361989974284, 0.36922862293065517, 0.3689611517293341, 0.36800638727544066, 0.36798056013931224, 0.36792672162425877, 0.3678207230451822, 0.3675481638002167, 0.3675334480398623, 0.3673553067759757, 0.3673433462768232, 0.3670356447162251, 0.3669312945421257, 0.36664743641500497, 0.3663350287357878, 0.3663269175824748, 0.36632432946329896, 0.36603289192392374, 0.3659619611544347, 0.36550462534330175, 0.3654403333188475, 0.3654076862541137, 0.3652843967944226, 0.36500670536902613, 0.3648238186179271, 0.3646972081967337, 0.36447225454780585, 0.3639227397613132, 0.36388437106555493, 0.36354202967271554, 0.36348402168759564, 0.3634671911934524, 0.3632620853733024, 0.36312745889183673, 0.3631096633945097, 0.36291371716145593, 0.36290338698443003, 0.3625667194935158, 0.36247023931795774, 0.3624653397673203, 0.3622592377283784, 0.3618051142123828, 0.3617676207701984, 0.36175010024987464, 0.3616974889270953, 0.3614077892345918, 0.36122696583298364, 0.36100531665149904, 0.36091583218894274, 0.35998961251209827, 0.35993261898189566, 0.35990687388479226, 0.35965902558628327, 0.359290963631717, 0.35918937697876974, 0.3590897080391575, 0.3589606983059417, 0.358835568350241, 0.358775469977773, 0.35862002982883046, 0.35853754553875816, 0.358507028335444, 0.35841615186979014, 0.35841615186979014, 0.35798316167976796, 0.35778082519682186, 0.357547209446203, 0.35733046934697077, 0.35721160790080875, 0.35686699088839346, 0.3566335467617583, 0.3565925754540895, 0.35658017781007345, 0.35643804552322367, 0.3563215236049655, 0.35622319587061957, 0.35620531277643686, 0.3561584113392413, 0.35612368510389425, 0.35605458003652035, 0.3559207857236373, 0.35591695058294204, 0.35572930763931154, 0.35520108399169115, 0.35496774391051766, 0.35477317899309924, 0.3547519679616673, 0.3547412457894281, 0.3541218972273339, 0.3540884769513073, 0.3538984167003061, 0.35371874455693797, 0.3536287531114697, 0.3535607959034883, 0.3531862479181971, 0.3531002560841996, 0.35296050802608026, 0.3528770805694703, 0.35277048266949906, 0.3527352815854603, 0.35255445328950374, 0.3525199399869938, 0.3523267807094186, 0.35212648220195664, 0.3520257250181593, 0.3519695353142467, 0.3513868909221711, 0.3513116485377473, 0.35123480697978837, 0.35099720358656095, 0.3509913266097654, 0.3509753725641078, 0.35083506150865296, 0.35076443294824955, 0.35070600507055516, 0.350642680558393, 0.3504320721794092, 0.35029953296574856, 0.3502374849734554, 0.34993234214717595, 0.3496706306256968, 0.34963977479594277, 0.3496382054586964, 0.34961548979860946, 0.34951325670297406, 0.3495070889554458, 0.34935787288400055, 0.3492792964632523, 0.3492705032495822, 0.34889894340513683, 0.3488860613188587, 0.3487955911396976, 0.3487569800910162, 0.3487201630014196, 0.34871216929957705, 0.3485571841670345, 0.34852786491567467, 0.34852152801996206, 0.3484737251875316, 0.34837301899158013, 0.34833682667018373, 0.3482753928193245, 0.34815241007024056, 0.34791566602473434, 0.3476399034832729, 0.3476357450406047, 0.3475958068611633, 0.3475958068611633, 0.34748144838657835, 0.3474184295040519, 0.347311495127972, 0.3470628162799525, 0.34705291034936014, 0.34700584859553374, 0.34700035500729365, 0.3469455627853193, 0.3468997301743644, 0.3463097435763909, 0.346286969353101, 0.34627656616237434, 0.34620729609062983, 0.345962969443536, 0.3458164021570349, 0.34554428276640226, 0.3453693914707954, 0.3453683856395646, 0.3453683856395646, 0.34534324938609307, 0.34516842825899485, 0.3446416608255457, 0.3445733372099382, 0.344366975566877, 0.3443007126473512, 0.34401778023277463, 0.3440043849208039, 0.3438615554753073, 0.34374272192052424, 0.3437004826192681, 0.3435877530935898, 0.3433892539228749, 0.34323756021215457, 0.3431645800597555, 0.34255742240506537, 0.34237219600136903, 0.34233915014607674, 0.34229167100951496, 0.3421454551557437, 0.3420296357315816, 0.34189973681231933, 0.3417036623699252, 0.3416289514764359, 0.34141066365448736, 0.34093702677641646, 0.34089772991482414, 0.3406575906539694, 0.3405447342765988, 0.3404071130828744, 0.34030368223910723, 0.34012125231634727, 0.34002825771419287, 0.33995991814595716, 0.3398491987981894, 0.33981306368010555, 0.3397409912003516, 0.3396103586947946, 0.33946403876255316, 0.3394124807595873, 0.33930207274858915, 0.339126773791944, 0.33893721208073435, 0.33875009836024605, 0.33867209013358224, 0.3386699915326681, 0.338620995783081, 0.338464006036169, 0.33832457557738926, 0.3382439443438927, 0.33798742128839043, 0.3376588538719747, 0.3376562277631183, 0.3375885613985178, 0.3375509943473911, 0.3373617779873529, 0.3372291595704373, 0.3370860716163351, 0.33688811477769476, 0.3368851970905281, 0.33682664382882066, 0.3368011437169638, 0.3364824991259485, 0.3364361620104427, 0.3363596810326852, 0.3361604993637899, 0.33603407422780784, 0.33580249246401783, 0.3356503047529217, 0.3354687679184246, 0.33531237318377494, 0.3352669009128695, 0.3352126242109388, 0.3348428631589081, 0.33469666879819804, 0.3345956116819193, 0.33426384315108715, 0.33417250583146574, 0.33399572114511267, 0.33392631497804626, 0.3336401171655359, 0.33363282268069927, 0.3333299050603995, 0.3330869358180202, 0.33305478022651014, 0.3328607188156554, 0.33284334170055785, 0.33259561604079046, 0.3325171963124516, 0.33249687709853604, 0.33249654230452763, 0.33245498311495114, 0.33244436922552334, 0.33232263816019747, 0.3323054581863609, 0.3322620149059773, 0.33224503807441264, 0.33218243793749136, 0.3321405698795701, 0.3321401649191136, 0.3320696461254218, 0.3317922289823304, 0.33151672869249915, 0.33146854642228707, 0.3313954303412152, 0.3313616963609186, 0.3312441260947152, 0.3312441260947152, 0.3308792858011924, 0.3308412583802314, 0.3306712032298662, 0.33051881816382533, 0.3303392616683847, 0.3302458844768694, 0.3301296297865284, 0.33009848819583576, 0.32980808394298733, 0.3296244638471246, 0.3296046233319978, 0.3295888842320076, 0.3293196702726292, 0.32924952735986834, 0.3292398743960716, 0.32920571321227565, 0.32917822461604607, 0.32903721115766804, 0.328875374683991, 0.3288617524805968, 0.32861225575056197, 0.32860488787260445, 0.32859609294597614, 0.3284879685886377, 0.3284315539961995, 0.32842818556553466, 0.32825964046594547, 0.3280245547741889, 0.3278216470777492, 0.3277917121463769, 0.3277647170099638, 0.3277127187139486, 0.32752442078791066, 0.32750609885941295, 0.3273132352884994, 0.3272740933160916, 0.3272251401514462, 0.3272091411853387, 0.3270350856335318, 0.32697851127395683, 0.3267803074509201, 0.32664657621135995, 0.32662189413285714, 0.3265792348455593, 0.32650780067250473, 0.3261713088313595, 0.32609685908682495, 0.3260766371245485, 0.32605366481968345, 0.32605301855136726, 0.3260245053955606, 0.32591846737404095, 0.32587139359966566, 0.32584883763495576, 0.32577472431996457, 0.3256395335934179, 0.32562720077177887, 0.32561946599424285, 0.3255756694396499, 0.32550418793875835, 0.3253988682768615, 0.3253389724570501, 0.32528483255703255, 0.32528068345681627, 0.32520768683393786, 0.3251589072354284, 0.3251376223440381, 0.3250216449175065, 0.3249860814209048, 0.3249714411978656, 0.3248371823759868, 0.3247536595804842, 0.32471333589473694, 0.32470197040877213, 0.3246696688188625, 0.3244852553618085, 0.3242586856836862, 0.3241872872942114, 0.32383988905378325, 0.32368258361460533, 0.32355527827267927, 0.32351751782460814, 0.3234945926056929, 0.32349178036965065, 0.3234723304310463, 0.3233111064134784, 0.3232730484953896, 0.3231608440744915, 0.3231205325570303, 0.3231073354906844, 0.32306154127244313, 0.3229899591426222, 0.3229779042812728, 0.322789322640866, 0.32277987401406816, 0.3227446018347706, 0.32262973226378333, 0.3224720433179865, 0.3224496906741552, 0.32196621361177113, 0.3218514547077358, 0.321847759893659, 0.32177149258207627, 0.32170888074872317, 0.3216992943973216, 0.3216842492956862, 0.32158594424560216, 0.32157963962561353, 0.32141015585721666, 0.3214025130510273, 0.3213081393569637, 0.3213075674202275, 0.3211010252353228, 0.32108250840571406, 0.3207959112477219, 0.3205846185900366, 0.3205213842328386, 0.32027090551517534, 0.32026703145387203, 0.32024903895756784, 0.3202469873681143, 0.32016826701404333, 0.3200778198112326, 0.3198867428171188, 0.31980906310791857, 0.31968291389514536, 0.319661829558614, 0.3195511575040515, 0.31932716839666164, 0.31930764928189737, 0.31928098994102216, 0.31910334714044897, 0.31909756253467825, 0.3190491488906255, 0.3188869022191194, 0.31887700230918714, 0.31876075037499063, 0.31853401041851725, 0.31848169912382684, 0.3184666295468088, 0.3184323371465936, 0.3183196206400114, 0.31804544448274086, 0.31804418736140905, 0.3180439800488182, 0.3180113923479644, 0.3178216658222599, 0.3177898196674235, 0.3177837469078397, 0.31764389208564636, 0.31757784331395644, 0.31753583178368927, 0.31742992384356206, 0.31740647236308395, 0.3174026536621508, 0.31731941687286946, 0.3173113859179969, 0.31710311754878084, 0.31710158249228537, 0.3169870820705385, 0.3169870820705385, 0.316616184534527, 0.3164277650186541, 0.3163412228350204, 0.3162697518693729, 0.3162433125735138, 0.3162103869175371, 0.3160716911447483, 0.3160456260440112, 0.3159130877422591, 0.3159007688516957, 0.31585023920591104, 0.3158289009953681, 0.3158075928941215, 0.31575369266090725, 0.31574275838134436, 0.31568202431019854, 0.31499933640152844, 0.3149823321117011, 0.31485019553741755, 0.31479382508165, 0.3146328236784688, 0.31458817010743845, 0.3145399209884143, 0.3143164842637336, 0.314134397455345, 0.3141085794419598, 0.3140791952250972, 0.3140216133118098, 0.313909819532707, 0.31385017679335114, 0.31368860349526906, 0.31348036337609475, 0.31315031025987694, 0.31305672343750834, 0.31304990632521057, 0.3128707488802036, 0.31252673364309547, 0.3123076483323044, 0.3122882665919846, 0.3121914292984931, 0.3121222590961179, 0.3121166712564616, 0.3121050749866783, 0.3120327611645701, 0.31200585558028804, 0.31198429627295143, 0.31195997767930095, 0.3119326831388327, 0.31191862674617843, 0.31188984818968524, 0.31188554949297487, 0.3118083958714526, 0.31156373692716866, 0.3114768132349439, 0.3114300527095959, 0.31136585482201595, 0.31134783756878137, 0.31125918503651695, 0.3112451207758449, 0.3111327845162346, 0.31105163684071135, 0.31092865775037914, 0.31087532727285416, 0.31083986199658775, 0.3108330557785999, 0.3107033116401088, 0.3106047994430241, 0.3106047994430241, 0.31050344511774974, 0.3103013615800746, 0.31015017201764494, 0.310125194009667, 0.30996590668094015, 0.3099235645776459, 0.3098796447452288, 0.3098653906121752, 0.3097811364091516, 0.3095852209996175, 0.3094663435398748, 0.30940613151641494, 0.309250451318571, 0.30918927632191884, 0.3091742058079697, 0.3091695605934348, 0.30912759559712977, 0.30911594047699087, 0.3089703435556097, 0.3089703435556097, 0.30895338255024773, 0.3089034395251009, 0.3087176594977773, 0.30857185927474573, 0.3084924947403467, 0.3080754088145451, 0.3080232819890987, 0.30799203708329304, 0.3079368446471954, 0.30783159320590503, 0.3076862536656523, 0.30764134622126305, 0.30761113105417004, 0.3073660476603548, 0.3072689100841086, 0.30716526665926547, 0.3070450835104195, 0.3068849945020582, 0.3068849945020582, 0.30677723671092205, 0.30664668151419705, 0.3066310533248766, 0.3066210967441845, 0.3065227625634406, 0.30645056436534235, 0.306402690990319, 0.3062895622196622, 0.306253216838397, 0.30623405918083857, 0.3062061932274083, 0.30617864614136325, 0.306026049788494, 0.30597688018459746, 0.3057599810629772, 0.30532669203369267, 0.30503215557856067, 0.3049396998590167, 0.3047193825372958, 0.30468993690576185, 0.30467806280090903, 0.3046679339325631, 0.3046679339325631, 0.30461650545368424, 0.3045184529276439, 0.30444662328191985, 0.304216834380171, 0.3041618184142585, 0.30414527033287, 0.30387411629145644, 0.3038393527347739, 0.30381493773185375, 0.30374307288298297, 0.3037096677865798, 0.3036473032954794, 0.30358965398230975, 0.3035565615734269, 0.3035565615734269, 0.30354270623626023, 0.3033164245107368, 0.3031719036586922, 0.3031719036586922, 0.3030640345590516, 0.3028958921567856, 0.30286860570723495, 0.3028166743843047, 0.3027918631352269, 0.30275382083190916, 0.30273191850440606, 0.30268267376898406, 0.30259224231601833, 0.3024926369905956, 0.3024763633090559, 0.30241865143910207, 0.3023351926574893, 0.30233321756519715, 0.3020456820491979, 0.30203369004249425, 0.3019594663508298, 0.30195407565429644, 0.30188749430509554, 0.301857284404363, 0.301657829213305, 0.30145877945163924, 0.3013759772476965, 0.3013115909447195, 0.3012508446344211, 0.30123190395733623, 0.30121659943815104, 0.3012125790074863, 0.3011202478180073, 0.3011202478180073, 0.3010461045276014, 0.30097573094701624, 0.300966166688186, 0.3009280772265164, 0.30087295156724303, 0.30085439014895343, 0.300842489475307, 0.30079085827301777, 0.3006644008840087, 0.30037869865627465, 0.3002937864200923, 0.30028039995601996, 0.3002670565158929, 0.29998609492036665, 0.29996245786345166, 0.29980109697910273, 0.29978276497207035, 0.2997370122514579, 0.29967104168880065, 0.2996142484302252, 0.2996033596765806, 0.29950156253387084, 0.2992487061037381, 0.2992467525080944, 0.29913964544885496, 0.299081266799633, 0.2989104438262665, 0.29890032709051384, 0.2988604791268197, 0.2988403933616649, 0.298826144969641, 0.29864409289491145, 0.29854169012886356, 0.29832108999075535, 0.2982875660722425, 0.29828178156645024, 0.2982438494143067, 0.2982217362337862, 0.2981902928498543, 0.2980244351611848, 0.2979280532943551, 0.29785499097559254, 0.29780475231108094, 0.2976146933356383, 0.2976123106414701, 0.2975492942719492, 0.2975326846409956, 0.2973766721390879, 0.2973682871841139, 0.2971708100128534, 0.29713944675723414, 0.2970572572693617, 0.2969885880802259, 0.2969799067475424, 0.29695858409527975, 0.2967665562466, 0.2967017680642826, 0.29665900912676824, 0.2964063126049403, 0.2963633862474596, 0.2962604795609709, 0.2962482361457748, 0.2962035394618219, 0.2959859032414355, 0.2958108239919688, 0.29567477334660897, 0.2954133403686001, 0.2953705477931874, 0.2953604744268252, 0.29521829953095147, 0.2950939490349125, 0.295076417620602, 0.2950335594588992, 0.2949573843729002, 0.29493124048381225, 0.294929961850377, 0.2948624915427054, 0.29486023946321405, 0.2946472182154676, 0.2946179277045061, 0.29461226486200254, 0.29457726368492543, 0.29457099210087145, 0.2943882802080391, 0.294380125570294, 0.2943152384874156, 0.2942736660210721, 0.29415495249603996, 0.2941402490505157, 0.2939533570734958, 0.29392424620906177, 0.2938441169366406, 0.2937519860443488, 0.2937164332857869, 0.29367994077167925, 0.293609835512034, 0.293601797784416, 0.2935222405950031, 0.29351972433107587, 0.293502987430573, 0.29350293278987305, 0.29349143991588644, 0.29344331010488556, 0.2934256187575053, 0.2933021809512293, 0.2931824726777147, 0.29314797575484586, 0.2930192619355615, 0.2930192619355615, 0.29275110303084007, 0.29272670971715, 0.2925683224000746, 0.29255157966532863, 0.2924501766568737, 0.2923447477512867, 0.29231528440501786, 0.29218795337848624, 0.29217007001964723, 0.2921611279631616, 0.2921611279631616, 0.29206937583614445, 0.291739431009159, 0.29173487075245963, 0.2917223033192192, 0.2916751760682015, 0.29163064518962045, 0.29159780973401106, 0.2915292520795817, 0.2914630212502183, 0.2914537404764628, 0.2914229952081424, 0.2913799408691081, 0.29132691831112356, 0.2912970770656862, 0.29110693768542717, 0.29102416013482224, 0.29093856605055013, 0.29088294266129433, 0.2908599099506233, 0.2907996634121789, 0.2907970438330014, 0.2907541284200532, 0.2907272015023016, 0.2906995505862272, 0.29068261724897493, 0.2905911348341367, 0.2905898175859285, 0.2905774450319907, 0.29052191388016313, 0.2904446293795646, 0.29025829011497006, 0.2902371637157166, 0.29015470391771647, 0.29009641189799606, 0.28966678089803966, 0.2894216705718632, 0.28930931135598714, 0.28930011981710435, 0.2892761944100871, 0.2892694955742017, 0.289176993330551, 0.289061985785408, 0.28900737828375, 0.2889840116993272, 0.28897235247715125, 0.28859009267349545, 0.28858921017679184, 0.2885303648045333, 0.28818062209919615, 0.28807751177821217, 0.28807709290432226, 0.28807618020922776, 0.2880739186397927, 0.28773666660258335, 0.287734044068536, 0.2876421160164919, 0.2875727978186903, 0.2875260092899554, 0.2874705125607935, 0.28716189740203857, 0.2870022619694126, 0.2868655597205698, 0.2868621739466034, 0.286837037554442, 0.2865774828240628, 0.2865616057602818, 0.28652393844301205, 0.2865071830345176, 0.2864904572679834, 0.2864775706387055, 0.2864052627003002, 0.28639961295416627, 0.28639543419740154, 0.28638544090202933, 0.2863776813978556, 0.2862348931697112, 0.28621660210935684, 0.28616587012107464, 0.28614818709526735, 0.2860068367284355, 0.285961541494558, 0.28595482792724547, 0.28595482792724547, 0.2858820365618008, 0.2858355024362993, 0.28562333838695864, 0.2856198569810169, 0.2855080603102502, 0.28546416672292185, 0.28546416672292185, 0.2853308416002547, 0.2852987701610945, 0.2852850850989668, 0.285191774158869, 0.28518362276183473, 0.2851173055320634, 0.2851037997154121, 0.28478732275190866, 0.28455362076768487, 0.28453792997471195, 0.2844714962163859, 0.28441722344021214, 0.2844117507277599, 0.2843708365702299, 0.28433578098986834, 0.28424914366378184, 0.28421872443731255, 0.28407168406608396, 0.28400763253453354, 0.28399914821742955, 0.2838655327147752, 0.283837605766064, 0.2837986761047424, 0.283771649830325, 0.2837179666998093, 0.28365602454661, 0.28358814705899293, 0.28353132487591703, 0.283262553445756, 0.2832512779538541, 0.2831629095274195, 0.2828262208369081, 0.28279903487525293, 0.28275877629865176, 0.2827095266981048, 0.28264733880516546, 0.28259594551992895, 0.282482922555386, 0.2824640069814355, 0.28243597927025876, 0.28238253218186515, 0.2823493105811572, 0.2823232795253767, 0.28227307491801557, 0.2822485531596086, 0.28224475708385977, 0.2821469981501197, 0.28205634626720033, 0.28200151427784426, 0.28172803421689907, 0.28162099672371954, 0.281579920203164, 0.281579920203164, 0.2815632207721326, 0.28146775385423095, 0.28134688302112065, 0.28133848520452587, 0.2813124979026008, 0.28124757695940317, 0.2812447121674848, 0.281117597895991, 0.2810049747795431, 0.28085209722315996, 0.28070876463238026, 0.2806219596857188, 0.2803971455564289, 0.2803968300195159, 0.280383455957842, 0.28031931669994004, 0.2801357234949393, 0.2801335324350085, 0.28004058508891916, 0.2800017248003054, 0.2798125271878864, 0.27972284669067826, 0.2797143290554722, 0.2796903801451349, 0.2795969437773844, 0.27955118085495445, 0.27954004313516556, 0.27952523596343337, 0.2794869223528783, 0.27937671440549317, 0.2793140504946926, 0.2793140504946926, 0.2792340834324951, 0.2790247913305013, 0.2790247649238733, 0.2789693035823255, 0.2789403174238865, 0.2789274212947057, 0.2788443436902668, 0.2787062485715077, 0.2785350653894121, 0.2785350653894121, 0.2785316197638389, 0.27845421295944917, 0.27844860406965477, 0.2783857235556799, 0.27838097116966687, 0.27797142360297644, 0.27797142360297644, 0.27793746493264027, 0.2778142950709006, 0.27778806370845666, 0.27773528066259323, 0.27767834740860575, 0.2776323230742267, 0.2775331879840174, 0.277492994684019, 0.27746334763630054, 0.2774115325576161, 0.27739163180357573, 0.2773816732763694, 0.2773605854551804, 0.2773523497961693, 0.2772219046915603, 0.2770670029117084, 0.27701418642081044, 0.2769352923301047, 0.276857248161712, 0.276857248161712, 0.27682425941081734, 0.27679735391642246, 0.2767096047778661, 0.2766635746613164, 0.27651354199193157, 0.276295135024913, 0.27620175742215336, 0.27605985004371547, 0.2759260202713534, 0.2758944731901902, 0.2757356131956672, 0.27555951506318555, 0.27552262594418053, 0.2754285486503494, 0.27533001199642015, 0.27529791785699687, 0.2752713821539641, 0.2752427562606151, 0.27521400456486544, 0.27505168380400735, 0.27501822633562534, 0.27498488329953463, 0.2749615030620678, 0.27494119282662544, 0.2748825056601951, 0.2746688007144692, 0.27454036401886217, 0.2745212149601619, 0.27451864923761626, 0.2744134626875079, 0.2743535691722654, 0.27418581347581705, 0.27417360321300954, 0.27414995152655086, 0.27407698267528036, 0.27402526554723483, 0.2740104217641399, 0.27398079429229694, 0.27393434687844254, 0.27391836069478437, 0.27378048731553606, 0.2736579171216684, 0.2736495734520814, 0.27360848124664305, 0.2735295603810294, 0.27351823808548037, 0.273511885040441, 0.27344764587977777, 0.27333875491590687, 0.2733291861221885, 0.2733291861221885, 0.27332282690492504, 0.2732708317678858, 0.2732405757967029, 0.2732049655592582, 0.2731010338734604, 0.27309651822807113, 0.27302780688479, 0.273026933577037, 0.272982445258114, 0.2729452453405202, 0.2728552002060207, 0.2727532819457251, 0.2727007076631258, 0.27264098137371273, 0.2725763724494564, 0.27244677752404056, 0.27238733267929827, 0.27238315541875135, 0.27238315541875135, 0.27238315541875135, 0.2722723544255412, 0.2722475876027093, 0.2720781972509303, 0.272071456983505, 0.27197045854912116, 0.27196601959573186, 0.27176519201549576, 0.2717294121924959, 0.2716387869732524, 0.2716011630955153, 0.2715506994404522, 0.27135323354397367, 0.27132992685227597, 0.2712330185450482, 0.27109967612559127, 0.2710900690188216, 0.2710721147964582, 0.27098942651626634, 0.27095825739745116, 0.27093119290336487, 0.27077550223881386, 0.27074702499131065, 0.2707367383671976, 0.2706969467994378, 0.270529033960871, 0.27052811053452064, 0.2705256216656171, 0.27048378753334956, 0.2701739347733336, 0.27013174473053025, 0.2700500147505007, 0.2700360192821968, 0.2700349407775715, 0.26980276781897317, 0.2697858908014549, 0.26976400685574875, 0.26966899538910694, 0.26963844302858486, 0.2695751133097446, 0.269562356725185, 0.26917652585037843, 0.2691499351918023, 0.2691275623220799, 0.2690808013348893, 0.26903636834989086, 0.2690133218022599, 0.26901211757512544, 0.26894047781113084, 0.2689146509192166, 0.26880760201881937, 0.2687379123923246, 0.2686933922760648, 0.2686776297862974, 0.26850923650310166, 0.2684293505170088, 0.26837178923529004, 0.2683329690206644, 0.2682576479535853, 0.26820571645796987, 0.26812566484706446, 0.2681122916548223, 0.2680004495262449, 0.26782828149937754, 0.2678076638472686, 0.2678076638472686, 0.2675967915497133, 0.26759351605297077, 0.26750823902116183, 0.2673771621038259, 0.2673042354770263, 0.26717577290512595, 0.2670862335546935, 0.2670862335546935, 0.26686466594842795, 0.2667837476504473, 0.266741236015689, 0.2666961800799924, 0.2664753458983522, 0.2664659646428533, 0.2664605296423732, 0.26642321726762774, 0.2662929911429378, 0.2660605380194865, 0.2660605380194865, 0.26605189928657813, 0.26604769017981555, 0.2659149359182529, 0.26588351828562384, 0.2657046471462283, 0.2656710882062703, 0.2655838660561699, 0.2655151712845667, 0.2654766945527296, 0.2653432577640581, 0.2653432577640581, 0.26522659645448843, 0.26522659645448843, 0.26516533049439006, 0.26509936319382565, 0.26508631968805574, 0.26503080234753773, 0.26503080234753773, 0.2649232760912331, 0.26491050950678363, 0.2649031011911289, 0.26489804138375594, 0.2647532509499668, 0.2644745476749939, 0.2643608222409992, 0.26435953637941023, 0.26433684905823374, 0.26424479548473, 0.2641994741778194, 0.26403072204351696, 0.2640238248082487, 0.2637186544933301, 0.26352268825302305, 0.263432648206089, 0.26325712515490707, 0.26321775552125337, 0.2632109194187102, 0.2631968360268857, 0.2630595851604487, 0.26305402887525486, 0.2629247542863862, 0.2629161873147322, 0.26291406594576694, 0.26290863960315913, 0.26281815141669806, 0.26255528641363135, 0.26245060524855734, 0.2624247450875987, 0.2623370479733276, 0.26222820532903535, 0.26215206460009166, 0.26215206034472416, 0.2620371929131182, 0.26196177737491955, 0.26185192633830834, 0.2617897702310674, 0.2616764423980008, 0.26166614625358187, 0.26150070372431755, 0.261431308386157, 0.26128905724006524, 0.2611592291637679, 0.26114369827704054, 0.26096194609017465, 0.26094298395010096, 0.2609267947266263, 0.260874332832709, 0.26074731038203036, 0.26057730965059067, 0.2605746403861069, 0.2604862277534621, 0.26036257275768127, 0.2601459674697204, 0.26012094727932644, 0.2600114976038137, 0.25981001553168537, 0.25977343958868226, 0.25958915153660245, 0.25957154890951006, 0.25957154890951006, 0.25957154890951006, 0.2595040182092274, 0.2592541935944006, 0.25925120908033117, 0.25912672474251786, 0.2589590906089895, 0.25888091459532714, 0.25886927621409417, 0.25866513873201225, 0.25843622649160114, 0.25840903833703954, 0.2583876457625568, 0.258075495590499, 0.2580449585155078, 0.2576864342440456, 0.2576864342440456, 0.2575847419196218, 0.2574444291128757, 0.2573442520181186, 0.25733003215605754, 0.2571860748458433, 0.2571527733124077, 0.25680616935759915, 0.25675894832952295, 0.25674252600023695, 0.2567110017724359, 0.2566942647580813, 0.2564995624232227, 0.2564744222218216, 0.25639988734290486, 0.2563303833523336, 0.25614861953834533, 0.25609095036913154, 0.2560194427083129, 0.25597485394820385, 0.2559420082070989, 0.25594049981026057, 0.25591975639955056, 0.25588626282398275, 0.25584711664323123, 0.25570151899471294, 0.2556436837858257, 0.25562334422944644, 0.25541366653250686, 0.255373280378826, 0.255304144162966, 0.2552164065138963, 0.2550879120474273, 0.2550106773159345, 0.25497804014545744, 0.25471578991006916, 0.25471269679866904, 0.25467781505609555, 0.25443230823252105, 0.25442801238152435, 0.2543999507683523, 0.25437327157630385, 0.25428846362445334, 0.2542748784982236, 0.2542036610734455, 0.25414542895938086, 0.25410800034077363, 0.2539920229367475, 0.2539889895275017, 0.25395109382245895, 0.25387268793010054, 0.2538324261367927, 0.2537115732410362, 0.25371045832934214, 0.2536130310790691, 0.2534782527600574, 0.2534104464647522, 0.25340233789549804, 0.25335543008843064, 0.25318968944703013, 0.2531874236730164, 0.2531728895249634, 0.25284187845538897, 0.2527893389124485, 0.2527893389124485, 0.252748606816406, 0.25254763893862253, 0.2524998320077807, 0.25231873886914824, 0.25228161172412356, 0.25221498470251325, 0.25221498470251325, 0.2521145128855822, 0.2520353570589744, 0.2520110719235997, 0.2520110719235997, 0.2519254145570883, 0.25186377583285635, 0.25184806301575513, 0.2518148619592684, 0.25180942484393687, 0.25176992062315207, 0.2517121858019038, 0.2516505537327135, 0.25163321841397623, 0.2515146682704843, 0.25151118143482765, 0.25142273234831203, 0.2512615144819823, 0.25115529238746304, 0.25112456756031376, 0.25100888719476155, 0.25096748129948243, 0.2508940872665242, 0.2508915050619822, 0.2508843017244604, 0.25085887399901075, 0.2508074961330977, 0.2507230543458885, 0.25068609438740896, 0.25064281930183396, 0.25060963069209086, 0.250516814115449, 0.2504537674249043, 0.2504173367781215, 0.25040138996281835, 0.2503987865179267, 0.2503483954110365, 0.2503422158269033, 0.25026298893794974, 0.2500748127984216, 0.24986417785379333, 0.24985052375727812, 0.24974203450639887, 0.2497072913778967, 0.24964040685191835, 0.24947358934162756, 0.2493602214789754, 0.24930163739836741, 0.2491905826417944, 0.2491768940714547, 0.24917134787004258, 0.2491207885938337, 0.24909252032168339, 0.2488584238587188, 0.24884879958086903, 0.24883132636818173, 0.2487419500742456, 0.24873103771896932, 0.24870944207177992, 0.2486466158085815, 0.24858728837664334, 0.24858728837664334, 0.24825309184315292, 0.248178969172282, 0.248178969172282, 0.24810680650567485, 0.24806415648623326, 0.24795754565039152, 0.24794105444688608, 0.24791019580165985, 0.24787879644812072, 0.24777462425799635, 0.24777462425799635, 0.24769085976277738, 0.24763174463713222, 0.24747774431017566, 0.24744413677995025, 0.24744413677995025, 0.24744413677995025, 0.24743031900663626, 0.24738732811743958, 0.2472583680177518, 0.2472583680177518, 0.2472079872794939, 0.24720542720692795, 0.24719187095418182, 0.24706973425554069, 0.2469937621757975, 0.2469708842444266, 0.24697010332738856, 0.24685983804477118, 0.24679061620539688, 0.24676658990642775, 0.24667057773095902, 0.2466137131802093, 0.2465911681898323, 0.24654799859959597, 0.24649518318967267, 0.24649053112492925, 0.24630791613858505, 0.24626258745963803, 0.24624755620785832, 0.24621057407773117, 0.2462082569067311, 0.24620713145747275, 0.24616960104633767, 0.24616960104633767, 0.24613204602838168, 0.24613039074233756, 0.24606432807925738, 0.2460255318152207, 0.24592340804364443, 0.24592340804364443, 0.24590405846118157, 0.24571947563766938, 0.24568580924462213, 0.24558547880888815, 0.24557645654229288, 0.2454525904873659, 0.24535385330767312, 0.24528441651576194, 0.24528441651576194, 0.2452715749719584, 0.24517017222684923, 0.2450565617677758, 0.24505581763876005, 0.24497963519909427, 0.24497963519909427, 0.24490264758438418, 0.2448935816472957, 0.2447294715905034, 0.24459748756238398, 0.2445093767648785, 0.24438929248237695, 0.24435923848229923, 0.24435726174492345, 0.24432305554385692, 0.24428296711491482, 0.24415584775593002, 0.24407315424853104, 0.2440670736702577, 0.24404188583548225, 0.24396602575210313, 0.24391274835838805, 0.2438277822754671, 0.2437632985860887, 0.24374534457106467, 0.24368280745239734, 0.243629827109349, 0.24362818512057327, 0.24356485303602704, 0.24327437757398584, 0.2431578541160292, 0.24313212764757863, 0.24305520514828505, 0.24302666472278267, 0.24302666472278267, 0.24302666472278267, 0.24299199332621224, 0.24295407565082927, 0.2428760081627277, 0.24274219105208672, 0.24272780109167758, 0.24265011880455412, 0.24260622906644747, 0.24260501093271492, 0.2425838858100352, 0.24257417909438672, 0.24254720432542776, 0.24254410058759102, 0.24250246432662337, 0.24243996617090735, 0.24235718542003093, 0.2423552525088284, 0.24230645821625973, 0.24229203855374826, 0.2422069364551439, 0.24203571004819457, 0.24185512017376998, 0.24181431532192654, 0.24178485564362562, 0.24173873803428048, 0.24173873803428048, 0.24172652568791986, 0.24170570355806054, 0.2417053765817132, 0.24153335971337264, 0.24149351023040533, 0.2414628750746003, 0.241397410569548, 0.24135853760990966, 0.24127296365697726, 0.24118982026024904, 0.24112543395864816, 0.24093659612978024, 0.24074148005926133, 0.24068608452548235, 0.24067448221114052, 0.24067448221114052, 0.24067448221114052, 0.24065786988363624, 0.24060944060489475, 0.2405984044021171, 0.2405940440360974, 0.24057357101021348, 0.24030383004210643, 0.2402468326471624, 0.24017377218271463, 0.24017265241896568, 0.24010530885720716, 0.24009185392460275, 0.24007840632870636, 0.23994611354079143, 0.2398418917427233, 0.2397683474817074, 0.23976670730263816, 0.23955853658299642, 0.23950775053663043, 0.23950380918880743, 0.239298230115093, 0.23915348604577147, 0.2391212535113585, 0.2391212535113585, 0.23886123820888894, 0.23884807627260507, 0.23884807627260507, 0.2387172392368634, 0.2386604372330534, 0.2386552303553352, 0.23864312133858445, 0.2385614304751329, 0.238545339236089, 0.23847117017587727, 0.23840666731479299, 0.23840666731479299, 0.23840666731479299, 0.238264452120854, 0.23822273034461672, 0.23816105345636418, 0.23802690697190065, 0.23801945085672627, 0.23796990683220587, 0.23787504336389165, 0.2378089634627627, 0.23779762840424523, 0.23772588987579346, 0.23772543647719613, 0.23761630505336995, 0.23755546195896948, 0.2375157120233442, 0.2374831889286978, 0.23746221852892835, 0.2373861049679662, 0.2372859968354355, 0.23714787523250103, 0.23709474537296404, 0.2366885837546131, 0.2366832882720047, 0.23654194435606002, 0.23652537911581906, 0.23642758475023995, 0.23631609956914468, 0.2363017872502421, 0.23592499771457276, 0.23574812625590436, 0.2355044811438345, 0.2354655457907644, 0.2354379522756973, 0.23521854199430692, 0.23521660672855038, 0.23514607575784474, 0.23512593935921022, 0.2351143571380382, 0.23507040684969216, 0.23505702938650197, 0.23494387370079872, 0.23493873294920453, 0.2348498858844501, 0.23465610227375255, 0.23463324543041986, 0.23452898924273735, 0.234513300592875, 0.23449112259243976, 0.23448366580348168, 0.23447423595110006, 0.2343950007770249, 0.2343950007770249, 0.2343950007770249, 0.23417882574735804, 0.2341299762090867, 0.2338076942059737, 0.2337378146070087, 0.23365188885625998, 0.23361085451366026, 0.2335577684598179, 0.23345552188478857, 0.23345552188478857, 0.2333630051771418, 0.23320526584357382, 0.23317141811474373, 0.23311775354177877, 0.2330989653227321, 0.23307771897151464, 0.23303539341012247, 0.23295440008807822, 0.23290191973065655, 0.23289457428360683, 0.2326758991973824, 0.23262022417385175, 0.2325717816591243, 0.23253696030505178, 0.23251832610621848, 0.23251832610621848, 0.23251832610621848, 0.23238339564543953, 0.23220057344157707, 0.23214207495142802, 0.23207475261074317, 0.23206728588207248, 0.23192648525243253, 0.23192648525243253, 0.23191252337827206, 0.2319030336213349, 0.23184443324971138, 0.23152355626026977, 0.23151088374323747, 0.23148721521602433, 0.23145247119386236, 0.23142882047386748, 0.23134082658386823, 0.23132558357539568, 0.2313243159603393, 0.23117742860965218, 0.23109771139713853, 0.23105593946387515, 0.2310086731708294, 0.23098495241675365, 0.23094314452328857, 0.23092556621373728, 0.2308989038890482, 0.23083074476808996, 0.23081240967893457, 0.2306923466464339, 0.23068239292650006, 0.2306405883764726, 0.23061437097294601, 0.23060340774841526, 0.23052732932464148, 0.2304717688487541, 0.2303670405964907, 0.23036646673381356, 0.2302837794093714, 0.23014458335295052, 0.2301351916368085, 0.2301351916368085, 0.2300981186824277, 0.23008079760746625, 0.22985572596851633, 0.22981531903472763, 0.22979703698973397, 0.229792241315654, 0.22976156660494673, 0.22969983912207803, 0.2296195934973262, 0.22961522884870889, 0.2295763068462504, 0.2295763068462504, 0.22957454940025024, 0.22947046153322215, 0.2294240830507024, 0.22937952802333406, 0.22921665425180415, 0.229208089672727, 0.22905916503617996, 0.2290275519913737, 0.22890860437690108, 0.22890187165714715, 0.22866135900263795, 0.22861748906557944, 0.22856932112160022, 0.22856818145369184, 0.22856818145369184, 0.2285386423618736, 0.22840435916148105, 0.2284034776956264, 0.22820212244203408, 0.22801221483704437, 0.22792058562200523, 0.22782059653080933, 0.22777787642188607, 0.22754949744421082, 0.22738823094231342, 0.2273801104214498, 0.22737991429217463, 0.22729018959124414, 0.22728571002251585, 0.22727480470957795, 0.22714538371475734, 0.22713617188858348, 0.2271283086935756, 0.22693203044607624, 0.226681031972369, 0.22666320016530994, 0.22663533555053217, 0.22659729797048989, 0.22656626304804095, 0.22644402163479582, 0.22640096086196038, 0.22637128174806476, 0.22635034199861814, 0.22632807713490988, 0.22625968340819225, 0.22614971947873896, 0.22598498580881743, 0.2256441770569314, 0.22560351717306293, 0.22558883426196275, 0.22549907164566507, 0.22547709017146012, 0.22519773804680454, 0.22518588324351474, 0.2251212088968173, 0.22509973464157929, 0.22503231185709782, 0.22501276437462714, 0.2249129905635051, 0.22480224925119985, 0.22479600630419716, 0.22478686699123362, 0.22475001740028377, 0.22460396198410892, 0.2245953349521257, 0.2245722550408351, 0.22450379804223775, 0.22449093727327862, 0.22445877482017418, 0.22436121803833975, 0.22433869570343046, 0.22433869570343046, 0.22433857128166323, 0.22431584951639527, 0.2242636962434339, 0.22425274306751253, 0.2242006165504472, 0.22407533395921597, 0.22405662084595623, 0.22394940643251382, 0.22393055113296256, 0.22391350076567562, 0.22387739462391287, 0.22379100685117925, 0.22368578551946228, 0.2236634675498138, 0.22348552951459189, 0.2234306088362229, 0.22342546574078936, 0.22336937776201782, 0.22321084774571054, 0.22319737421463048, 0.2231416867832624, 0.22313727974620157, 0.22286466315408293, 0.22282145070224324, 0.2227605874305545, 0.22275864278628366, 0.2224084150433594, 0.22240335492271046, 0.2223018147422826, 0.2223018147422826, 0.22213494398584532, 0.2221043809765586, 0.2219767793473404, 0.22197442398409573, 0.22193012755372776, 0.2218874593602168, 0.2216732231994447, 0.2216697243753617, 0.2216604293889204, 0.22156746626352064, 0.22138704028997824, 0.22118060109348125, 0.22106258674700408, 0.2209606105316233, 0.2209185194534049, 0.22090151997268537, 0.22079686955471045, 0.22079686955471045, 0.2206452880106572, 0.22057296229978118, 0.2204487769244705, 0.22041360254758824, 0.219967086526331, 0.21988692759713357, 0.21987131133478233, 0.21987131133478233, 0.21987131133478233, 0.21979294045753694, 0.21977025385611737, 0.21969136833716796, 0.2196351612130687, 0.21959751765585, 0.21951984755143306, 0.2194876109199737, 0.2194271332292257, 0.21937328650135846, 0.21936686380957027, 0.21935210163466545, 0.21931090642498718, 0.2192928013790345, 0.2191803576879704, 0.21912146139678268, 0.21895612474433523, 0.21891587815313118, 0.21887705850241468, 0.21871555367498863, 0.21871044413801655, 0.21870693000795083, 0.21869268797946018, 0.2186674783936594, 0.21861745018553536, 0.21861745018553536, 0.21856810249498038, 0.21841417351192138, 0.2181270250629359, 0.2181242688362497, 0.21803194897614464, 0.21787582713166942, 0.21782230557444238, 0.21781979135405904, 0.2177904188662163, 0.2177904188662163, 0.21758900162866368, 0.21758642709070963, 0.21747769881084178, 0.21747003643463525, 0.21724548505646024, 0.21719670731506258, 0.21692055305015523, 0.21681652380577254, 0.21680819665722373, 0.21674536470654582, 0.2166625945944768, 0.21664378639492854, 0.21661388506223034, 0.21660156288593413, 0.2165709488827754, 0.2164592938168438, 0.21644086970946053, 0.2163112754561508, 0.21618532080610586, 0.21618205577944094, 0.21614406612718584, 0.21608564708646605, 0.21604491325486697, 0.2160401515462974, 0.2160401515462974, 0.21602168534621424, 0.21590863137061167, 0.2157415223306125, 0.21570503220772652, 0.21558061490478142, 0.2155662046506045, 0.21542730051027636, 0.2152747766973243, 0.21526680444239954, 0.21523119841210347, 0.21518877554199967, 0.21518051454482123, 0.21505567879933807, 0.21502735906240467, 0.21502735906240467, 0.21502735906240467, 0.21486890427848548, 0.2148669797576086, 0.2148391543958461, 0.2147980411640924, 0.2147874512983552, 0.21467861958542422, 0.21464043610906525, 0.2146326184718379, 0.2142410799481167, 0.21407442935801202, 0.21406712560626406, 0.2140344622519148, 0.2140063775328992, 0.21376764854966745, 0.2137337736229924, 0.21369111653135853, 0.21366126883723036, 0.21358925873478396, 0.21347198731877948, 0.2133885525268412, 0.21335757715590586, 0.21335271838164327, 0.2133492658821854, 0.21331093159653303, 0.2132667191254929, 0.21317344011153128, 0.21317121585333432, 0.2131276864177163, 0.2130818214914656, 0.2130818214914656, 0.21303967723229156, 0.21297073374197684, 0.21283672909856166, 0.2127860970874459, 0.21274521727834594, 0.21270233224727297, 0.21268890537251461, 0.21262325503355461, 0.21253618808423702, 0.21223639738968503, 0.21222538865909768, 0.21210585461851394, 0.21203747290351327, 0.2119688530149365, 0.21193476026315206, 0.21193112360541289, 0.21187141141563204, 0.2118453467549759, 0.21179806737813056, 0.21167800156772787, 0.2114897933466645, 0.21145504750633193, 0.21136257887404197, 0.21118504774730495, 0.21109176665280238, 0.21105095625516124, 0.2110190421440139, 0.21081803763584683, 0.2107226245160776, 0.21060956027910727, 0.21054154827268667, 0.21054154827268667, 0.21047160911967244, 0.21018092743501204, 0.21002990945182898, 0.210029320309834, 0.20991314207757183, 0.20969663205700395, 0.20959919727206722, 0.2094663126223104, 0.20945253429031774, 0.20945253429031774, 0.20939693721929753, 0.20933296137433266, 0.20907734767303887, 0.20891449671842988, 0.20884060821332173, 0.20856525311095986, 0.20851601331259428, 0.20849279332064052, 0.20844565643398294, 0.2084286314902566, 0.20839886259791474, 0.20834347142122378, 0.20825979898195723, 0.20821555671734793, 0.20807850533988825, 0.20807850533988825, 0.20790801734807007, 0.20790801734807007, 0.2078352876858176, 0.20783136604218866, 0.20780413732267988, 0.2077654057689875, 0.20766669159859152, 0.20744583695722751, 0.2074232894985869, 0.20733791557654901, 0.20722262199950015, 0.2071556284240923, 0.2071079683237782, 0.20705812874867213, 0.20705812874867213, 0.20686701092198423, 0.20681096009816413, 0.20679242035514178, 0.20666759800320722, 0.20665672363606902, 0.2066447603661813, 0.20641512758462777, 0.20634167177869311, 0.20609348012028772, 0.2060444996366766, 0.205877637710694, 0.20556973384618238, 0.20546832137573, 0.20541103664485716, 0.20537868100980516, 0.20537868100980516, 0.20537868100980516, 0.20536534611031665, 0.20532698807922267, 0.2052693767401378, 0.20518800012560778, 0.2051070102101168, 0.20508212020122307, 0.20491657831208288, 0.20491613640420214, 0.20488228669901543, 0.20484996537194666, 0.20473428633900526, 0.20459823732047577, 0.2044907266062308, 0.20440881218087703, 0.20435400457930375, 0.20426190807969902, 0.20426087984311314, 0.2041728065781424, 0.20404475438789915, 0.20374488346010922, 0.20372877176066706, 0.20364565267403067, 0.20357879523468236, 0.20348873424093195, 0.20344237443556645, 0.2033777715192573, 0.2033084807659732, 0.2032622112730269, 0.20322480564447243, 0.20293342147887683, 0.2028801615787632, 0.20287521534158204, 0.20285431286384725, 0.20280252834293588, 0.20275537651594433, 0.20272013952427703, 0.20270545899422565, 0.2026909752414916, 0.20266939803602668, 0.20257970367119726, 0.20252529255187102, 0.20243636316211788, 0.20243636316211788, 0.20243462024794456, 0.2024147545068803, 0.20230759693381195, 0.20230628396978045, 0.2022953530947349, 0.20209282911048831, 0.20206726523349072, 0.20198994668608616, 0.20185125805958382, 0.20185125805958382, 0.2018139947141362, 0.20178276974996912, 0.2017559937594563, 0.20169339822293342, 0.20162436191083022, 0.20161889998574511, 0.2014029732429352, 0.20135679793132066, 0.2013089849956251, 0.20122851176711343, 0.20121462924778855, 0.20121288131006565, 0.20109091491771425, 0.20100960480835073, 0.2008009655734525, 0.2007582639533949, 0.20064365671312678, 0.20060773584719338, 0.20034831398215225, 0.20029853202500236, 0.20027031206998303, 0.20009131157778837, 0.20008664491679584, 0.20005559193888167, 0.20000429220361715, 0.20000429220361715, 0.20000429220361715, 0.1999179348519231, 0.19987460240011667, 0.1998615523709142, 0.199727652410416, 0.19948289189733615, 0.1994160589811802, 0.19938536047006616, 0.19937021021368428, 0.1991849951516531, 0.19916215653598346, 0.1991448672276599, 0.1991372492063337, 0.1991023228061044, 0.19909526608240147, 0.1988620008381341, 0.19872547394266538, 0.1986278623433132, 0.1986278623433132, 0.19847855329387287, 0.1984705201099315, 0.1984705201099315, 0.19837707103181113, 0.1983633106533954, 0.1983054495083849, 0.19824128338853708, 0.1980726706916267, 0.19761787908945594, 0.19756004198175448, 0.1974407183944662, 0.1972553645865791, 0.19724472189817843, 0.19718083848715628, 0.19714180364963196, 0.19704511086775467, 0.19691502334865152, 0.19689332671508852, 0.19688087876640004, 0.19680063452916052, 0.19666324274943614, 0.1965696811016726, 0.19648868200403524, 0.19639996583354957, 0.19633752934257132, 0.1962826455863793, 0.19621641840554227, 0.19619506322247915, 0.19613150578726757, 0.1961204078972889, 0.1961148208851623, 0.19599250422922976, 0.1956724520566948, 0.19565637986577533, 0.19552131689206753, 0.19531996624912518, 0.19521493682546054, 0.1951988449882841, 0.19502253654220425, 0.194987187930313, 0.1949512538726682, 0.19456783525353316, 0.19454429819299013, 0.19444627265872416, 0.19440736230633304, 0.1941047755813785, 0.19408091385107107, 0.19407860039963953, 0.19386403763531523, 0.19380103482624222, 0.19343651802840622, 0.19333506291648273, 0.1933206568645418, 0.19329390831025095, 0.19318883047079294, 0.19308834485309467, 0.19304747237298925, 0.19289618768507366, 0.19280209797640746, 0.19271920696253508, 0.19265664140161654, 0.19238724708145316, 0.19238689483446658, 0.19212579106481775, 0.19207901947832007, 0.19201044394466737, 0.19193030311114534, 0.19189781093650216, 0.1918217420310091, 0.19173266648902054, 0.19160410802993244, 0.19140282962976618, 0.19137191915709328, 0.19130941259409828, 0.19127292543848173, 0.19115483494703245, 0.19114347575617985, 0.19110250705027387, 0.191054886857156, 0.19103622184962787, 0.1910210477054053, 0.19096608916279223, 0.19094589538089046, 0.19081743293349807, 0.190790721107292, 0.19069664500886585, 0.19069664500886585, 0.19051904351258675, 0.1904559705401051, 0.1899987210837436, 0.18991662961772482, 0.1899165138164175, 0.18989628802828762, 0.18977718330333926, 0.18970391629928451, 0.1895753246874562, 0.1894120757962251, 0.1892756862898637, 0.18924710138840162, 0.18899111383192246, 0.1889270146051445, 0.18888319027364464, 0.1888380160157983, 0.1886378396341455, 0.18858857849871313, 0.18852718672990776, 0.18821699400138048, 0.188180186308899, 0.1880739266350827, 0.1878114867151277, 0.18776962082814785, 0.18773248568813472, 0.18768810078446863, 0.18765530151113663, 0.1876551899927733, 0.18757269691292444, 0.18752624460003275, 0.1874816863400005, 0.18729378287896192, 0.18728042984000626, 0.18723036309915808, 0.18713063878223368, 0.18711442113891574, 0.18710045493801153, 0.18688809255725425, 0.1868818739954765, 0.18675333193673493, 0.18670913803072875, 0.1866497260606368, 0.18663913407875987, 0.1863521322326931, 0.1863388576278293, 0.18631682981415665, 0.1860701311540316, 0.1860659272863825, 0.18598082485583878, 0.18594927153129848, 0.185819858101391, 0.18563213392666644, 0.18561810708716675, 0.18558576565460483, 0.1855568232185636, 0.18538416590306817, 0.18534687196410127, 0.18517479710706164, 0.18495753568799467, 0.18461011219122303, 0.18455685515427578, 0.18448532428396303, 0.18447819059610304, 0.18444875037466524, 0.18427405310654565, 0.1838557203432658, 0.1837448179069885, 0.18366523678773472, 0.1835717087012707, 0.1835717087012707, 0.1835717087012707, 0.18338978433869202, 0.18338370955578798, 0.18323057824846467, 0.18223860274667447, 0.1820375807664848, 0.18203258906928232, 0.18200620696654524, 0.18181397182671866, 0.1817457347198147, 0.18162783444118236, 0.1814974988214092, 0.18131487100318433, 0.18121076336694575, 0.18118173894313128, 0.18113965671869248, 0.1808856463206735, 0.18082726150456363, 0.18067932660634023, 0.18038753375731476, 0.18032684903791685, 0.1803158288031398, 0.1801963205479784, 0.1801356362800418, 0.1801031799581687, 0.17989365421357617, 0.17969305637208421, 0.1796069244506372, 0.17955209239970138, 0.17954484489585432, 0.17949204392421514, 0.17932713412053936, 0.17925717682347897, 0.1792392478019077, 0.17918579926934797, 0.1791149466536497, 0.17907727273301355, 0.17900379788747223, 0.17898873002921056, 0.17898155812699246, 0.1786447846302126, 0.17862453574460302, 0.17861326300802094, 0.1786013825808277, 0.17859935429956708, 0.17855248627455722, 0.17852307186000682, 0.17848811164897305, 0.17846349766782355, 0.17824313025903737, 0.17822479013018855, 0.17818742153782385, 0.17814582076958674, 0.17807323531508668, 0.1780074225070638, 0.17794347541609123, 0.17787504809522958, 0.17785853374795413, 0.17780492469172637, 0.17771720841885408, 0.17769744247867258, 0.17758666038156234, 0.17755210051179682, 0.17740531763572165, 0.17721648063721807, 0.17720333837377722, 0.17715305092454636, 0.17701776779041034, 0.17699697076214205, 0.17696068382518326, 0.17691940914601123, 0.17684483473444257, 0.17683756618191593, 0.17670766834366258, 0.1764835526902062, 0.17623387894058884, 0.1762003495434874, 0.17617859430945537, 0.1761775947676073, 0.17617383641938922, 0.17615614243558986, 0.17614806560093155, 0.17613036936431226, 0.1757196602066886, 0.17561442953264572, 0.17547021684728192, 0.17522651310058113, 0.1751994421548787, 0.17483262837202596, 0.1747749640709264, 0.1747749640709264, 0.17462683537893398, 0.17446036965476064, 0.17433776158984937, 0.17432254395273383, 0.1743065103584972, 0.17429637579861823, 0.17429069528334207, 0.1742647811284006, 0.1741269395511933, 0.17412510458552166, 0.17385541162175322, 0.1736174600317545, 0.17338549845343176, 0.17325074327863843, 0.17310927529956044, 0.17289971803439563, 0.17286389851479123, 0.1728410712154086, 0.17282262248419822, 0.1727860367244778, 0.17272311467647317, 0.17270389450342227, 0.1726939356360273, 0.17268164979192313, 0.172666562190668, 0.17254975494655878, 0.1721659279914225, 0.17216061717918785, 0.1721541615937321, 0.17184645094455697, 0.17170640448219965, 0.17170338428611487, 0.1715973483940575, 0.17106203803595244, 0.17088868610087748, 0.170698745299805, 0.17064910726403892, 0.17047042126981304, 0.17031749131963647, 0.17025053933864764, 0.17024534636923538, 0.17023320378279316, 0.17022677229601035, 0.17012739191409454, 0.17012005095526184, 0.17011869887817388, 0.17006130053416413, 0.16985699704426482, 0.1697947127080961, 0.16968872091971798, 0.169635381159146, 0.16946636007120153, 0.16929348079113082, 0.16925221064677476, 0.1692196707733804, 0.16869414555555262, 0.16866150035500915, 0.16864975761017376, 0.1685879598958009, 0.16858697651789967, 0.16844297851042844, 0.16826771748063485, 0.16812788597148265, 0.1681092125325394, 0.1681092125325394, 0.1681092125325394, 0.1678602254471887, 0.16761959637289392, 0.16757393639255103, 0.1675415283968984, 0.16752697688164453, 0.1674905812269708, 0.1673867283399907, 0.16733591635944423, 0.1671724301770593, 0.16711821138751548, 0.1669270308349795, 0.1668384590582226, 0.16665438279405997, 0.16647842829685922, 0.16643331969100184, 0.16638667590080725, 0.16635469463161012, 0.16624044833284535, 0.1659961632798571, 0.16565707130424046, 0.1656299102089147, 0.1655399875288044, 0.16551918321919556, 0.16549072292113465, 0.1654686121080533, 0.1654567375926036, 0.16542947886520343, 0.16535659970552286, 0.16530940803486538, 0.16514446868346955, 0.16504991849001338, 0.16486366559359888, 0.164836640343071, 0.16451289938812952, 0.16438707438568034, 0.16433206301383363, 0.16425540703681663, 0.16377909446546823, 0.16329874945070944, 0.16322134296106883, 0.1632126182093132, 0.16319404208380717, 0.1630182477248825, 0.16281238051982094, 0.16269606650278534, 0.16262900711909234, 0.1624615639505841, 0.16213980745196954, 0.16207209902502995, 0.16182731227543945, 0.1617880385675201, 0.1617855980762195, 0.16173992402314374, 0.1616512740994719, 0.1615611098981442, 0.16150707945913179, 0.16128776804091327, 0.16102693465513018, 0.16089942281405167, 0.16083876658698126, 0.16057117044638303, 0.16029220664612542, 0.16011265835995958, 0.1600067105415658, 0.15997802265597327, 0.15990667760632205, 0.15940585352482406, 0.15888827581480136, 0.15867235581651795, 0.1585354968717435, 0.15848038414332177, 0.15838939358125914, 0.15836909597391446, 0.158282977574006, 0.1581216866472357, 0.1579899747148623, 0.1578203391909312, 0.15771035185114113, 0.15766441347482152, 0.15765241875643476, 0.15748188354378645, 0.15708135110075838, 0.15660378808558628, 0.156293637076236, 0.15621736914010098, 0.15618465169130824, 0.15591316397821053, 0.1558624280398928, 0.15547662111238247, 0.15541307816126226, 0.15537380634307774, 0.15523628448306226, 0.1552247085901839, 0.15507518501474138, 0.15495726353614536, 0.15454478319813492, 0.15431072399562717, 0.15427367530331781, 0.15407111669982798, 0.15402721409182096, 0.15353001708168024, 0.15323001289442917, 0.15312045437448119, 0.15287963533719728, 0.15286033756454676, 0.1528254447125702, 0.15270327674955775, 0.15244792886872272, 0.15241279401268448, 0.15229866892079413, 0.15227436501605907, 0.15203943635259698, 0.15201805163755722, 0.15190928450260366, 0.15149955737362575, 0.15149723411466742, 0.15132687626215424, 0.15098091148597947, 0.1502288007545487, 0.1501170010008901, 0.1499721972088366, 0.14978484664459601, 0.14970202221617623, 0.14964774922129764, 0.1495656013104859, 0.1495194848876622, 0.14946384552193548, 0.14927853170197947, 0.149120090303261, 0.148931834122201, 0.14876912360202432, 0.14867797109909153, 0.1486487083290725, 0.14863891540436747, 0.14828224845363525, 0.1480825601849708, 0.14803932343313098, 0.14796090727825373, 0.14787675413709678, 0.14783784245581466, 0.1475528125453327, 0.1472285868479002, 0.14695829901766433, 0.14677019561148186, 0.14675719261165754, 0.14634822793273905, 0.1462088940018964, 0.1462088940018964, 0.14615926055326023, 0.14610460430700956, 0.14604524666448404, 0.14571523436078526, 0.1456457150963658, 0.14518130148873498, 0.14508971235048107, 0.14499008982325845, 0.14498537463945838, 0.14481444469025984, 0.14460633915825505, 0.1445845881106128, 0.14457642839047158, 0.14453333338968277, 0.14434367446038499, 0.14427583197853666, 0.14379496870392394, 0.1435683518737665, 0.14296002265514451, 0.14276107190645204, 0.1427564810327827, 0.14231701733811553, 0.14207684854643632, 0.14207299356227443, 0.14194837720355036, 0.14188566497748467, 0.14182777932898505, 0.1417964514800849, 0.14173929821551656, 0.14160233511685516, 0.14159033074734806, 0.14157783972473537, 0.14156011121609624, 0.14131992313034414, 0.14102384972759063, 0.14079812746687614, 0.14058015165271698, 0.1404344101114332, 0.14025579857899095, 0.13986932321706635, 0.13985377463960103, 0.13983987246452478, 0.13976335437374032, 0.139735147321443, 0.13969649365079584, 0.13952054569346695, 0.13927770747992074, 0.1392569863338543, 0.13910143310309386, 0.1390509093990715, 0.1390509093990715, 0.13901596606861333, 0.13901596606861333, 0.13901096554601222, 0.13870446983489748, 0.13869427911297227, 0.13831069313727085, 0.13758241490906342, 0.13695991358386606, 0.13695113044216378, 0.13691296589278945, 0.13687071626995584, 0.13686624206212006, 0.1366537144810911, 0.13663708698292165, 0.13654452894816294, 0.13650387394026398, 0.1364635241656018, 0.1362286777624946, 0.13618658378451154, 0.135878854770222, 0.13546455799188306, 0.13522257560614537, 0.13429467764885628, 0.1337477861354086, 0.1320955916286547, 0.1311409308502749, 0.1308244885553791, 0.13069220698893447, 0.13064575233763742, 0.13062220687442094, 0.13060768172504034, 0.13042786257130434, 0.13022390315781662, 0.13008868372256865, 0.13007910829881097, 0.13003852616925382, 0.12897939617358545, 0.1282052292757958, 0.127931954696635, 0.1273125046466056, 0.12692018616621747, 0.12648228042834653, 0.12638286920986097, 0.12628736866571866, 0.12625252707158996, 0.1262205157436066, 0.12578523924867258, 0.12549086867756754, 0.125305469689581, 0.12529548243716448, 0.12474930393991646, 0.12473636830207147, 0.1246008891670014, 0.12434814353698109, 0.12399663789704451, 0.12382629675345225, 0.12351544661590186, 0.12345882752312565, 0.12338576040730254, 0.12300122622918197, 0.12280088362751784, 0.12231417140519263, 0.12207216870006932, 0.12182702496997533, 0.12115390761229128, 0.12106835724803822, 0.12082882549285034, 0.12071032305193719, 0.12031546405825111, 0.12026077244347455, 0.1201824707376481, 0.12014094257353425, 0.1193291769702145, 0.11849674842942926, 0.11804745125924843, 0.11785155464914954, 0.11781765997261362, 0.11768454628171476, 0.11764340948883911, 0.1166028975769029, 0.11605764631133264, 0.11588749916829388, 0.11585031137128243, 0.11575012968086906, 0.11526702565981728, 0.1149243534412846, 0.11429416423495087, 0.11412164297053862, 0.11401230142177643, 0.1139129036869152, 0.11326516929969088, 0.11323345309594202, 0.11300976381981542, 0.11276557283213462, 0.11248210833103944, 0.11196194303222662, 0.11175152244300113, 0.11173110023495902, 0.11146606646799329, 0.11123641077795066, 0.11122475430464751, 0.11114660669773113, 0.11089501979643623, 0.11033003643361039, 0.11022751088942029, 0.10993646097896936, 0.10937992434250765, 0.10927341784933464, 0.10920525573295026, 0.10908444273202356, 0.10889660864940387, 0.10848321071335187, 0.10838423234206551, 0.108349119906329, 0.10830354332734526, 0.10783230400562971, 0.10773199614130291, 0.10739575598286444, 0.10708093295179988, 0.10699800454523212, 0.10640635516491892, 0.10635191911782593, 0.10608608645059237, 0.1058513979538177, 0.10569698132761807, 0.1050755510304674, 0.10454740210479052, 0.10442404080767054, 0.10423430220932717, 0.10390232512510744, 0.10390232512510744, 0.10390232512510744, 0.10381394516420417, 0.10331621508887268, 0.10324573980059448, 0.1032276959179157, 0.10321919930429047, 0.10292818005380144, 0.10218790257895605, 0.10217233345652121, 0.10198354519805186, 0.10134109296333604, 0.10133290722784538, 0.10128242180888203, 0.10103805156078238, 0.10078948979626623, 0.10068377906592607, 0.10061343990321647, 0.10050532142606305, 0.10045481344961837, 0.10025887434861191, 0.10006328931644337, 0.1000215921744706, 0.09970132290065703, 0.0992823216583093, 0.09920656148362494, 0.0989381568262706, 0.09881049429700861, 0.09875557359117149, 0.09864349551944018, 0.09850862947565253, 0.0983999993487853, 0.09818069075406832, 0.09775174951382204, 0.09701714208193657, 0.09691379154195445, 0.0969110732172862, 0.09682182145652862, 0.09621564657907988, 0.0953962893611836, 0.0953119509646867, 0.09490282430746078, 0.09455709908176613, 0.09379364151129366, 0.09357167459678717, 0.093489668586067, 0.09305436275610346, 0.09200033346023972, 0.09181670089883476, 0.0917981769766062, 0.09155294140387393, 0.09150387319038744, 0.09146471963487102, 0.09010604530758859, 0.08923058862468547, 0.08917658404606632, 0.08917658404606632, 0.08917658404606632, 0.08898419619594011, 0.08897401536996752, 0.0868386302862979, 0.08538491612102539, 0.08535444374739032, 0.0827648937763984, 0.08248656121756659, 0.08187683734225426, 0.07930124907221392, 0.07800801261189916, 0.07737495378518955, 0.07711876435031606, 0.07704848699967703, 0.07573098339716355, 0.0752687904681405, 0.07288659772382866, 0.07245185357870942, 0.07142361775081563, 0.07100367928984752, 0.06804523627867842, 0.0666669972949806, 0.06602770919819911, 0.06198725118659987, 0.049550496677069455, 0.04490538148501666, 0.04274247140201781, 0.0408058129758323, 0.034747678609764354, 0.032427045362837026, 0.014127373819045497]\n"
          ],
          "name": "stdout"
        }
      ]
    },
    {
      "cell_type": "code",
      "metadata": {
        "id": "WzNa_TOn1V6g"
      },
      "source": [
        "cosine_df = pd.DataFrame()\n",
        "cosine_df['cosine'] = result\n",
        "cosine_df['file'] = find.iloc[:,-1]\n"
      ],
      "execution_count": 46,
      "outputs": []
    },
    {
      "cell_type": "code",
      "metadata": {
        "id": "RDQTgVvH1Zpb"
      },
      "source": [
        "selected_file = cosine_df.nlargest(5, ['cosine'])"
      ],
      "execution_count": 47,
      "outputs": []
    },
    {
      "cell_type": "code",
      "metadata": {
        "colab": {
          "base_uri": "https://localhost:8080/"
        },
        "id": "jHNf7ZqB1gJI",
        "outputId": "c2fe9f97-1d4a-4308-f35f-79d62fdbde0e"
      },
      "source": [
        "recommended_list = []\n",
        "for file_name in selected_file['file']:\n",
        "  recommended_list.append(os.path.basename(file_name))\n",
        "recommended_list"
      ],
      "execution_count": 48,
      "outputs": [
        {
          "output_type": "execute_result",
          "data": {
            "text/plain": [
              "['Vincent_Augustus_-_chonk.mp3',\n",
              " 'Cryosyncopy_-_06_-_Flaying_with_Fire.mp3',\n",
              " '01_-_Until_We_Get_By.mp3',\n",
              " 'qKhlm3GJ6VWR6s8xBQhXrJ18szrxTBx0FTI3KWAw.mp3',\n",
              " 'Checkie_Brown_-_04_-_Hippie_Bulle_-_Stoned_Funghi_ID_213.mp3']"
            ]
          },
          "metadata": {
            "tags": []
          },
          "execution_count": 48
        }
      ]
    },
    {
      "cell_type": "code",
      "metadata": {
        "id": "Dz9C81PHd9mM"
      },
      "source": [
        "selected_cosine_file  = []\n",
        "for i in range(5):\n",
        "  selected_cosine_file.append(os.path.basename(selected_file.iloc[i,-1]))\n",
        "\n",
        "selected_file['file'] = recommended_list"
      ],
      "execution_count": 49,
      "outputs": []
    },
    {
      "cell_type": "code",
      "metadata": {
        "colab": {
          "base_uri": "https://localhost:8080/",
          "height": 195
        },
        "id": "aker7sJteRVs",
        "outputId": "919899db-d9fd-4ea6-c9b5-8227b651343a"
      },
      "source": [
        "selected_file"
      ],
      "execution_count": 50,
      "outputs": [
        {
          "output_type": "execute_result",
          "data": {
            "text/html": [
              "<div>\n",
              "<style scoped>\n",
              "    .dataframe tbody tr th:only-of-type {\n",
              "        vertical-align: middle;\n",
              "    }\n",
              "\n",
              "    .dataframe tbody tr th {\n",
              "        vertical-align: top;\n",
              "    }\n",
              "\n",
              "    .dataframe thead th {\n",
              "        text-align: right;\n",
              "    }\n",
              "</style>\n",
              "<table border=\"1\" class=\"dataframe\">\n",
              "  <thead>\n",
              "    <tr style=\"text-align: right;\">\n",
              "      <th></th>\n",
              "      <th>cosine</th>\n",
              "      <th>file</th>\n",
              "    </tr>\n",
              "  </thead>\n",
              "  <tbody>\n",
              "    <tr>\n",
              "      <th>1051</th>\n",
              "      <td>0.532059</td>\n",
              "      <td>Vincent_Augustus_-_chonk.mp3</td>\n",
              "    </tr>\n",
              "    <tr>\n",
              "      <th>3054</th>\n",
              "      <td>0.529410</td>\n",
              "      <td>Cryosyncopy_-_06_-_Flaying_with_Fire.mp3</td>\n",
              "    </tr>\n",
              "    <tr>\n",
              "      <th>2278</th>\n",
              "      <td>0.508936</td>\n",
              "      <td>01_-_Until_We_Get_By.mp3</td>\n",
              "    </tr>\n",
              "    <tr>\n",
              "      <th>2079</th>\n",
              "      <td>0.508885</td>\n",
              "      <td>qKhlm3GJ6VWR6s8xBQhXrJ18szrxTBx0FTI3KWAw.mp3</td>\n",
              "    </tr>\n",
              "    <tr>\n",
              "      <th>786</th>\n",
              "      <td>0.508618</td>\n",
              "      <td>Checkie_Brown_-_04_-_Hippie_Bulle_-_Stoned_Fun...</td>\n",
              "    </tr>\n",
              "  </tbody>\n",
              "</table>\n",
              "</div>"
            ],
            "text/plain": [
              "        cosine                                               file\n",
              "1051  0.532059                       Vincent_Augustus_-_chonk.mp3\n",
              "3054  0.529410           Cryosyncopy_-_06_-_Flaying_with_Fire.mp3\n",
              "2278  0.508936                           01_-_Until_We_Get_By.mp3\n",
              "2079  0.508885       qKhlm3GJ6VWR6s8xBQhXrJ18szrxTBx0FTI3KWAw.mp3\n",
              "786   0.508618  Checkie_Brown_-_04_-_Hippie_Bulle_-_Stoned_Fun..."
            ]
          },
          "metadata": {
            "tags": []
          },
          "execution_count": 50
        }
      ]
    },
    {
      "cell_type": "markdown",
      "metadata": {
        "id": "6fEJnP6O16yW"
      },
      "source": [
        "Manhattan Distance"
      ]
    },
    {
      "cell_type": "code",
      "metadata": {
        "id": "Fo1tan2R18mj"
      },
      "source": [
        "model_man = NearestNeighbors(metric = 'manhattan', algorithm = 'brute')\n",
        "model_man.fit(x_train)\n",
        "query_index = data1\n",
        "distances, indices = model_man.kneighbors(data1, n_neighbors = 6)\n",
        "manhattan = sorted(list(zip(indices.squeeze().tolist(), distances.squeeze().tolist())), \n",
        "                  key=lambda x: x[1])[:0:-1]"
      ],
      "execution_count": 51,
      "outputs": []
    },
    {
      "cell_type": "code",
      "metadata": {
        "colab": {
          "base_uri": "https://localhost:8080/"
        },
        "id": "6j1P-gSk2_l-",
        "outputId": "590724cc-171b-41b2-9549-5d97c11c06cd"
      },
      "source": [
        "print(manhattan[0][1])"
      ],
      "execution_count": 52,
      "outputs": [
        {
          "output_type": "stream",
          "text": [
            "9634.725221650579\n"
          ],
          "name": "stdout"
        }
      ]
    },
    {
      "cell_type": "code",
      "metadata": {
        "id": "6zjh57v52Yja"
      },
      "source": [
        "selected_manhattan_ind = []\n",
        "selected_manhattan_val = []\n",
        "for i in range(0,5):\n",
        "  selected_manhattan_ind.append(manhattan[i][0])\n",
        "  selected_manhattan_val.append(manhattan[i][1])"
      ],
      "execution_count": 53,
      "outputs": []
    },
    {
      "cell_type": "code",
      "metadata": {
        "colab": {
          "base_uri": "https://localhost:8080/"
        },
        "id": "RrZ3FhyQ2dJm",
        "outputId": "02a59ed5-89ad-4372-f393-eb392ec07de9"
      },
      "source": [
        "selected_manhattan_file = []\n",
        "for i in selected_manhattan_ind:\n",
        "  selected_manhattan_file.append(os.path.basename(find.iloc[i][29]))\n",
        "selected_manhattan_file"
      ],
      "execution_count": 54,
      "outputs": [
        {
          "output_type": "execute_result",
          "data": {
            "text/plain": [
              "['song_rock26.mp3',\n",
              " 'song_folk7.mp3',\n",
              " 'song_folk19.mp3',\n",
              " 'fcFBh9648gcBxN2f811b1b8PMenVcZIU42Ph0vp2.mp3',\n",
              " 'song_hip42.mp3']"
            ]
          },
          "metadata": {
            "tags": []
          },
          "execution_count": 54
        }
      ]
    },
    {
      "cell_type": "code",
      "metadata": {
        "colab": {
          "base_uri": "https://localhost:8080/",
          "height": 195
        },
        "id": "pYoH3fhMg4jE",
        "outputId": "28fdf6cb-6c2e-4b79-ef48-033a61272273"
      },
      "source": [
        "manhattan_op = pd.DataFrame()\n",
        "manhattan_op['Manhattan Distance'] = selected_manhattan_val\n",
        "manhattan_op['File'] = selected_manhattan_file\n",
        "manhattan_op"
      ],
      "execution_count": 55,
      "outputs": [
        {
          "output_type": "execute_result",
          "data": {
            "text/html": [
              "<div>\n",
              "<style scoped>\n",
              "    .dataframe tbody tr th:only-of-type {\n",
              "        vertical-align: middle;\n",
              "    }\n",
              "\n",
              "    .dataframe tbody tr th {\n",
              "        vertical-align: top;\n",
              "    }\n",
              "\n",
              "    .dataframe thead th {\n",
              "        text-align: right;\n",
              "    }\n",
              "</style>\n",
              "<table border=\"1\" class=\"dataframe\">\n",
              "  <thead>\n",
              "    <tr style=\"text-align: right;\">\n",
              "      <th></th>\n",
              "      <th>Manhattan Distance</th>\n",
              "      <th>File</th>\n",
              "    </tr>\n",
              "  </thead>\n",
              "  <tbody>\n",
              "    <tr>\n",
              "      <th>0</th>\n",
              "      <td>9634.725222</td>\n",
              "      <td>song_rock26.mp3</td>\n",
              "    </tr>\n",
              "    <tr>\n",
              "      <th>1</th>\n",
              "      <td>9634.711696</td>\n",
              "      <td>song_folk7.mp3</td>\n",
              "    </tr>\n",
              "    <tr>\n",
              "      <th>2</th>\n",
              "      <td>9634.695896</td>\n",
              "      <td>song_folk19.mp3</td>\n",
              "    </tr>\n",
              "    <tr>\n",
              "      <th>3</th>\n",
              "      <td>9634.685807</td>\n",
              "      <td>fcFBh9648gcBxN2f811b1b8PMenVcZIU42Ph0vp2.mp3</td>\n",
              "    </tr>\n",
              "    <tr>\n",
              "      <th>4</th>\n",
              "      <td>9634.683553</td>\n",
              "      <td>song_hip42.mp3</td>\n",
              "    </tr>\n",
              "  </tbody>\n",
              "</table>\n",
              "</div>"
            ],
            "text/plain": [
              "   Manhattan Distance                                          File\n",
              "0         9634.725222                               song_rock26.mp3\n",
              "1         9634.711696                                song_folk7.mp3\n",
              "2         9634.695896                               song_folk19.mp3\n",
              "3         9634.685807  fcFBh9648gcBxN2f811b1b8PMenVcZIU42Ph0vp2.mp3\n",
              "4         9634.683553                                song_hip42.mp3"
            ]
          },
          "metadata": {
            "tags": []
          },
          "execution_count": 55
        }
      ]
    },
    {
      "cell_type": "markdown",
      "metadata": {
        "id": "7ihytEkr1kEH"
      },
      "source": [
        "KNN"
      ]
    },
    {
      "cell_type": "code",
      "metadata": {
        "colab": {
          "base_uri": "https://localhost:8080/"
        },
        "id": "YT4Z0QRQ1lVj",
        "outputId": "6e318c05-c37f-408f-c9fd-e520892df07c"
      },
      "source": [
        "model_knn = NearestNeighbors(metric = 'cosine', algorithm = 'brute')\n",
        "model_knn.fit(x_train)"
      ],
      "execution_count": 56,
      "outputs": [
        {
          "output_type": "execute_result",
          "data": {
            "text/plain": [
              "NearestNeighbors(algorithm='brute', leaf_size=30, metric='cosine',\n",
              "                 metric_params=None, n_jobs=None, n_neighbors=5, p=2,\n",
              "                 radius=1.0)"
            ]
          },
          "metadata": {
            "tags": []
          },
          "execution_count": 56
        }
      ]
    },
    {
      "cell_type": "code",
      "metadata": {
        "id": "sPqyZAG51qmM"
      },
      "source": [
        "query_index = data1\n",
        "distances, indices = model_knn.kneighbors(data1, n_neighbors = 23)"
      ],
      "execution_count": 57,
      "outputs": []
    },
    {
      "cell_type": "code",
      "metadata": {
        "id": "ZZigeJ2Z1sjx"
      },
      "source": [
        "knn = sorted(list(zip(indices.squeeze().tolist(), distances.squeeze().tolist())), \n",
        "                  key=lambda x: x[1])[:0:-1]"
      ],
      "execution_count": 58,
      "outputs": []
    },
    {
      "cell_type": "code",
      "metadata": {
        "colab": {
          "base_uri": "https://localhost:8080/"
        },
        "id": "Xpu7IPGY24X_",
        "outputId": "5fda3aef-e992-4962-f5a1-5692cb2a105e"
      },
      "source": [
        "print(knn)"
      ],
      "execution_count": 59,
      "outputs": [
        {
          "output_type": "stream",
          "text": [
            "[(1070, 0.49197882662362113), (2031, 0.49196078945604793), (49, 0.49172323629859915), (503, 0.4917139332410241), (223, 0.4916563055569638), (3309, 0.4915721789149551), (3132, 0.4915579271386079), (609, 0.491442168759037), (2328, 0.4913787338949466), (2175, 0.49136889956873175), (3443, 0.49134460379577616), (1162, 0.4913006061169659), (483, 0.4911103558209018), (2615, 0.49105267770789207), (982, 0.4909977058061562), (803, 0.4909423331909796), (969, 0.4909056271967296), (1372, 0.49071951647764844), (594, 0.4906306864714409), (542, 0.4905479049773158), (1424, 0.49026053445654516), (1813, 0.4892712254631466)]\n"
          ],
          "name": "stdout"
        }
      ]
    },
    {
      "cell_type": "code",
      "metadata": {
        "id": "F8pizmvA1yFP"
      },
      "source": [
        "selected_knn_ind = []\n",
        "selected_knn_val = []\n",
        "for i in range(0,5):\n",
        "  selected_knn_ind.append(knn[i][0])\n",
        "  selected_knn_val.append(knn[i][1])"
      ],
      "execution_count": 60,
      "outputs": []
    },
    {
      "cell_type": "code",
      "metadata": {
        "colab": {
          "base_uri": "https://localhost:8080/"
        },
        "id": "tOSUoaJl1zlW",
        "outputId": "30fc277d-6457-410c-870d-8a7ad69f82b1"
      },
      "source": [
        "selected_knn_file = []\n",
        "for i in selected_knn_ind:\n",
        "  selected_knn_file.append(os.path.basename(find.iloc[i][29]))\n",
        "selected_knn_file"
      ],
      "execution_count": 61,
      "outputs": [
        {
          "output_type": "execute_result",
          "data": {
            "text/plain": [
              "['Audiobinger_-_Enchanted_Forest.mp3',\n",
              " '9jWyFp6sbcI1xZxfecT8AYYvOfXqQ7sMzdZlz499.mp3',\n",
              " 'Scott_Holmes_-_07_-_Inspirational_Outlook.mp3',\n",
              " 'Checkie_Brown_-_07_-_Freeze_CB_31.mp3',\n",
              " 'Silva_de_Alegria_-_09_-_El_Sonido_de_la_Vida.mp3']"
            ]
          },
          "metadata": {
            "tags": []
          },
          "execution_count": 61
        }
      ]
    },
    {
      "cell_type": "code",
      "metadata": {
        "colab": {
          "base_uri": "https://localhost:8080/",
          "height": 195
        },
        "id": "7HZzG9bWiBnF",
        "outputId": "28222f11-fdee-4f7e-dccb-fe6909a4afaa"
      },
      "source": [
        "knn_op = pd.DataFrame()\n",
        "knn_op['Weight'] = selected_knn_val\n",
        "knn_op['File'] = selected_knn_file\n",
        "knn_op"
      ],
      "execution_count": 62,
      "outputs": [
        {
          "output_type": "execute_result",
          "data": {
            "text/html": [
              "<div>\n",
              "<style scoped>\n",
              "    .dataframe tbody tr th:only-of-type {\n",
              "        vertical-align: middle;\n",
              "    }\n",
              "\n",
              "    .dataframe tbody tr th {\n",
              "        vertical-align: top;\n",
              "    }\n",
              "\n",
              "    .dataframe thead th {\n",
              "        text-align: right;\n",
              "    }\n",
              "</style>\n",
              "<table border=\"1\" class=\"dataframe\">\n",
              "  <thead>\n",
              "    <tr style=\"text-align: right;\">\n",
              "      <th></th>\n",
              "      <th>Weight</th>\n",
              "      <th>File</th>\n",
              "    </tr>\n",
              "  </thead>\n",
              "  <tbody>\n",
              "    <tr>\n",
              "      <th>0</th>\n",
              "      <td>0.491979</td>\n",
              "      <td>Audiobinger_-_Enchanted_Forest.mp3</td>\n",
              "    </tr>\n",
              "    <tr>\n",
              "      <th>1</th>\n",
              "      <td>0.491961</td>\n",
              "      <td>9jWyFp6sbcI1xZxfecT8AYYvOfXqQ7sMzdZlz499.mp3</td>\n",
              "    </tr>\n",
              "    <tr>\n",
              "      <th>2</th>\n",
              "      <td>0.491723</td>\n",
              "      <td>Scott_Holmes_-_07_-_Inspirational_Outlook.mp3</td>\n",
              "    </tr>\n",
              "    <tr>\n",
              "      <th>3</th>\n",
              "      <td>0.491714</td>\n",
              "      <td>Checkie_Brown_-_07_-_Freeze_CB_31.mp3</td>\n",
              "    </tr>\n",
              "    <tr>\n",
              "      <th>4</th>\n",
              "      <td>0.491656</td>\n",
              "      <td>Silva_de_Alegria_-_09_-_El_Sonido_de_la_Vida.mp3</td>\n",
              "    </tr>\n",
              "  </tbody>\n",
              "</table>\n",
              "</div>"
            ],
            "text/plain": [
              "     Weight                                              File\n",
              "0  0.491979                Audiobinger_-_Enchanted_Forest.mp3\n",
              "1  0.491961      9jWyFp6sbcI1xZxfecT8AYYvOfXqQ7sMzdZlz499.mp3\n",
              "2  0.491723     Scott_Holmes_-_07_-_Inspirational_Outlook.mp3\n",
              "3  0.491714             Checkie_Brown_-_07_-_Freeze_CB_31.mp3\n",
              "4  0.491656  Silva_de_Alegria_-_09_-_El_Sonido_de_la_Vida.mp3"
            ]
          },
          "metadata": {
            "tags": []
          },
          "execution_count": 62
        }
      ]
    },
    {
      "cell_type": "code",
      "metadata": {
        "colab": {
          "base_uri": "https://localhost:8080/"
        },
        "id": "mz8Zy8xpngSs",
        "outputId": "48651fd7-c016-4e61-b00e-86634ea8ed92"
      },
      "source": [
        "!pip install PyRouge"
      ],
      "execution_count": 63,
      "outputs": [
        {
          "output_type": "stream",
          "text": [
            "Requirement already satisfied: PyRouge in /usr/local/lib/python3.7/dist-packages (0.1.3)\n"
          ],
          "name": "stdout"
        }
      ]
    },
    {
      "cell_type": "code",
      "metadata": {
        "colab": {
          "base_uri": "https://localhost:8080/"
        },
        "id": "BXycfwNqoIdV",
        "outputId": "07954e28-6f4a-44ef-9259-96567f550278"
      },
      "source": [
        "pip install rouge"
      ],
      "execution_count": 64,
      "outputs": [
        {
          "output_type": "stream",
          "text": [
            "Requirement already satisfied: rouge in /usr/local/lib/python3.7/dist-packages (1.0.0)\n",
            "Requirement already satisfied: six in /usr/local/lib/python3.7/dist-packages (from rouge) (1.15.0)\n"
          ],
          "name": "stdout"
        }
      ]
    },
    {
      "cell_type": "code",
      "metadata": {
        "colab": {
          "base_uri": "https://localhost:8080/"
        },
        "id": "vXq_bWaXoLv1",
        "outputId": "8b342e36-9519-4dfb-8738-31ae23fcdbb3"
      },
      "source": [
        "pip install rouge-score"
      ],
      "execution_count": 65,
      "outputs": [
        {
          "output_type": "stream",
          "text": [
            "Requirement already satisfied: rouge-score in /usr/local/lib/python3.7/dist-packages (0.0.4)\n",
            "Requirement already satisfied: numpy in /usr/local/lib/python3.7/dist-packages (from rouge-score) (1.19.5)\n",
            "Requirement already satisfied: absl-py in /usr/local/lib/python3.7/dist-packages (from rouge-score) (0.12.0)\n",
            "Requirement already satisfied: six>=1.14.0 in /usr/local/lib/python3.7/dist-packages (from rouge-score) (1.15.0)\n",
            "Requirement already satisfied: nltk in /usr/local/lib/python3.7/dist-packages (from rouge-score) (3.2.5)\n"
          ],
          "name": "stdout"
        }
      ]
    },
    {
      "cell_type": "code",
      "metadata": {
        "id": "p1jZzNZUneSb"
      },
      "source": [
        ""
      ],
      "execution_count": 65,
      "outputs": []
    },
    {
      "cell_type": "code",
      "metadata": {
        "id": "dKNaPhFXoonz"
      },
      "source": [
        ""
      ],
      "execution_count": 65,
      "outputs": []
    }
  ]
}